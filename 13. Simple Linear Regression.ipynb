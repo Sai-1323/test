{
 "cells": [
  {
   "cell_type": "markdown",
   "id": "208dd856",
   "metadata": {},
   "source": [
    "# Simple Linear Regression Model"
   ]
  },
  {
   "cell_type": "code",
   "execution_count": 3,
   "id": "7cfc4821",
   "metadata": {},
   "outputs": [],
   "source": [
    "#Step 1: Import the necessary libraries\n",
    "\n",
    "import matplotlib.pyplot as plt\n",
    "import numpy as np\n",
    "import pandas as pd\n",
    "from sklearn import datasets, linear_model, metrics"
   ]
  },
  {
   "cell_type": "code",
   "execution_count": 7,
   "id": "a14c9a6d",
   "metadata": {},
   "outputs": [],
   "source": [
    "# Step 2: # load the boston dataset\n",
    "\n",
    "#boston = datasets.load_boston(return_X_y=False)\n",
    "\n",
    "boston = pd.read_csv('C:/Users/lenovo/Desktop/DS Lab Week Wise/Week-5-Regression_model/Boston.csv')"
   ]
  },
  {
   "cell_type": "code",
   "execution_count": 8,
   "id": "da14ab64",
   "metadata": {},
   "outputs": [
    {
     "data": {
      "text/html": [
       "<div>\n",
       "<style scoped>\n",
       "    .dataframe tbody tr th:only-of-type {\n",
       "        vertical-align: middle;\n",
       "    }\n",
       "\n",
       "    .dataframe tbody tr th {\n",
       "        vertical-align: top;\n",
       "    }\n",
       "\n",
       "    .dataframe thead th {\n",
       "        text-align: right;\n",
       "    }\n",
       "</style>\n",
       "<table border=\"1\" class=\"dataframe\">\n",
       "  <thead>\n",
       "    <tr style=\"text-align: right;\">\n",
       "      <th></th>\n",
       "      <th>Unnamed: 0</th>\n",
       "      <th>crim</th>\n",
       "      <th>zn</th>\n",
       "      <th>indus</th>\n",
       "      <th>chas</th>\n",
       "      <th>nox</th>\n",
       "      <th>rm</th>\n",
       "      <th>age</th>\n",
       "      <th>dis</th>\n",
       "      <th>rad</th>\n",
       "      <th>tax</th>\n",
       "      <th>ptratio</th>\n",
       "      <th>black</th>\n",
       "      <th>lstat</th>\n",
       "      <th>medv</th>\n",
       "    </tr>\n",
       "  </thead>\n",
       "  <tbody>\n",
       "    <tr>\n",
       "      <th>0</th>\n",
       "      <td>1</td>\n",
       "      <td>0.00632</td>\n",
       "      <td>18.0</td>\n",
       "      <td>2.31</td>\n",
       "      <td>0</td>\n",
       "      <td>0.538</td>\n",
       "      <td>6.575</td>\n",
       "      <td>65.2</td>\n",
       "      <td>4.0900</td>\n",
       "      <td>1</td>\n",
       "      <td>296</td>\n",
       "      <td>15.3</td>\n",
       "      <td>396.90</td>\n",
       "      <td>4.98</td>\n",
       "      <td>24.0</td>\n",
       "    </tr>\n",
       "    <tr>\n",
       "      <th>1</th>\n",
       "      <td>2</td>\n",
       "      <td>0.02731</td>\n",
       "      <td>0.0</td>\n",
       "      <td>7.07</td>\n",
       "      <td>0</td>\n",
       "      <td>0.469</td>\n",
       "      <td>6.421</td>\n",
       "      <td>78.9</td>\n",
       "      <td>4.9671</td>\n",
       "      <td>2</td>\n",
       "      <td>242</td>\n",
       "      <td>17.8</td>\n",
       "      <td>396.90</td>\n",
       "      <td>9.14</td>\n",
       "      <td>21.6</td>\n",
       "    </tr>\n",
       "    <tr>\n",
       "      <th>2</th>\n",
       "      <td>3</td>\n",
       "      <td>0.02729</td>\n",
       "      <td>0.0</td>\n",
       "      <td>7.07</td>\n",
       "      <td>0</td>\n",
       "      <td>0.469</td>\n",
       "      <td>7.185</td>\n",
       "      <td>61.1</td>\n",
       "      <td>4.9671</td>\n",
       "      <td>2</td>\n",
       "      <td>242</td>\n",
       "      <td>17.8</td>\n",
       "      <td>392.83</td>\n",
       "      <td>4.03</td>\n",
       "      <td>34.7</td>\n",
       "    </tr>\n",
       "    <tr>\n",
       "      <th>3</th>\n",
       "      <td>4</td>\n",
       "      <td>0.03237</td>\n",
       "      <td>0.0</td>\n",
       "      <td>2.18</td>\n",
       "      <td>0</td>\n",
       "      <td>0.458</td>\n",
       "      <td>6.998</td>\n",
       "      <td>45.8</td>\n",
       "      <td>6.0622</td>\n",
       "      <td>3</td>\n",
       "      <td>222</td>\n",
       "      <td>18.7</td>\n",
       "      <td>394.63</td>\n",
       "      <td>2.94</td>\n",
       "      <td>33.4</td>\n",
       "    </tr>\n",
       "    <tr>\n",
       "      <th>4</th>\n",
       "      <td>5</td>\n",
       "      <td>0.06905</td>\n",
       "      <td>0.0</td>\n",
       "      <td>2.18</td>\n",
       "      <td>0</td>\n",
       "      <td>0.458</td>\n",
       "      <td>7.147</td>\n",
       "      <td>54.2</td>\n",
       "      <td>6.0622</td>\n",
       "      <td>3</td>\n",
       "      <td>222</td>\n",
       "      <td>18.7</td>\n",
       "      <td>396.90</td>\n",
       "      <td>5.33</td>\n",
       "      <td>36.2</td>\n",
       "    </tr>\n",
       "  </tbody>\n",
       "</table>\n",
       "</div>"
      ],
      "text/plain": [
       "   Unnamed: 0     crim    zn  indus  chas    nox     rm   age     dis  rad  \\\n",
       "0           1  0.00632  18.0   2.31     0  0.538  6.575  65.2  4.0900    1   \n",
       "1           2  0.02731   0.0   7.07     0  0.469  6.421  78.9  4.9671    2   \n",
       "2           3  0.02729   0.0   7.07     0  0.469  7.185  61.1  4.9671    2   \n",
       "3           4  0.03237   0.0   2.18     0  0.458  6.998  45.8  6.0622    3   \n",
       "4           5  0.06905   0.0   2.18     0  0.458  7.147  54.2  6.0622    3   \n",
       "\n",
       "   tax  ptratio   black  lstat  medv  \n",
       "0  296     15.3  396.90   4.98  24.0  \n",
       "1  242     17.8  396.90   9.14  21.6  \n",
       "2  242     17.8  392.83   4.03  34.7  \n",
       "3  222     18.7  394.63   2.94  33.4  \n",
       "4  222     18.7  396.90   5.33  36.2  "
      ]
     },
     "execution_count": 8,
     "metadata": {},
     "output_type": "execute_result"
    }
   ],
   "source": [
    "# Displaying the dataset\n",
    "\n",
    "boston.head()"
   ]
  },
  {
   "cell_type": "code",
   "execution_count": 11,
   "id": "9e0349a9",
   "metadata": {},
   "outputs": [],
   "source": [
    "# Step 3: Having the glance at independent and dependent variable\n",
    "\n",
    "boston = boston.loc[:,['lstat','medv']]"
   ]
  },
  {
   "cell_type": "code",
   "execution_count": 13,
   "id": "d05617e7",
   "metadata": {},
   "outputs": [
    {
     "data": {
      "text/html": [
       "<div>\n",
       "<style scoped>\n",
       "    .dataframe tbody tr th:only-of-type {\n",
       "        vertical-align: middle;\n",
       "    }\n",
       "\n",
       "    .dataframe tbody tr th {\n",
       "        vertical-align: top;\n",
       "    }\n",
       "\n",
       "    .dataframe thead th {\n",
       "        text-align: right;\n",
       "    }\n",
       "</style>\n",
       "<table border=\"1\" class=\"dataframe\">\n",
       "  <thead>\n",
       "    <tr style=\"text-align: right;\">\n",
       "      <th></th>\n",
       "      <th>lstat</th>\n",
       "      <th>medv</th>\n",
       "    </tr>\n",
       "  </thead>\n",
       "  <tbody>\n",
       "    <tr>\n",
       "      <th>0</th>\n",
       "      <td>4.98</td>\n",
       "      <td>24.0</td>\n",
       "    </tr>\n",
       "    <tr>\n",
       "      <th>1</th>\n",
       "      <td>9.14</td>\n",
       "      <td>21.6</td>\n",
       "    </tr>\n",
       "    <tr>\n",
       "      <th>2</th>\n",
       "      <td>4.03</td>\n",
       "      <td>34.7</td>\n",
       "    </tr>\n",
       "    <tr>\n",
       "      <th>3</th>\n",
       "      <td>2.94</td>\n",
       "      <td>33.4</td>\n",
       "    </tr>\n",
       "    <tr>\n",
       "      <th>4</th>\n",
       "      <td>5.33</td>\n",
       "      <td>36.2</td>\n",
       "    </tr>\n",
       "    <tr>\n",
       "      <th>5</th>\n",
       "      <td>5.21</td>\n",
       "      <td>28.7</td>\n",
       "    </tr>\n",
       "    <tr>\n",
       "      <th>6</th>\n",
       "      <td>12.43</td>\n",
       "      <td>22.9</td>\n",
       "    </tr>\n",
       "    <tr>\n",
       "      <th>7</th>\n",
       "      <td>19.15</td>\n",
       "      <td>27.1</td>\n",
       "    </tr>\n",
       "    <tr>\n",
       "      <th>8</th>\n",
       "      <td>29.93</td>\n",
       "      <td>16.5</td>\n",
       "    </tr>\n",
       "    <tr>\n",
       "      <th>9</th>\n",
       "      <td>17.10</td>\n",
       "      <td>18.9</td>\n",
       "    </tr>\n",
       "  </tbody>\n",
       "</table>\n",
       "</div>"
      ],
      "text/plain": [
       "   lstat  medv\n",
       "0   4.98  24.0\n",
       "1   9.14  21.6\n",
       "2   4.03  34.7\n",
       "3   2.94  33.4\n",
       "4   5.33  36.2\n",
       "5   5.21  28.7\n",
       "6  12.43  22.9\n",
       "7  19.15  27.1\n",
       "8  29.93  16.5\n",
       "9  17.10  18.9"
      ]
     },
     "execution_count": 13,
     "metadata": {},
     "output_type": "execute_result"
    }
   ],
   "source": [
    "# Displaing the new dataset\n",
    "\n",
    "boston.head(10)"
   ]
  },
  {
   "cell_type": "code",
   "execution_count": 14,
   "id": "7e9f54b4",
   "metadata": {},
   "outputs": [
    {
     "data": {
      "image/png": "[encoded data removed]",
      "text/plain": [
       "<Figure size 432x288 with 1 Axes>"
      ]
     },
     "metadata": {
      "needs_background": "light"
     },
     "output_type": "display_data"
    }
   ],
   "source": [
    "# Step 4: Visualizing the change in the variables\n",
    "\n",
    "boston.plot(x = 'lstat', y = 'medv', style = 'o')\n",
    "plt.xlabel('lstat')\n",
    "plt.ylabel('medv')\n",
    "plt.show()"
   ]
  },
  {
   "cell_type": "code",
   "execution_count": 16,
   "id": "f76207af",
   "metadata": {},
   "outputs": [
    {
     "data": {
      "text/plain": [
       "0      4.98\n",
       "1      9.14\n",
       "2      4.03\n",
       "3      2.94\n",
       "4      5.33\n",
       "       ... \n",
       "501    9.67\n",
       "502    9.08\n",
       "503    5.64\n",
       "504    6.48\n",
       "505    7.88\n",
       "Name: lstat, Length: 506, dtype: float64"
      ]
     },
     "execution_count": 16,
     "metadata": {},
     "output_type": "execute_result"
    }
   ],
   "source": [
    "# Step 5: Dividing the dataset into dependent and independent variables\n",
    "\n",
    "x = boston['lstat']\n",
    "y = boston['medv']\n",
    "\n",
    "x"
   ]
  },
  {
   "cell_type": "code",
   "execution_count": 17,
   "id": "a5da1e57",
   "metadata": {},
   "outputs": [],
   "source": [
    "# Step 6: Spliting the data into train and test sets\n",
    "\n",
    "from sklearn.model_selection import train_test_split\n",
    "x_train, x_test, y_train, y_test = train_test_split(x, y, test_size=0.4,random_state=1)"
   ]
  },
  {
   "cell_type": "code",
   "execution_count": 18,
   "id": "5d1b6f68",
   "metadata": {},
   "outputs": [
    {
     "name": "stdout",
     "output_type": "stream",
     "text": [
      "(303,)\n",
      "(203,)\n",
      "(303,)\n",
      "(203,)\n"
     ]
    }
   ],
   "source": [
    "# Checking the shapes of the train and test sets\n",
    "\n",
    "print(x_train.shape)\n",
    "print(x_test.shape)\n",
    "print(y_train.shape)\n",
    "print(y_test.shape)"
   ]
  },
  {
   "cell_type": "code",
   "execution_count": 30,
   "id": "43e3be4d",
   "metadata": {},
   "outputs": [
    {
     "name": "stderr",
     "output_type": "stream",
     "text": [
      "C:\\Users\\lenovo\\AppData\\Local\\Temp/ipykernel_6060/296195278.py:3: FutureWarning: Support for multi-dimensional indexing (e.g. `obj[:, None]`) is deprecated and will be removed in a future version.  Convert to a numpy array before indexing instead.\n",
      "  x_test = x_test[:, None]\n"
     ]
    }
   ],
   "source": [
    "x_train = x_train[:, None] \n",
    "\n",
    "x_test = x_test[:, None]"
   ]
  },
  {
   "cell_type": "code",
   "execution_count": 23,
   "id": "47b0a188",
   "metadata": {},
   "outputs": [
    {
     "data": {
      "text/plain": [
       "LinearRegression()"
      ]
     },
     "execution_count": 23,
     "metadata": {},
     "output_type": "execute_result"
    }
   ],
   "source": [
    "# Step 7: Training the algorithm\n",
    "\n",
    "from sklearn.linear_model import LinearRegression\n",
    "\n",
    "lregressor = LinearRegression()\n",
    "lregressor.fit(x_train.reshape(-1, 1),y_train)"
   ]
  },
  {
   "cell_type": "code",
   "execution_count": 31,
   "id": "997ec90e",
   "metadata": {},
   "outputs": [],
   "source": [
    "# Step 8: Predicting the y values from the built model\n",
    "\n",
    "y_pred = lregressor.predict(x_test)"
   ]
  },
  {
   "cell_type": "code",
   "execution_count": 24,
   "id": "01282897",
   "metadata": {},
   "outputs": [
    {
     "name": "stdout",
     "output_type": "stream",
     "text": [
      "34.13076276013123\n"
     ]
    }
   ],
   "source": [
    "# Step 9: Retrieving the intercept\n",
    "\n",
    "print(lregressor.intercept_)"
   ]
  },
  {
   "cell_type": "code",
   "execution_count": 25,
   "id": "61d8478b",
   "metadata": {},
   "outputs": [
    {
     "name": "stdout",
     "output_type": "stream",
     "text": [
      "[-0.91573274]\n"
     ]
    }
   ],
   "source": [
    "# Step 10: Retrieving the slope\n",
    "\n",
    "print(lregressor.coef_)"
   ]
  },
  {
   "cell_type": "code",
   "execution_count": 32,
   "id": "151650b5",
   "metadata": {},
   "outputs": [
    {
     "data": {
      "text/plain": [
       "array([27.23529525, 27.55580171, 16.91498731, 26.71332759, 24.79944617,\n",
       "       23.94781473, 29.8268189 , 22.18960787, 17.72083211, 26.06315735,\n",
       "       27.04299138, 29.90923484, 21.66764021, 24.75365953, 23.39837508,\n",
       "       23.02292466, 12.84913395, 29.89092019, 27.32686852,  7.08917504,\n",
       "       23.59983629, 18.88381269, 25.63276296, 28.52647841, 29.85429088,\n",
       "       11.79604131, 15.50475889, 24.48809704, 27.48254309, 15.0377352 ,\n",
       "       29.10339003, 17.22633644, 31.49345248, 19.07611657, 25.80675218,\n",
       "       21.68595487, 17.83987737, 29.24990727, 12.75756068, 20.41308636,\n",
       "       27.40928447, 27.94956679, 27.17119396, 12.0616038 , 17.62010151,\n",
       "       13.30700032, 32.37255591, 19.15853251, 25.14742461, 24.39652377,\n",
       "       23.45331905, 23.85624145, 29.3597952 , 23.96612938,  6.95181513,\n",
       "       27.96788144,  6.68625263, 28.65468099, 20.69696351, 30.51361845,\n",
       "       20.37645705, 28.15102799, 15.88936664, 17.97723728,  7.07086038,\n",
       "       29.51546977, 31.8689029 , 26.20967459, 24.6071423 , 23.4716337 ,\n",
       "       28.49900643,  8.23384096, 21.31050444, 23.16028457, 21.2280885 ,\n",
       "       24.58882764, 31.42019386, 26.59428234, 27.36349783, 30.87075422,\n",
       "       20.03763594, 24.69871557, 29.19496331, 12.82166197, 28.65468099,\n",
       "       29.57957106, 16.44796361, 29.47884046, 21.21893117, 18.59993554,\n",
       "       28.96603012, 29.44221115, 17.5834722 , 22.74820484, 20.83432342,\n",
       "       21.97898934, 25.27562719, 26.65838363, 30.33962923, 22.22623718,\n",
       "       19.76291612, 16.86920067, 28.81035556, 27.84883618,  5.91703714,\n",
       "       22.83062079, 18.41678899, 29.09423271, 22.08887727, 27.10709267,\n",
       "       31.23704731, 25.85253882, 14.42419426, 28.20597195, 26.99720474,\n",
       "       31.50260981, 25.2115259 , 23.42584707, 32.31761194, 27.3177112 ,\n",
       "       25.00090737, 16.99740325, 29.69861631, 21.13651522, 25.42214443,\n",
       "       22.2994958 , 26.27377588, 25.81590951, 20.67864885, 29.28653658,\n",
       "       21.17314453, 24.64377161, 28.44406246, 10.61474608, 27.5191724 ,\n",
       "       27.78473489,  9.57081076, 16.72268343, 27.20782327, 18.37100236,\n",
       "       29.03013142, 17.22633644, 17.04318989, 28.30670255, 31.08137275,\n",
       "       25.74265089, 27.53748705, 14.60734081, 28.04114006, 17.71167479,\n",
       "       25.34888581, 15.92599595, 26.56681035, 20.90758204, 14.68059943,\n",
       "       30.17479734, 27.61074567, 27.0521487 , 20.70612084, 25.39467245,\n",
       "       30.86159689, 29.28653658, 28.12355601, 19.75375879, 21.21893117,\n",
       "       22.29033847, 28.30670255, 12.43705422, 18.38931701, 27.97703877,\n",
       "       24.7078729 , 17.59262953, 18.30690107, 28.91108616, 20.61454756,\n",
       "       27.22613792, 28.01366808, 23.11449793, 32.54654513, 26.081472  ,\n",
       "       14.47913823, 26.62175432, 14.69891408, 26.2463039 , 11.64036674,\n",
       "       20.56876093, 24.83607548, 28.10524135, 25.68770693, 20.97168333,\n",
       "       19.74460146, 17.52852824, 22.22623718, 21.82331478, 26.91478879,\n",
       "       20.66949153, 29.9275495 , 25.62360563, 30.05575208, 25.99905606,\n",
       "       18.93875665,  2.65702859, 25.54118969])"
      ]
     },
     "execution_count": 32,
     "metadata": {},
     "output_type": "execute_result"
    }
   ],
   "source": [
    "# Step 11: Printing the predicted values\n",
    "\n",
    "y_pred"
   ]
  },
  {
   "cell_type": "code",
   "execution_count": 27,
   "id": "7e16eff9",
   "metadata": {},
   "outputs": [
    {
     "data": {
      "text/plain": [
       "307    28.2\n",
       "343    23.9\n",
       "47     16.6\n",
       "67     22.0\n",
       "362    20.8\n",
       "       ... \n",
       "186    50.0\n",
       "372    50.0\n",
       "442    18.4\n",
       "412    17.9\n",
       "213    28.1\n",
       "Name: medv, Length: 203, dtype: float64"
      ]
     },
     "execution_count": 27,
     "metadata": {},
     "output_type": "execute_result"
    }
   ],
   "source": [
    "# Step 12: Printing the Actual values\n",
    "\n",
    "y_test"
   ]
  },
  {
   "cell_type": "code",
   "execution_count": 33,
   "id": "9b0d1b42",
   "metadata": {},
   "outputs": [
    {
     "name": "stdout",
     "output_type": "stream",
     "text": [
      "Mean Absolute Error:  4.85248058295052\n",
      "Mean Squared Error:  45.23188062977258\n",
      "Root Mean Squared Error:  6.7254650865031325\n"
     ]
    }
   ],
   "source": [
    "# Step 13: Evaluating the algorithm\n",
    "\n",
    "from sklearn import metrics\n",
    "print('Mean Absolute Error: ', metrics.mean_absolute_error(y_test,y_pred))\n",
    "print('Mean Squared Error: ', metrics.mean_squared_error(y_test,y_pred))\n",
    "print('Root Mean Squared Error: ', np.sqrt(metrics.mean_squared_error(y_test,y_pred)))"
   ]
  },
  {
   "cell_type": "code",
   "execution_count": null,
   "id": "bbd98c9c",
   "metadata": {},
   "outputs": [],
   "source": []
  }
 ],
 "metadata": {
  "kernelspec": {
   "display_name": "Python 3 (ipykernel)",
   "language": "python",
   "name": "python3"
  },
  "language_info": {
   "codemirror_mode": {
    "name": "ipython",
    "version": 3
   },
   "file_extension": ".py",
   "mimetype": "text/x-python",
   "name": "python",
   "nbconvert_exporter": "python",
   "pygments_lexer": "ipython3",
   "version": "3.9.7"
  }
 },
 "nbformat": 4,
 "nbformat_minor": 5
}
