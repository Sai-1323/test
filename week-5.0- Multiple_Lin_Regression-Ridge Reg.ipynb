{
 "cells": [
  {
   "cell_type": "markdown",
   "metadata": {
    "id": "IpndXQ4PpqLZ"
   },
   "source": [
    "# WEEK-5.0- Multiple_Lin_Regression-Ridge Reg"
   ]
  },
  {
   "cell_type": "markdown",
   "metadata": {
    "id": "uy210BAXpqLg"
   },
   "source": [
    "### Contents\n",
    "\n",
    "* Business Understanding\n",
    "* Data Understanding\n",
    "* Data Preparation\n",
    "* Exploratory Data Analysis\n",
    "* Building a Linear Model\n",
    "* Evaluation"
   ]
  },
  {
   "cell_type": "markdown",
   "metadata": {
    "id": "v6OJK8t1pqLh"
   },
   "source": [
    "### Business Understanding"
   ]
  },
  {
   "cell_type": "markdown",
   "metadata": {
    "collapsed": true,
    "id": "HLh48dZXpqLi"
   },
   "source": [
    "#### Problem Statement\n",
    "\n",
    "A large child education toy company which sells edutainment tablets and gaming systems\n",
    "both online and in retail stores wanted to analyze the customer data. They are operating\n",
    "from last few years and maintaining all transactional information data. The given data\n",
    "‘CustomerData.csv’ is a sample of customer level data extracted and processed for the\n",
    "analysis from various set of transactional files.\n",
    "\n",
    "The objectives of today’s activity are :\n",
    "* Building a model to predict the customer revenue based on other factors and understand the influence of other attributes on revenue"
   ]
  },
  {
   "cell_type": "code",
   "execution_count": null,
   "metadata": {
    "id": "7yIcDPaopqLj"
   },
   "outputs": [],
   "source": [
    "# Now identify the target from the problem given"
   ]
  },
  {
   "cell_type": "markdown",
   "metadata": {
    "id": "NeOAnllPpqLk"
   },
   "source": [
    "### Identify right Error Metrics"
   ]
  },
  {
   "cell_type": "markdown",
   "metadata": {
    "id": "rC8H0eoWpqLk"
   },
   "source": [
    "##### Error Metrics for Regression\n",
    "\n",
    "* Mean Absolute Error (MAE):\n",
    "\n",
    "$$MAE = \\dfrac{1}{n}\\times|\\sum_{i = 1}^{n}y_{i} - \\hat{y_{i}}|$$\n",
    "\n",
    "\n",
    "* Mean Squared Error (MSE):\n",
    "\n",
    "$$MSE = \\dfrac{1}{n}\\times(\\sum_{i = 1}^{n}y_{i} - \\hat{y_{i}})^2$$\n",
    "\n",
    "\n",
    "* Root Mean Squared Error (RMSE):\n",
    "\n",
    "$$RMSE = \\sqrt{\\dfrac{1}{n}\\times(\\sum_{i = 1}^{n}y_{i} - \\hat{y_{i}})^2}$$\n",
    "\n",
    "\n",
    "* Mean Absolute Percentage Error (MAPE):\n",
    "\n",
    "$$MAPE = \\dfrac{100}{n}\\times\\mid\\dfrac{\\sum_{i = 1}^{n}y_{i} - \\hat{y_{i}}}{y_{i}}\\mid$$\n"
   ]
  },
  {
   "cell_type": "markdown",
   "metadata": {
    "id": "Sm5vZ9UOpqLm"
   },
   "source": [
    "### Loading the required libraries"
   ]
  },
  {
   "cell_type": "code",
   "execution_count": null,
   "metadata": {
    "id": "GxKuIrjopqLn"
   },
   "outputs": [],
   "source": [
    "import pandas as pd\n",
    "import numpy as np\n",
    "\n",
    "from sklearn.metrics import mean_squared_error, r2_score\n",
    "from sklearn.model_selection import train_test_split\n",
    "\n",
    "import matplotlib.pyplot as plt\n",
    "import seaborn as sns\n",
    "\n",
    "import math\n",
    "\n",
    "import statsmodels.api as sm\n",
    "#from patsy import dmatrices\n",
    "\n",
    "from IPython.display import Image"
   ]
  },
  {
   "cell_type": "markdown",
   "metadata": {
    "id": "kxMrOMbApqLo"
   },
   "source": [
    "### Loading the data"
   ]
  },
  {
   "cell_type": "code",
   "execution_count": null,
   "metadata": {
    "id": "vhL8jkNdpqLp",
    "outputId": "f01ca50d-4a7f-4098-afcd-8def0a2ae818"
   },
   "outputs": [
    {
     "data": {
      "text/html": [
       "<div>\n",
       "<style scoped>\n",
       "    .dataframe tbody tr th:only-of-type {\n",
       "        vertical-align: middle;\n",
       "    }\n",
       "\n",
       "    .dataframe tbody tr th {\n",
       "        vertical-align: top;\n",
       "    }\n",
       "\n",
       "    .dataframe thead th {\n",
       "        text-align: right;\n",
       "    }\n",
       "</style>\n",
       "<table border=\"1\" class=\"dataframe\">\n",
       "  <thead>\n",
       "    <tr style=\"text-align: right;\">\n",
       "      <th></th>\n",
       "      <th>CustomerID</th>\n",
       "      <th>City</th>\n",
       "      <th>NoOfChildren</th>\n",
       "      <th>MinAgeOfChild</th>\n",
       "      <th>MaxAgeOfChild</th>\n",
       "      <th>Tenure</th>\n",
       "      <th>FrquncyOfPurchase</th>\n",
       "      <th>NoOfUnitsPurchased</th>\n",
       "      <th>FrequencyOFPlay</th>\n",
       "      <th>NoOfGamesPlayed</th>\n",
       "      <th>NoOfGamesBought</th>\n",
       "      <th>FavoriteChannelOfTransaction</th>\n",
       "      <th>FavoriteGame</th>\n",
       "      <th>TotalRevenueGenerated</th>\n",
       "    </tr>\n",
       "  </thead>\n",
       "  <tbody>\n",
       "    <tr>\n",
       "      <th>0</th>\n",
       "      <td>1001</td>\n",
       "      <td>1</td>\n",
       "      <td>2</td>\n",
       "      <td>3</td>\n",
       "      <td>8</td>\n",
       "      <td>210</td>\n",
       "      <td>11</td>\n",
       "      <td>11</td>\n",
       "      <td>2344</td>\n",
       "      <td>108</td>\n",
       "      <td>10</td>\n",
       "      <td>Uniform</td>\n",
       "      <td>Uniform</td>\n",
       "      <td>107.51</td>\n",
       "    </tr>\n",
       "    <tr>\n",
       "      <th>1</th>\n",
       "      <td>1002</td>\n",
       "      <td>1</td>\n",
       "      <td>2</td>\n",
       "      <td>3</td>\n",
       "      <td>6</td>\n",
       "      <td>442</td>\n",
       "      <td>20</td>\n",
       "      <td>20</td>\n",
       "      <td>245</td>\n",
       "      <td>22</td>\n",
       "      <td>7</td>\n",
       "      <td>Favorite</td>\n",
       "      <td>Uniform</td>\n",
       "      <td>382.40</td>\n",
       "    </tr>\n",
       "    <tr>\n",
       "      <th>2</th>\n",
       "      <td>1003</td>\n",
       "      <td>1</td>\n",
       "      <td>4</td>\n",
       "      <td>3</td>\n",
       "      <td>5</td>\n",
       "      <td>424</td>\n",
       "      <td>18</td>\n",
       "      <td>18</td>\n",
       "      <td>1059</td>\n",
       "      <td>130</td>\n",
       "      <td>18</td>\n",
       "      <td>Favorite</td>\n",
       "      <td>Uniform</td>\n",
       "      <td>135.01</td>\n",
       "    </tr>\n",
       "    <tr>\n",
       "      <th>3</th>\n",
       "      <td>1004</td>\n",
       "      <td>1</td>\n",
       "      <td>1</td>\n",
       "      <td>6</td>\n",
       "      <td>6</td>\n",
       "      <td>261</td>\n",
       "      <td>11</td>\n",
       "      <td>9</td>\n",
       "      <td>365</td>\n",
       "      <td>34</td>\n",
       "      <td>11</td>\n",
       "      <td>Favorite</td>\n",
       "      <td>Uniform</td>\n",
       "      <td>125.00</td>\n",
       "    </tr>\n",
       "    <tr>\n",
       "      <th>4</th>\n",
       "      <td>1005</td>\n",
       "      <td>1</td>\n",
       "      <td>3</td>\n",
       "      <td>6</td>\n",
       "      <td>9</td>\n",
       "      <td>422</td>\n",
       "      <td>44</td>\n",
       "      <td>31</td>\n",
       "      <td>1066</td>\n",
       "      <td>102</td>\n",
       "      <td>44</td>\n",
       "      <td>Uniform</td>\n",
       "      <td>Uniform</td>\n",
       "      <td>335.05</td>\n",
       "    </tr>\n",
       "  </tbody>\n",
       "</table>\n",
       "</div>"
      ],
      "text/plain": [
       "   CustomerID  City  NoOfChildren  MinAgeOfChild  MaxAgeOfChild  Tenure  \\\n",
       "0        1001     1             2              3              8     210   \n",
       "1        1002     1             2              3              6     442   \n",
       "2        1003     1             4              3              5     424   \n",
       "3        1004     1             1              6              6     261   \n",
       "4        1005     1             3              6              9     422   \n",
       "\n",
       "   FrquncyOfPurchase  NoOfUnitsPurchased  FrequencyOFPlay  NoOfGamesPlayed  \\\n",
       "0                 11                  11             2344              108   \n",
       "1                 20                  20              245               22   \n",
       "2                 18                  18             1059              130   \n",
       "3                 11                   9              365               34   \n",
       "4                 44                  31             1066              102   \n",
       "\n",
       "   NoOfGamesBought FavoriteChannelOfTransaction FavoriteGame  \\\n",
       "0               10                      Uniform      Uniform   \n",
       "1                7                     Favorite      Uniform   \n",
       "2               18                     Favorite      Uniform   \n",
       "3               11                     Favorite      Uniform   \n",
       "4               44                      Uniform      Uniform   \n",
       "\n",
       "   TotalRevenueGenerated  \n",
       "0                 107.51  \n",
       "1                 382.40  \n",
       "2                 135.01  \n",
       "3                 125.00  \n",
       "4                 335.05  "
      ]
     },
     "execution_count": 68,
     "metadata": {
      "tags": []
     },
     "output_type": "execute_result"
    }
   ],
   "source": [
    "data = pd.read_csv(\"CustomerData.csv\", header=0)\n",
    "data.head()\n"
   ]
  },
  {
   "cell_type": "code",
   "execution_count": null,
   "metadata": {
    "id": "nComg8-2pqLr",
    "outputId": "1a3ceb71-bfa9-41fc-aa73-d699a63c1a40"
   },
   "outputs": [
    {
     "data": {
      "text/plain": [
       "1    2843\n",
       "2     366\n",
       "Name: City, dtype: int64"
      ]
     },
     "execution_count": 69,
     "metadata": {
      "tags": []
     },
     "output_type": "execute_result"
    }
   ],
   "source": [
    "data['City'].value_counts()"
   ]
  },
  {
   "cell_type": "code",
   "execution_count": null,
   "metadata": {
    "id": "atpLQIv5pqLr",
    "outputId": "5537447c-6bb8-4b73-bd6c-ba52ffa3ebe7"
   },
   "outputs": [
    {
     "data": {
      "text/plain": [
       "pandas.core.frame.DataFrame"
      ]
     },
     "execution_count": 70,
     "metadata": {
      "tags": []
     },
     "output_type": "execute_result"
    }
   ],
   "source": [
    "type(data)"
   ]
  },
  {
   "cell_type": "markdown",
   "metadata": {
    "id": "H6aWSgatpqLs"
   },
   "source": [
    "### Data Understanding"
   ]
  },
  {
   "cell_type": "code",
   "execution_count": null,
   "metadata": {
    "id": "kJsZmoiMpqLt",
    "outputId": "ab7b4ee5-d9e4-4666-f15f-f6df2f46975f"
   },
   "outputs": [
    {
     "data": {
      "text/plain": [
       "(3209, 14)"
      ]
     },
     "execution_count": 71,
     "metadata": {
      "tags": []
     },
     "output_type": "execute_result"
    }
   ],
   "source": [
    "data.shape"
   ]
  },
  {
   "cell_type": "markdown",
   "metadata": {
    "id": "E83hHF8MpqLt"
   },
   "source": [
    "#### Display the columns"
   ]
  },
  {
   "cell_type": "code",
   "execution_count": null,
   "metadata": {
    "id": "isO0BPgzpqLu",
    "outputId": "17b2fe21-680b-4f41-a560-c207b7d135ed",
    "scrolled": true
   },
   "outputs": [
    {
     "data": {
      "text/plain": [
       "Index(['CustomerID', 'City', 'NoOfChildren', 'MinAgeOfChild', 'MaxAgeOfChild',\n",
       "       'Tenure', 'FrquncyOfPurchase', 'NoOfUnitsPurchased', 'FrequencyOFPlay',\n",
       "       'NoOfGamesPlayed', 'NoOfGamesBought', 'FavoriteChannelOfTransaction',\n",
       "       'FavoriteGame', 'TotalRevenueGenerated'],\n",
       "      dtype='object')"
      ]
     },
     "execution_count": 72,
     "metadata": {
      "tags": []
     },
     "output_type": "execute_result"
    }
   ],
   "source": [
    "data.columns"
   ]
  },
  {
   "cell_type": "code",
   "execution_count": null,
   "metadata": {
    "id": "_39iBhPMpqLu",
    "outputId": "5e897470-c48c-4eac-d813-6a01e9e9758c"
   },
   "outputs": [
    {
     "data": {
      "text/plain": [
       "RangeIndex(start=0, stop=3209, step=1)"
      ]
     },
     "execution_count": 73,
     "metadata": {
      "tags": []
     },
     "output_type": "execute_result"
    }
   ],
   "source": [
    "data.index"
   ]
  },
  {
   "cell_type": "markdown",
   "metadata": {
    "id": "dgjzgYmGpqLv"
   },
   "source": [
    "#### See the top rows of the data"
   ]
  },
  {
   "cell_type": "code",
   "execution_count": null,
   "metadata": {
    "id": "tEB3HCT8pqLv",
    "outputId": "1f4c97df-33d3-400b-ae56-f3d97dcf37db"
   },
   "outputs": [
    {
     "data": {
      "text/html": [
       "<div>\n",
       "<style scoped>\n",
       "    .dataframe tbody tr th:only-of-type {\n",
       "        vertical-align: middle;\n",
       "    }\n",
       "\n",
       "    .dataframe tbody tr th {\n",
       "        vertical-align: top;\n",
       "    }\n",
       "\n",
       "    .dataframe thead th {\n",
       "        text-align: right;\n",
       "    }\n",
       "</style>\n",
       "<table border=\"1\" class=\"dataframe\">\n",
       "  <thead>\n",
       "    <tr style=\"text-align: right;\">\n",
       "      <th></th>\n",
       "      <th>CustomerID</th>\n",
       "      <th>City</th>\n",
       "      <th>NoOfChildren</th>\n",
       "      <th>MinAgeOfChild</th>\n",
       "      <th>MaxAgeOfChild</th>\n",
       "      <th>Tenure</th>\n",
       "      <th>FrquncyOfPurchase</th>\n",
       "      <th>NoOfUnitsPurchased</th>\n",
       "      <th>FrequencyOFPlay</th>\n",
       "      <th>NoOfGamesPlayed</th>\n",
       "      <th>NoOfGamesBought</th>\n",
       "      <th>FavoriteChannelOfTransaction</th>\n",
       "      <th>FavoriteGame</th>\n",
       "      <th>TotalRevenueGenerated</th>\n",
       "    </tr>\n",
       "  </thead>\n",
       "  <tbody>\n",
       "    <tr>\n",
       "      <th>0</th>\n",
       "      <td>1001</td>\n",
       "      <td>1</td>\n",
       "      <td>2</td>\n",
       "      <td>3</td>\n",
       "      <td>8</td>\n",
       "      <td>210</td>\n",
       "      <td>11</td>\n",
       "      <td>11</td>\n",
       "      <td>2344</td>\n",
       "      <td>108</td>\n",
       "      <td>10</td>\n",
       "      <td>Uniform</td>\n",
       "      <td>Uniform</td>\n",
       "      <td>107.51</td>\n",
       "    </tr>\n",
       "    <tr>\n",
       "      <th>1</th>\n",
       "      <td>1002</td>\n",
       "      <td>1</td>\n",
       "      <td>2</td>\n",
       "      <td>3</td>\n",
       "      <td>6</td>\n",
       "      <td>442</td>\n",
       "      <td>20</td>\n",
       "      <td>20</td>\n",
       "      <td>245</td>\n",
       "      <td>22</td>\n",
       "      <td>7</td>\n",
       "      <td>Favorite</td>\n",
       "      <td>Uniform</td>\n",
       "      <td>382.40</td>\n",
       "    </tr>\n",
       "    <tr>\n",
       "      <th>2</th>\n",
       "      <td>1003</td>\n",
       "      <td>1</td>\n",
       "      <td>4</td>\n",
       "      <td>3</td>\n",
       "      <td>5</td>\n",
       "      <td>424</td>\n",
       "      <td>18</td>\n",
       "      <td>18</td>\n",
       "      <td>1059</td>\n",
       "      <td>130</td>\n",
       "      <td>18</td>\n",
       "      <td>Favorite</td>\n",
       "      <td>Uniform</td>\n",
       "      <td>135.01</td>\n",
       "    </tr>\n",
       "    <tr>\n",
       "      <th>3</th>\n",
       "      <td>1004</td>\n",
       "      <td>1</td>\n",
       "      <td>1</td>\n",
       "      <td>6</td>\n",
       "      <td>6</td>\n",
       "      <td>261</td>\n",
       "      <td>11</td>\n",
       "      <td>9</td>\n",
       "      <td>365</td>\n",
       "      <td>34</td>\n",
       "      <td>11</td>\n",
       "      <td>Favorite</td>\n",
       "      <td>Uniform</td>\n",
       "      <td>125.00</td>\n",
       "    </tr>\n",
       "    <tr>\n",
       "      <th>4</th>\n",
       "      <td>1005</td>\n",
       "      <td>1</td>\n",
       "      <td>3</td>\n",
       "      <td>6</td>\n",
       "      <td>9</td>\n",
       "      <td>422</td>\n",
       "      <td>44</td>\n",
       "      <td>31</td>\n",
       "      <td>1066</td>\n",
       "      <td>102</td>\n",
       "      <td>44</td>\n",
       "      <td>Uniform</td>\n",
       "      <td>Uniform</td>\n",
       "      <td>335.05</td>\n",
       "    </tr>\n",
       "  </tbody>\n",
       "</table>\n",
       "</div>"
      ],
      "text/plain": [
       "   CustomerID  City  NoOfChildren  MinAgeOfChild  MaxAgeOfChild  Tenure  \\\n",
       "0        1001     1             2              3              8     210   \n",
       "1        1002     1             2              3              6     442   \n",
       "2        1003     1             4              3              5     424   \n",
       "3        1004     1             1              6              6     261   \n",
       "4        1005     1             3              6              9     422   \n",
       "\n",
       "   FrquncyOfPurchase  NoOfUnitsPurchased  FrequencyOFPlay  NoOfGamesPlayed  \\\n",
       "0                 11                  11             2344              108   \n",
       "1                 20                  20              245               22   \n",
       "2                 18                  18             1059              130   \n",
       "3                 11                   9              365               34   \n",
       "4                 44                  31             1066              102   \n",
       "\n",
       "   NoOfGamesBought FavoriteChannelOfTransaction FavoriteGame  \\\n",
       "0               10                      Uniform      Uniform   \n",
       "1                7                     Favorite      Uniform   \n",
       "2               18                     Favorite      Uniform   \n",
       "3               11                     Favorite      Uniform   \n",
       "4               44                      Uniform      Uniform   \n",
       "\n",
       "   TotalRevenueGenerated  \n",
       "0                 107.51  \n",
       "1                 382.40  \n",
       "2                 135.01  \n",
       "3                 125.00  \n",
       "4                 335.05  "
      ]
     },
     "execution_count": 74,
     "metadata": {
      "tags": []
     },
     "output_type": "execute_result"
    }
   ],
   "source": [
    "data.head()"
   ]
  },
  {
   "cell_type": "code",
   "execution_count": null,
   "metadata": {
    "id": "k8NevkhQpqLv",
    "outputId": "16db1850-59a9-439d-a8a2-598c92582d45"
   },
   "outputs": [
    {
     "data": {
      "text/plain": [
       "CustomerID                        int64\n",
       "City                              int64\n",
       "NoOfChildren                      int64\n",
       "MinAgeOfChild                     int64\n",
       "MaxAgeOfChild                     int64\n",
       "Tenure                            int64\n",
       "FrquncyOfPurchase                 int64\n",
       "NoOfUnitsPurchased                int64\n",
       "FrequencyOFPlay                   int64\n",
       "NoOfGamesPlayed                   int64\n",
       "NoOfGamesBought                   int64\n",
       "FavoriteChannelOfTransaction     object\n",
       "FavoriteGame                     object\n",
       "TotalRevenueGenerated           float64\n",
       "dtype: object"
      ]
     },
     "execution_count": 75,
     "metadata": {
      "tags": []
     },
     "output_type": "execute_result"
    }
   ],
   "source": [
    "data.dtypes"
   ]
  },
  {
   "cell_type": "markdown",
   "metadata": {
    "id": "CQMBynHupqLw"
   },
   "source": [
    "#### Summary Statistics using describe()"
   ]
  },
  {
   "cell_type": "markdown",
   "metadata": {
    "id": "T5phOJcCpqLw"
   },
   "source": [
    "Descriptive or Summary Statistic of the numeric columns\n",
    "\n",
    "    It excludes character column and calculate summary statistics only for numeric columns"
   ]
  },
  {
   "cell_type": "code",
   "execution_count": null,
   "metadata": {
    "id": "iBEtiUiEpqLx",
    "outputId": "df4e8658-f84b-4f3c-eda5-afed4441edd1"
   },
   "outputs": [
    {
     "data": {
      "text/plain": [
       "(3209, 14)"
      ]
     },
     "execution_count": 76,
     "metadata": {
      "tags": []
     },
     "output_type": "execute_result"
    }
   ],
   "source": [
    "data.shape"
   ]
  },
  {
   "cell_type": "code",
   "execution_count": null,
   "metadata": {
    "id": "axT-FaiopqLy",
    "outputId": "1abd2309-fe23-4f74-c179-532a1ee8656e"
   },
   "outputs": [
    {
     "data": {
      "text/html": [
       "<div>\n",
       "<style scoped>\n",
       "    .dataframe tbody tr th:only-of-type {\n",
       "        vertical-align: middle;\n",
       "    }\n",
       "\n",
       "    .dataframe tbody tr th {\n",
       "        vertical-align: top;\n",
       "    }\n",
       "\n",
       "    .dataframe thead th {\n",
       "        text-align: right;\n",
       "    }\n",
       "</style>\n",
       "<table border=\"1\" class=\"dataframe\">\n",
       "  <thead>\n",
       "    <tr style=\"text-align: right;\">\n",
       "      <th></th>\n",
       "      <th>count</th>\n",
       "      <th>mean</th>\n",
       "      <th>std</th>\n",
       "      <th>min</th>\n",
       "      <th>25%</th>\n",
       "      <th>50%</th>\n",
       "      <th>75%</th>\n",
       "      <th>max</th>\n",
       "    </tr>\n",
       "  </thead>\n",
       "  <tbody>\n",
       "    <tr>\n",
       "      <th>CustomerID</th>\n",
       "      <td>3209.0</td>\n",
       "      <td>2605.000000</td>\n",
       "      <td>926.502833</td>\n",
       "      <td>1001.0</td>\n",
       "      <td>1803.00</td>\n",
       "      <td>2605.00</td>\n",
       "      <td>3407.00</td>\n",
       "      <td>4209.00</td>\n",
       "    </tr>\n",
       "    <tr>\n",
       "      <th>City</th>\n",
       "      <td>3209.0</td>\n",
       "      <td>1.114054</td>\n",
       "      <td>0.317927</td>\n",
       "      <td>1.0</td>\n",
       "      <td>1.00</td>\n",
       "      <td>1.00</td>\n",
       "      <td>1.00</td>\n",
       "      <td>2.00</td>\n",
       "    </tr>\n",
       "    <tr>\n",
       "      <th>NoOfChildren</th>\n",
       "      <td>3209.0</td>\n",
       "      <td>2.128389</td>\n",
       "      <td>1.035092</td>\n",
       "      <td>1.0</td>\n",
       "      <td>1.00</td>\n",
       "      <td>2.00</td>\n",
       "      <td>3.00</td>\n",
       "      <td>11.00</td>\n",
       "    </tr>\n",
       "    <tr>\n",
       "      <th>MinAgeOfChild</th>\n",
       "      <td>3209.0</td>\n",
       "      <td>4.960735</td>\n",
       "      <td>3.714191</td>\n",
       "      <td>0.0</td>\n",
       "      <td>4.00</td>\n",
       "      <td>5.00</td>\n",
       "      <td>6.00</td>\n",
       "      <td>113.00</td>\n",
       "    </tr>\n",
       "    <tr>\n",
       "      <th>MaxAgeOfChild</th>\n",
       "      <td>3209.0</td>\n",
       "      <td>7.990651</td>\n",
       "      <td>8.784084</td>\n",
       "      <td>3.0</td>\n",
       "      <td>6.00</td>\n",
       "      <td>7.00</td>\n",
       "      <td>8.00</td>\n",
       "      <td>113.00</td>\n",
       "    </tr>\n",
       "    <tr>\n",
       "      <th>Tenure</th>\n",
       "      <td>3209.0</td>\n",
       "      <td>347.520411</td>\n",
       "      <td>90.520118</td>\n",
       "      <td>100.0</td>\n",
       "      <td>301.00</td>\n",
       "      <td>368.00</td>\n",
       "      <td>417.00</td>\n",
       "      <td>472.00</td>\n",
       "    </tr>\n",
       "    <tr>\n",
       "      <th>FrquncyOfPurchase</th>\n",
       "      <td>3209.0</td>\n",
       "      <td>16.269554</td>\n",
       "      <td>8.441670</td>\n",
       "      <td>1.0</td>\n",
       "      <td>11.00</td>\n",
       "      <td>14.00</td>\n",
       "      <td>19.00</td>\n",
       "      <td>119.00</td>\n",
       "    </tr>\n",
       "    <tr>\n",
       "      <th>NoOfUnitsPurchased</th>\n",
       "      <td>3209.0</td>\n",
       "      <td>14.684014</td>\n",
       "      <td>7.182029</td>\n",
       "      <td>1.0</td>\n",
       "      <td>10.00</td>\n",
       "      <td>13.00</td>\n",
       "      <td>17.00</td>\n",
       "      <td>112.00</td>\n",
       "    </tr>\n",
       "    <tr>\n",
       "      <th>FrequencyOFPlay</th>\n",
       "      <td>3209.0</td>\n",
       "      <td>1568.207853</td>\n",
       "      <td>1810.630464</td>\n",
       "      <td>0.0</td>\n",
       "      <td>446.00</td>\n",
       "      <td>1029.00</td>\n",
       "      <td>2029.00</td>\n",
       "      <td>27829.00</td>\n",
       "    </tr>\n",
       "    <tr>\n",
       "      <th>NoOfGamesPlayed</th>\n",
       "      <td>3209.0</td>\n",
       "      <td>93.627921</td>\n",
       "      <td>88.936372</td>\n",
       "      <td>0.0</td>\n",
       "      <td>37.00</td>\n",
       "      <td>70.00</td>\n",
       "      <td>119.00</td>\n",
       "      <td>1166.00</td>\n",
       "    </tr>\n",
       "    <tr>\n",
       "      <th>NoOfGamesBought</th>\n",
       "      <td>3209.0</td>\n",
       "      <td>14.761608</td>\n",
       "      <td>8.773910</td>\n",
       "      <td>0.0</td>\n",
       "      <td>10.00</td>\n",
       "      <td>14.00</td>\n",
       "      <td>19.00</td>\n",
       "      <td>115.00</td>\n",
       "    </tr>\n",
       "    <tr>\n",
       "      <th>TotalRevenueGenerated</th>\n",
       "      <td>3209.0</td>\n",
       "      <td>168.477183</td>\n",
       "      <td>81.798528</td>\n",
       "      <td>100.0</td>\n",
       "      <td>116.64</td>\n",
       "      <td>142.39</td>\n",
       "      <td>191.25</td>\n",
       "      <td>990.56</td>\n",
       "    </tr>\n",
       "  </tbody>\n",
       "</table>\n",
       "</div>"
      ],
      "text/plain": [
       "                        count         mean          std     min      25%  \\\n",
       "CustomerID             3209.0  2605.000000   926.502833  1001.0  1803.00   \n",
       "City                   3209.0     1.114054     0.317927     1.0     1.00   \n",
       "NoOfChildren           3209.0     2.128389     1.035092     1.0     1.00   \n",
       "MinAgeOfChild          3209.0     4.960735     3.714191     0.0     4.00   \n",
       "MaxAgeOfChild          3209.0     7.990651     8.784084     3.0     6.00   \n",
       "Tenure                 3209.0   347.520411    90.520118   100.0   301.00   \n",
       "FrquncyOfPurchase      3209.0    16.269554     8.441670     1.0    11.00   \n",
       "NoOfUnitsPurchased     3209.0    14.684014     7.182029     1.0    10.00   \n",
       "FrequencyOFPlay        3209.0  1568.207853  1810.630464     0.0   446.00   \n",
       "NoOfGamesPlayed        3209.0    93.627921    88.936372     0.0    37.00   \n",
       "NoOfGamesBought        3209.0    14.761608     8.773910     0.0    10.00   \n",
       "TotalRevenueGenerated  3209.0   168.477183    81.798528   100.0   116.64   \n",
       "\n",
       "                           50%      75%       max  \n",
       "CustomerID             2605.00  3407.00   4209.00  \n",
       "City                      1.00     1.00      2.00  \n",
       "NoOfChildren              2.00     3.00     11.00  \n",
       "MinAgeOfChild             5.00     6.00    113.00  \n",
       "MaxAgeOfChild             7.00     8.00    113.00  \n",
       "Tenure                  368.00   417.00    472.00  \n",
       "FrquncyOfPurchase        14.00    19.00    119.00  \n",
       "NoOfUnitsPurchased       13.00    17.00    112.00  \n",
       "FrequencyOFPlay        1029.00  2029.00  27829.00  \n",
       "NoOfGamesPlayed          70.00   119.00   1166.00  \n",
       "NoOfGamesBought          14.00    19.00    115.00  \n",
       "TotalRevenueGenerated   142.39   191.25    990.56  "
      ]
     },
     "execution_count": 77,
     "metadata": {
      "tags": []
     },
     "output_type": "execute_result"
    }
   ],
   "source": [
    "data.describe().T"
   ]
  },
  {
   "cell_type": "raw",
   "metadata": {
    "id": "drfaaHt5pqLy"
   },
   "source": [
    "# Summary statistics of the character columns"
   ]
  },
  {
   "cell_type": "code",
   "execution_count": null,
   "metadata": {
    "id": "ni9MvZwBpqLz",
    "outputId": "3b099a4f-e6ea-416a-c7ec-6dca1704eda8"
   },
   "outputs": [
    {
     "data": {
      "text/html": [
       "<div>\n",
       "<style scoped>\n",
       "    .dataframe tbody tr th:only-of-type {\n",
       "        vertical-align: middle;\n",
       "    }\n",
       "\n",
       "    .dataframe tbody tr th {\n",
       "        vertical-align: top;\n",
       "    }\n",
       "\n",
       "    .dataframe thead th {\n",
       "        text-align: right;\n",
       "    }\n",
       "</style>\n",
       "<table border=\"1\" class=\"dataframe\">\n",
       "  <thead>\n",
       "    <tr style=\"text-align: right;\">\n",
       "      <th></th>\n",
       "      <th>count</th>\n",
       "      <th>unique</th>\n",
       "      <th>top</th>\n",
       "      <th>freq</th>\n",
       "    </tr>\n",
       "  </thead>\n",
       "  <tbody>\n",
       "    <tr>\n",
       "      <th>FavoriteChannelOfTransaction</th>\n",
       "      <td>3209</td>\n",
       "      <td>2</td>\n",
       "      <td>Favorite</td>\n",
       "      <td>2637</td>\n",
       "    </tr>\n",
       "    <tr>\n",
       "      <th>FavoriteGame</th>\n",
       "      <td>3209</td>\n",
       "      <td>2</td>\n",
       "      <td>Uniform</td>\n",
       "      <td>3083</td>\n",
       "    </tr>\n",
       "  </tbody>\n",
       "</table>\n",
       "</div>"
      ],
      "text/plain": [
       "                             count unique       top  freq\n",
       "FavoriteChannelOfTransaction  3209      2  Favorite  2637\n",
       "FavoriteGame                  3209      2   Uniform  3083"
      ]
     },
     "execution_count": 78,
     "metadata": {
      "tags": []
     },
     "output_type": "execute_result"
    }
   ],
   "source": [
    "data.describe(include=['object']).T"
   ]
  },
  {
   "cell_type": "code",
   "execution_count": null,
   "metadata": {
    "id": "bwyxUuRapqLz",
    "outputId": "5e5d0bde-fc00-49ad-bf24-37f5dbfcc615"
   },
   "outputs": [
    {
     "data": {
      "text/plain": [
       "Uniform     3083\n",
       "Favorite     126\n",
       "Name: FavoriteGame, dtype: int64"
      ]
     },
     "execution_count": 79,
     "metadata": {
      "tags": []
     },
     "output_type": "execute_result"
    }
   ],
   "source": [
    "data['FavoriteGame'].value_counts()"
   ]
  },
  {
   "cell_type": "code",
   "execution_count": null,
   "metadata": {
    "id": "Xl6xG3eKpqL0",
    "outputId": "4fee52b8-70e7-459c-ba95-57b83653f60a"
   },
   "outputs": [
    {
     "data": {
      "text/plain": [
       "Favorite    2637\n",
       "Uniform      572\n",
       "Name: FavoriteChannelOfTransaction, dtype: int64"
      ]
     },
     "execution_count": 80,
     "metadata": {
      "tags": []
     },
     "output_type": "execute_result"
    }
   ],
   "source": [
    "data['FavoriteChannelOfTransaction'].value_counts()"
   ]
  },
  {
   "cell_type": "raw",
   "metadata": {
    "id": "I4zF1b0qpqL0"
   },
   "source": [
    "# Summary statistics of all the columns"
   ]
  },
  {
   "cell_type": "code",
   "execution_count": null,
   "metadata": {
    "id": "jC-PAxohpqL0",
    "outputId": "9ae68617-4818-4b7c-ec67-eb2eb7111572",
    "scrolled": true
   },
   "outputs": [
    {
     "data": {
      "text/html": [
       "<div>\n",
       "<style scoped>\n",
       "    .dataframe tbody tr th:only-of-type {\n",
       "        vertical-align: middle;\n",
       "    }\n",
       "\n",
       "    .dataframe tbody tr th {\n",
       "        vertical-align: top;\n",
       "    }\n",
       "\n",
       "    .dataframe thead th {\n",
       "        text-align: right;\n",
       "    }\n",
       "</style>\n",
       "<table border=\"1\" class=\"dataframe\">\n",
       "  <thead>\n",
       "    <tr style=\"text-align: right;\">\n",
       "      <th></th>\n",
       "      <th>CustomerID</th>\n",
       "      <th>City</th>\n",
       "      <th>NoOfChildren</th>\n",
       "      <th>MinAgeOfChild</th>\n",
       "      <th>MaxAgeOfChild</th>\n",
       "      <th>Tenure</th>\n",
       "      <th>FrquncyOfPurchase</th>\n",
       "      <th>NoOfUnitsPurchased</th>\n",
       "      <th>FrequencyOFPlay</th>\n",
       "      <th>NoOfGamesPlayed</th>\n",
       "      <th>NoOfGamesBought</th>\n",
       "      <th>FavoriteChannelOfTransaction</th>\n",
       "      <th>FavoriteGame</th>\n",
       "      <th>TotalRevenueGenerated</th>\n",
       "    </tr>\n",
       "  </thead>\n",
       "  <tbody>\n",
       "    <tr>\n",
       "      <th>count</th>\n",
       "      <td>3209.000000</td>\n",
       "      <td>3209.000000</td>\n",
       "      <td>3209.000000</td>\n",
       "      <td>3209.000000</td>\n",
       "      <td>3209.000000</td>\n",
       "      <td>3209.000000</td>\n",
       "      <td>3209.000000</td>\n",
       "      <td>3209.000000</td>\n",
       "      <td>3209.000000</td>\n",
       "      <td>3209.000000</td>\n",
       "      <td>3209.000000</td>\n",
       "      <td>3209</td>\n",
       "      <td>3209</td>\n",
       "      <td>3209.000000</td>\n",
       "    </tr>\n",
       "    <tr>\n",
       "      <th>unique</th>\n",
       "      <td>NaN</td>\n",
       "      <td>NaN</td>\n",
       "      <td>NaN</td>\n",
       "      <td>NaN</td>\n",
       "      <td>NaN</td>\n",
       "      <td>NaN</td>\n",
       "      <td>NaN</td>\n",
       "      <td>NaN</td>\n",
       "      <td>NaN</td>\n",
       "      <td>NaN</td>\n",
       "      <td>NaN</td>\n",
       "      <td>2</td>\n",
       "      <td>2</td>\n",
       "      <td>NaN</td>\n",
       "    </tr>\n",
       "    <tr>\n",
       "      <th>top</th>\n",
       "      <td>NaN</td>\n",
       "      <td>NaN</td>\n",
       "      <td>NaN</td>\n",
       "      <td>NaN</td>\n",
       "      <td>NaN</td>\n",
       "      <td>NaN</td>\n",
       "      <td>NaN</td>\n",
       "      <td>NaN</td>\n",
       "      <td>NaN</td>\n",
       "      <td>NaN</td>\n",
       "      <td>NaN</td>\n",
       "      <td>Favorite</td>\n",
       "      <td>Uniform</td>\n",
       "      <td>NaN</td>\n",
       "    </tr>\n",
       "    <tr>\n",
       "      <th>freq</th>\n",
       "      <td>NaN</td>\n",
       "      <td>NaN</td>\n",
       "      <td>NaN</td>\n",
       "      <td>NaN</td>\n",
       "      <td>NaN</td>\n",
       "      <td>NaN</td>\n",
       "      <td>NaN</td>\n",
       "      <td>NaN</td>\n",
       "      <td>NaN</td>\n",
       "      <td>NaN</td>\n",
       "      <td>NaN</td>\n",
       "      <td>2637</td>\n",
       "      <td>3083</td>\n",
       "      <td>NaN</td>\n",
       "    </tr>\n",
       "    <tr>\n",
       "      <th>mean</th>\n",
       "      <td>2605.000000</td>\n",
       "      <td>1.114054</td>\n",
       "      <td>2.128389</td>\n",
       "      <td>4.960735</td>\n",
       "      <td>7.990651</td>\n",
       "      <td>347.520411</td>\n",
       "      <td>16.269554</td>\n",
       "      <td>14.684014</td>\n",
       "      <td>1568.207853</td>\n",
       "      <td>93.627921</td>\n",
       "      <td>14.761608</td>\n",
       "      <td>NaN</td>\n",
       "      <td>NaN</td>\n",
       "      <td>168.477183</td>\n",
       "    </tr>\n",
       "    <tr>\n",
       "      <th>std</th>\n",
       "      <td>926.502833</td>\n",
       "      <td>0.317927</td>\n",
       "      <td>1.035092</td>\n",
       "      <td>3.714191</td>\n",
       "      <td>8.784084</td>\n",
       "      <td>90.520118</td>\n",
       "      <td>8.441670</td>\n",
       "      <td>7.182029</td>\n",
       "      <td>1810.630464</td>\n",
       "      <td>88.936372</td>\n",
       "      <td>8.773910</td>\n",
       "      <td>NaN</td>\n",
       "      <td>NaN</td>\n",
       "      <td>81.798528</td>\n",
       "    </tr>\n",
       "    <tr>\n",
       "      <th>min</th>\n",
       "      <td>1001.000000</td>\n",
       "      <td>1.000000</td>\n",
       "      <td>1.000000</td>\n",
       "      <td>0.000000</td>\n",
       "      <td>3.000000</td>\n",
       "      <td>100.000000</td>\n",
       "      <td>1.000000</td>\n",
       "      <td>1.000000</td>\n",
       "      <td>0.000000</td>\n",
       "      <td>0.000000</td>\n",
       "      <td>0.000000</td>\n",
       "      <td>NaN</td>\n",
       "      <td>NaN</td>\n",
       "      <td>100.000000</td>\n",
       "    </tr>\n",
       "    <tr>\n",
       "      <th>25%</th>\n",
       "      <td>1803.000000</td>\n",
       "      <td>1.000000</td>\n",
       "      <td>1.000000</td>\n",
       "      <td>4.000000</td>\n",
       "      <td>6.000000</td>\n",
       "      <td>301.000000</td>\n",
       "      <td>11.000000</td>\n",
       "      <td>10.000000</td>\n",
       "      <td>446.000000</td>\n",
       "      <td>37.000000</td>\n",
       "      <td>10.000000</td>\n",
       "      <td>NaN</td>\n",
       "      <td>NaN</td>\n",
       "      <td>116.640000</td>\n",
       "    </tr>\n",
       "    <tr>\n",
       "      <th>50%</th>\n",
       "      <td>2605.000000</td>\n",
       "      <td>1.000000</td>\n",
       "      <td>2.000000</td>\n",
       "      <td>5.000000</td>\n",
       "      <td>7.000000</td>\n",
       "      <td>368.000000</td>\n",
       "      <td>14.000000</td>\n",
       "      <td>13.000000</td>\n",
       "      <td>1029.000000</td>\n",
       "      <td>70.000000</td>\n",
       "      <td>14.000000</td>\n",
       "      <td>NaN</td>\n",
       "      <td>NaN</td>\n",
       "      <td>142.390000</td>\n",
       "    </tr>\n",
       "    <tr>\n",
       "      <th>75%</th>\n",
       "      <td>3407.000000</td>\n",
       "      <td>1.000000</td>\n",
       "      <td>3.000000</td>\n",
       "      <td>6.000000</td>\n",
       "      <td>8.000000</td>\n",
       "      <td>417.000000</td>\n",
       "      <td>19.000000</td>\n",
       "      <td>17.000000</td>\n",
       "      <td>2029.000000</td>\n",
       "      <td>119.000000</td>\n",
       "      <td>19.000000</td>\n",
       "      <td>NaN</td>\n",
       "      <td>NaN</td>\n",
       "      <td>191.250000</td>\n",
       "    </tr>\n",
       "    <tr>\n",
       "      <th>max</th>\n",
       "      <td>4209.000000</td>\n",
       "      <td>2.000000</td>\n",
       "      <td>11.000000</td>\n",
       "      <td>113.000000</td>\n",
       "      <td>113.000000</td>\n",
       "      <td>472.000000</td>\n",
       "      <td>119.000000</td>\n",
       "      <td>112.000000</td>\n",
       "      <td>27829.000000</td>\n",
       "      <td>1166.000000</td>\n",
       "      <td>115.000000</td>\n",
       "      <td>NaN</td>\n",
       "      <td>NaN</td>\n",
       "      <td>990.560000</td>\n",
       "    </tr>\n",
       "  </tbody>\n",
       "</table>\n",
       "</div>"
      ],
      "text/plain": [
       "         CustomerID         City  NoOfChildren  MinAgeOfChild  MaxAgeOfChild  \\\n",
       "count   3209.000000  3209.000000   3209.000000    3209.000000    3209.000000   \n",
       "unique          NaN          NaN           NaN            NaN            NaN   \n",
       "top             NaN          NaN           NaN            NaN            NaN   \n",
       "freq            NaN          NaN           NaN            NaN            NaN   \n",
       "mean    2605.000000     1.114054      2.128389       4.960735       7.990651   \n",
       "std      926.502833     0.317927      1.035092       3.714191       8.784084   \n",
       "min     1001.000000     1.000000      1.000000       0.000000       3.000000   \n",
       "25%     1803.000000     1.000000      1.000000       4.000000       6.000000   \n",
       "50%     2605.000000     1.000000      2.000000       5.000000       7.000000   \n",
       "75%     3407.000000     1.000000      3.000000       6.000000       8.000000   \n",
       "max     4209.000000     2.000000     11.000000     113.000000     113.000000   \n",
       "\n",
       "             Tenure  FrquncyOfPurchase  NoOfUnitsPurchased  FrequencyOFPlay  \\\n",
       "count   3209.000000        3209.000000         3209.000000      3209.000000   \n",
       "unique          NaN                NaN                 NaN              NaN   \n",
       "top             NaN                NaN                 NaN              NaN   \n",
       "freq            NaN                NaN                 NaN              NaN   \n",
       "mean     347.520411          16.269554           14.684014      1568.207853   \n",
       "std       90.520118           8.441670            7.182029      1810.630464   \n",
       "min      100.000000           1.000000            1.000000         0.000000   \n",
       "25%      301.000000          11.000000           10.000000       446.000000   \n",
       "50%      368.000000          14.000000           13.000000      1029.000000   \n",
       "75%      417.000000          19.000000           17.000000      2029.000000   \n",
       "max      472.000000         119.000000          112.000000     27829.000000   \n",
       "\n",
       "        NoOfGamesPlayed  NoOfGamesBought FavoriteChannelOfTransaction  \\\n",
       "count       3209.000000      3209.000000                         3209   \n",
       "unique              NaN              NaN                            2   \n",
       "top                 NaN              NaN                     Favorite   \n",
       "freq                NaN              NaN                         2637   \n",
       "mean          93.627921        14.761608                          NaN   \n",
       "std           88.936372         8.773910                          NaN   \n",
       "min            0.000000         0.000000                          NaN   \n",
       "25%           37.000000        10.000000                          NaN   \n",
       "50%           70.000000        14.000000                          NaN   \n",
       "75%          119.000000        19.000000                          NaN   \n",
       "max         1166.000000       115.000000                          NaN   \n",
       "\n",
       "       FavoriteGame  TotalRevenueGenerated  \n",
       "count          3209            3209.000000  \n",
       "unique            2                    NaN  \n",
       "top         Uniform                    NaN  \n",
       "freq           3083                    NaN  \n",
       "mean            NaN             168.477183  \n",
       "std             NaN              81.798528  \n",
       "min             NaN             100.000000  \n",
       "25%             NaN             116.640000  \n",
       "50%             NaN             142.390000  \n",
       "75%             NaN             191.250000  \n",
       "max             NaN             990.560000  "
      ]
     },
     "execution_count": 81,
     "metadata": {
      "tags": []
     },
     "output_type": "execute_result"
    }
   ],
   "source": [
    "data.describe(include='all') "
   ]
  },
  {
   "cell_type": "markdown",
   "metadata": {
    "id": "pArtM4-TpqL1"
   },
   "source": [
    "#### Data type of each of the variable"
   ]
  },
  {
   "cell_type": "code",
   "execution_count": null,
   "metadata": {
    "id": "IixDsO6jpqL1",
    "outputId": "c3425a99-f717-440b-80ee-91e601fbd25c"
   },
   "outputs": [
    {
     "data": {
      "text/plain": [
       "CustomerID                        int64\n",
       "City                              int64\n",
       "NoOfChildren                      int64\n",
       "MinAgeOfChild                     int64\n",
       "MaxAgeOfChild                     int64\n",
       "Tenure                            int64\n",
       "FrquncyOfPurchase                 int64\n",
       "NoOfUnitsPurchased                int64\n",
       "FrequencyOFPlay                   int64\n",
       "NoOfGamesPlayed                   int64\n",
       "NoOfGamesBought                   int64\n",
       "FavoriteChannelOfTransaction     object\n",
       "FavoriteGame                     object\n",
       "TotalRevenueGenerated           float64\n",
       "dtype: object"
      ]
     },
     "execution_count": 82,
     "metadata": {
      "tags": []
     },
     "output_type": "execute_result"
    }
   ],
   "source": [
    "data.dtypes "
   ]
  },
  {
   "cell_type": "markdown",
   "metadata": {
    "id": "wO1mHXhQpqL2"
   },
   "source": [
    "### Data Cleaning and  Preparation"
   ]
  },
  {
   "cell_type": "markdown",
   "metadata": {
    "collapsed": true,
    "id": "Wm6etygypqL2"
   },
   "source": [
    "#### Observations:\n",
    "    1. City is interpreted as numeric (which is actually categorical) and FavouriteGame, FavouriteChannelOfTransaction are interpreted as objects.\n",
    "    2. max age of children is 113 which must be a wrong entry\n",
    "    3. Summary statistics for CustomerID is not meaningful\n",
    "\n",
    "So we now change these appropriately i.e, convert city, favourite game and favourite channel to category, exclude customer id from the data for analysis and treat wrong entry records"
   ]
  },
  {
   "cell_type": "markdown",
   "metadata": {
    "id": "JQK3smlZpqL3"
   },
   "source": [
    "#### Check and delete CustomerID attribute"
   ]
  },
  {
   "cell_type": "code",
   "execution_count": null,
   "metadata": {
    "id": "hOWIgAoOpqL3",
    "outputId": "ee00f913-f752-490f-b981-760b48a2cb0e"
   },
   "outputs": [
    {
     "data": {
      "text/html": [
       "<div>\n",
       "<style scoped>\n",
       "    .dataframe tbody tr th:only-of-type {\n",
       "        vertical-align: middle;\n",
       "    }\n",
       "\n",
       "    .dataframe tbody tr th {\n",
       "        vertical-align: top;\n",
       "    }\n",
       "\n",
       "    .dataframe thead th {\n",
       "        text-align: right;\n",
       "    }\n",
       "</style>\n",
       "<table border=\"1\" class=\"dataframe\">\n",
       "  <thead>\n",
       "    <tr style=\"text-align: right;\">\n",
       "      <th></th>\n",
       "      <th>CustomerID</th>\n",
       "      <th>City</th>\n",
       "      <th>NoOfChildren</th>\n",
       "      <th>MinAgeOfChild</th>\n",
       "      <th>MaxAgeOfChild</th>\n",
       "      <th>Tenure</th>\n",
       "      <th>FrquncyOfPurchase</th>\n",
       "      <th>NoOfUnitsPurchased</th>\n",
       "      <th>FrequencyOFPlay</th>\n",
       "      <th>NoOfGamesPlayed</th>\n",
       "      <th>NoOfGamesBought</th>\n",
       "      <th>FavoriteChannelOfTransaction</th>\n",
       "      <th>FavoriteGame</th>\n",
       "      <th>TotalRevenueGenerated</th>\n",
       "    </tr>\n",
       "  </thead>\n",
       "  <tbody>\n",
       "    <tr>\n",
       "      <th>0</th>\n",
       "      <td>1001</td>\n",
       "      <td>1</td>\n",
       "      <td>2</td>\n",
       "      <td>3</td>\n",
       "      <td>8</td>\n",
       "      <td>210</td>\n",
       "      <td>11</td>\n",
       "      <td>11</td>\n",
       "      <td>2344</td>\n",
       "      <td>108</td>\n",
       "      <td>10</td>\n",
       "      <td>Uniform</td>\n",
       "      <td>Uniform</td>\n",
       "      <td>107.51</td>\n",
       "    </tr>\n",
       "    <tr>\n",
       "      <th>1</th>\n",
       "      <td>1002</td>\n",
       "      <td>1</td>\n",
       "      <td>2</td>\n",
       "      <td>3</td>\n",
       "      <td>6</td>\n",
       "      <td>442</td>\n",
       "      <td>20</td>\n",
       "      <td>20</td>\n",
       "      <td>245</td>\n",
       "      <td>22</td>\n",
       "      <td>7</td>\n",
       "      <td>Favorite</td>\n",
       "      <td>Uniform</td>\n",
       "      <td>382.40</td>\n",
       "    </tr>\n",
       "    <tr>\n",
       "      <th>2</th>\n",
       "      <td>1003</td>\n",
       "      <td>1</td>\n",
       "      <td>4</td>\n",
       "      <td>3</td>\n",
       "      <td>5</td>\n",
       "      <td>424</td>\n",
       "      <td>18</td>\n",
       "      <td>18</td>\n",
       "      <td>1059</td>\n",
       "      <td>130</td>\n",
       "      <td>18</td>\n",
       "      <td>Favorite</td>\n",
       "      <td>Uniform</td>\n",
       "      <td>135.01</td>\n",
       "    </tr>\n",
       "    <tr>\n",
       "      <th>3</th>\n",
       "      <td>1004</td>\n",
       "      <td>1</td>\n",
       "      <td>1</td>\n",
       "      <td>6</td>\n",
       "      <td>6</td>\n",
       "      <td>261</td>\n",
       "      <td>11</td>\n",
       "      <td>9</td>\n",
       "      <td>365</td>\n",
       "      <td>34</td>\n",
       "      <td>11</td>\n",
       "      <td>Favorite</td>\n",
       "      <td>Uniform</td>\n",
       "      <td>125.00</td>\n",
       "    </tr>\n",
       "    <tr>\n",
       "      <th>4</th>\n",
       "      <td>1005</td>\n",
       "      <td>1</td>\n",
       "      <td>3</td>\n",
       "      <td>6</td>\n",
       "      <td>9</td>\n",
       "      <td>422</td>\n",
       "      <td>44</td>\n",
       "      <td>31</td>\n",
       "      <td>1066</td>\n",
       "      <td>102</td>\n",
       "      <td>44</td>\n",
       "      <td>Uniform</td>\n",
       "      <td>Uniform</td>\n",
       "      <td>335.05</td>\n",
       "    </tr>\n",
       "  </tbody>\n",
       "</table>\n",
       "</div>"
      ],
      "text/plain": [
       "   CustomerID  City  NoOfChildren  MinAgeOfChild  MaxAgeOfChild  Tenure  \\\n",
       "0        1001     1             2              3              8     210   \n",
       "1        1002     1             2              3              6     442   \n",
       "2        1003     1             4              3              5     424   \n",
       "3        1004     1             1              6              6     261   \n",
       "4        1005     1             3              6              9     422   \n",
       "\n",
       "   FrquncyOfPurchase  NoOfUnitsPurchased  FrequencyOFPlay  NoOfGamesPlayed  \\\n",
       "0                 11                  11             2344              108   \n",
       "1                 20                  20              245               22   \n",
       "2                 18                  18             1059              130   \n",
       "3                 11                   9              365               34   \n",
       "4                 44                  31             1066              102   \n",
       "\n",
       "   NoOfGamesBought FavoriteChannelOfTransaction FavoriteGame  \\\n",
       "0               10                      Uniform      Uniform   \n",
       "1                7                     Favorite      Uniform   \n",
       "2               18                     Favorite      Uniform   \n",
       "3               11                     Favorite      Uniform   \n",
       "4               44                      Uniform      Uniform   \n",
       "\n",
       "   TotalRevenueGenerated  \n",
       "0                 107.51  \n",
       "1                 382.40  \n",
       "2                 135.01  \n",
       "3                 125.00  \n",
       "4                 335.05  "
      ]
     },
     "execution_count": 83,
     "metadata": {
      "tags": []
     },
     "output_type": "execute_result"
    }
   ],
   "source": [
    "data.head()"
   ]
  },
  {
   "cell_type": "code",
   "execution_count": null,
   "metadata": {
    "id": "HsrSY4UgpqL4",
    "outputId": "84bad0bd-ba66-4186-ff6a-46e0e592f1a9"
   },
   "outputs": [
    {
     "data": {
      "text/plain": [
       "3209"
      ]
     },
     "execution_count": 84,
     "metadata": {
      "tags": []
     },
     "output_type": "execute_result"
    }
   ],
   "source": [
    "np.size(np.unique(data.CustomerID, return_counts=True)[0])"
   ]
  },
  {
   "cell_type": "code",
   "execution_count": null,
   "metadata": {
    "id": "y5OIok_apqL4",
    "outputId": "b86ab5df-f14a-4505-ea65-8405c22ecc57"
   },
   "outputs": [
    {
     "data": {
      "text/plain": [
       "(array(['Favorite', 'Uniform'], dtype=object), array([ 126, 3083]))"
      ]
     },
     "execution_count": 85,
     "metadata": {
      "tags": []
     },
     "output_type": "execute_result"
    }
   ],
   "source": [
    "np.unique(data.FavoriteGame, return_counts=True)"
   ]
  },
  {
   "cell_type": "code",
   "execution_count": null,
   "metadata": {
    "id": "na1xPT3GpqL4"
   },
   "outputs": [],
   "source": [
    "data.drop('CustomerID', axis=1, inplace=True)\n"
   ]
  },
  {
   "cell_type": "code",
   "execution_count": null,
   "metadata": {
    "id": "9Vp99fgkpqL5",
    "outputId": "7d0f3075-08ba-4bda-af93-0cd4c03ab3d7"
   },
   "outputs": [
    {
     "data": {
      "text/plain": [
       "Index(['City', 'NoOfChildren', 'MinAgeOfChild', 'MaxAgeOfChild', 'Tenure',\n",
       "       'FrquncyOfPurchase', 'NoOfUnitsPurchased', 'FrequencyOFPlay',\n",
       "       'NoOfGamesPlayed', 'NoOfGamesBought', 'FavoriteChannelOfTransaction',\n",
       "       'FavoriteGame', 'TotalRevenueGenerated'],\n",
       "      dtype='object')"
      ]
     },
     "execution_count": 87,
     "metadata": {
      "tags": []
     },
     "output_type": "execute_result"
    }
   ],
   "source": [
    "data.columns"
   ]
  },
  {
   "cell_type": "code",
   "execution_count": null,
   "metadata": {
    "id": "cxbT8F4FpqL5",
    "outputId": "9a5ee0db-181e-4eb3-de19-f584457eac7e"
   },
   "outputs": [
    {
     "data": {
      "text/html": [
       "<div>\n",
       "<style scoped>\n",
       "    .dataframe tbody tr th:only-of-type {\n",
       "        vertical-align: middle;\n",
       "    }\n",
       "\n",
       "    .dataframe tbody tr th {\n",
       "        vertical-align: top;\n",
       "    }\n",
       "\n",
       "    .dataframe thead th {\n",
       "        text-align: right;\n",
       "    }\n",
       "</style>\n",
       "<table border=\"1\" class=\"dataframe\">\n",
       "  <thead>\n",
       "    <tr style=\"text-align: right;\">\n",
       "      <th></th>\n",
       "      <th>City</th>\n",
       "      <th>NoOfChildren</th>\n",
       "      <th>MinAgeOfChild</th>\n",
       "      <th>MaxAgeOfChild</th>\n",
       "      <th>Tenure</th>\n",
       "      <th>FrquncyOfPurchase</th>\n",
       "      <th>NoOfUnitsPurchased</th>\n",
       "      <th>FrequencyOFPlay</th>\n",
       "      <th>NoOfGamesPlayed</th>\n",
       "      <th>NoOfGamesBought</th>\n",
       "      <th>FavoriteChannelOfTransaction</th>\n",
       "      <th>FavoriteGame</th>\n",
       "      <th>TotalRevenueGenerated</th>\n",
       "    </tr>\n",
       "  </thead>\n",
       "  <tbody>\n",
       "    <tr>\n",
       "      <th>440</th>\n",
       "      <td>1</td>\n",
       "      <td>3</td>\n",
       "      <td>5</td>\n",
       "      <td>7</td>\n",
       "      <td>239</td>\n",
       "      <td>39</td>\n",
       "      <td>40</td>\n",
       "      <td>3378</td>\n",
       "      <td>430</td>\n",
       "      <td>38</td>\n",
       "      <td>Favorite</td>\n",
       "      <td>Uniform</td>\n",
       "      <td>497.48</td>\n",
       "    </tr>\n",
       "    <tr>\n",
       "      <th>441</th>\n",
       "      <td>1</td>\n",
       "      <td>3</td>\n",
       "      <td>5</td>\n",
       "      <td>9</td>\n",
       "      <td>209</td>\n",
       "      <td>14</td>\n",
       "      <td>14</td>\n",
       "      <td>2317</td>\n",
       "      <td>131</td>\n",
       "      <td>14</td>\n",
       "      <td>Favorite</td>\n",
       "      <td>Uniform</td>\n",
       "      <td>120.00</td>\n",
       "    </tr>\n",
       "    <tr>\n",
       "      <th>442</th>\n",
       "      <td>1</td>\n",
       "      <td>2</td>\n",
       "      <td>2</td>\n",
       "      <td>4</td>\n",
       "      <td>461</td>\n",
       "      <td>19</td>\n",
       "      <td>17</td>\n",
       "      <td>2548</td>\n",
       "      <td>330</td>\n",
       "      <td>17</td>\n",
       "      <td>Uniform</td>\n",
       "      <td>Uniform</td>\n",
       "      <td>124.98</td>\n",
       "    </tr>\n",
       "    <tr>\n",
       "      <th>443</th>\n",
       "      <td>1</td>\n",
       "      <td>2</td>\n",
       "      <td>5</td>\n",
       "      <td>8</td>\n",
       "      <td>356</td>\n",
       "      <td>14</td>\n",
       "      <td>15</td>\n",
       "      <td>375</td>\n",
       "      <td>31</td>\n",
       "      <td>13</td>\n",
       "      <td>Favorite</td>\n",
       "      <td>Uniform</td>\n",
       "      <td>162.49</td>\n",
       "    </tr>\n",
       "    <tr>\n",
       "      <th>444</th>\n",
       "      <td>1</td>\n",
       "      <td>1</td>\n",
       "      <td>5</td>\n",
       "      <td>5</td>\n",
       "      <td>350</td>\n",
       "      <td>24</td>\n",
       "      <td>24</td>\n",
       "      <td>1969</td>\n",
       "      <td>84</td>\n",
       "      <td>24</td>\n",
       "      <td>Favorite</td>\n",
       "      <td>Uniform</td>\n",
       "      <td>227.50</td>\n",
       "    </tr>\n",
       "    <tr>\n",
       "      <th>445</th>\n",
       "      <td>1</td>\n",
       "      <td>3</td>\n",
       "      <td>3</td>\n",
       "      <td>5</td>\n",
       "      <td>330</td>\n",
       "      <td>52</td>\n",
       "      <td>51</td>\n",
       "      <td>2608</td>\n",
       "      <td>156</td>\n",
       "      <td>34</td>\n",
       "      <td>Favorite</td>\n",
       "      <td>Uniform</td>\n",
       "      <td>604.75</td>\n",
       "    </tr>\n",
       "    <tr>\n",
       "      <th>446</th>\n",
       "      <td>1</td>\n",
       "      <td>2</td>\n",
       "      <td>3</td>\n",
       "      <td>6</td>\n",
       "      <td>373</td>\n",
       "      <td>28</td>\n",
       "      <td>16</td>\n",
       "      <td>366</td>\n",
       "      <td>67</td>\n",
       "      <td>26</td>\n",
       "      <td>Uniform</td>\n",
       "      <td>Uniform</td>\n",
       "      <td>133.55</td>\n",
       "    </tr>\n",
       "    <tr>\n",
       "      <th>447</th>\n",
       "      <td>1</td>\n",
       "      <td>2</td>\n",
       "      <td>6</td>\n",
       "      <td>6</td>\n",
       "      <td>442</td>\n",
       "      <td>7</td>\n",
       "      <td>7</td>\n",
       "      <td>0</td>\n",
       "      <td>0</td>\n",
       "      <td>1</td>\n",
       "      <td>Favorite</td>\n",
       "      <td>Uniform</td>\n",
       "      <td>123.70</td>\n",
       "    </tr>\n",
       "    <tr>\n",
       "      <th>448</th>\n",
       "      <td>1</td>\n",
       "      <td>4</td>\n",
       "      <td>3</td>\n",
       "      <td>6</td>\n",
       "      <td>353</td>\n",
       "      <td>22</td>\n",
       "      <td>12</td>\n",
       "      <td>332</td>\n",
       "      <td>33</td>\n",
       "      <td>22</td>\n",
       "      <td>Uniform</td>\n",
       "      <td>Uniform</td>\n",
       "      <td>107.50</td>\n",
       "    </tr>\n",
       "    <tr>\n",
       "      <th>449</th>\n",
       "      <td>1</td>\n",
       "      <td>2</td>\n",
       "      <td>3</td>\n",
       "      <td>6</td>\n",
       "      <td>371</td>\n",
       "      <td>17</td>\n",
       "      <td>13</td>\n",
       "      <td>1369</td>\n",
       "      <td>65</td>\n",
       "      <td>17</td>\n",
       "      <td>Favorite</td>\n",
       "      <td>Uniform</td>\n",
       "      <td>102.51</td>\n",
       "    </tr>\n",
       "  </tbody>\n",
       "</table>\n",
       "</div>"
      ],
      "text/plain": [
       "     City  NoOfChildren  MinAgeOfChild  MaxAgeOfChild  Tenure  \\\n",
       "440     1             3              5              7     239   \n",
       "441     1             3              5              9     209   \n",
       "442     1             2              2              4     461   \n",
       "443     1             2              5              8     356   \n",
       "444     1             1              5              5     350   \n",
       "445     1             3              3              5     330   \n",
       "446     1             2              3              6     373   \n",
       "447     1             2              6              6     442   \n",
       "448     1             4              3              6     353   \n",
       "449     1             2              3              6     371   \n",
       "\n",
       "     FrquncyOfPurchase  NoOfUnitsPurchased  FrequencyOFPlay  NoOfGamesPlayed  \\\n",
       "440                 39                  40             3378              430   \n",
       "441                 14                  14             2317              131   \n",
       "442                 19                  17             2548              330   \n",
       "443                 14                  15              375               31   \n",
       "444                 24                  24             1969               84   \n",
       "445                 52                  51             2608              156   \n",
       "446                 28                  16              366               67   \n",
       "447                  7                   7                0                0   \n",
       "448                 22                  12              332               33   \n",
       "449                 17                  13             1369               65   \n",
       "\n",
       "     NoOfGamesBought FavoriteChannelOfTransaction FavoriteGame  \\\n",
       "440               38                     Favorite      Uniform   \n",
       "441               14                     Favorite      Uniform   \n",
       "442               17                      Uniform      Uniform   \n",
       "443               13                     Favorite      Uniform   \n",
       "444               24                     Favorite      Uniform   \n",
       "445               34                     Favorite      Uniform   \n",
       "446               26                      Uniform      Uniform   \n",
       "447                1                     Favorite      Uniform   \n",
       "448               22                      Uniform      Uniform   \n",
       "449               17                     Favorite      Uniform   \n",
       "\n",
       "     TotalRevenueGenerated  \n",
       "440                 497.48  \n",
       "441                 120.00  \n",
       "442                 124.98  \n",
       "443                 162.49  \n",
       "444                 227.50  \n",
       "445                 604.75  \n",
       "446                 133.55  \n",
       "447                 123.70  \n",
       "448                 107.50  \n",
       "449                 102.51  "
      ]
     },
     "execution_count": 88,
     "metadata": {
      "tags": []
     },
     "output_type": "execute_result"
    }
   ],
   "source": [
    "data.iloc[440:450,:]"
   ]
  },
  {
   "cell_type": "markdown",
   "metadata": {
    "id": "LvmXmHKnpqL6"
   },
   "source": [
    "#### Data type conversion \n",
    "    Using astype('category') convert 'City', 'FavoriteChannelOfTransaction', 'FavoriteGame' attributes to a categorical data type ."
   ]
  },
  {
   "cell_type": "code",
   "execution_count": null,
   "metadata": {
    "id": "XNJQhrvapqL6"
   },
   "outputs": [],
   "source": [
    "for col in ['City', 'FavoriteChannelOfTransaction', 'FavoriteGame']:\n",
    "    data[col] = data[col].astype('category')"
   ]
  },
  {
   "cell_type": "code",
   "execution_count": null,
   "metadata": {
    "id": "HpezPN3upqL6",
    "outputId": "c20249b4-22ba-4147-e345-4df2b75350bc"
   },
   "outputs": [
    {
     "data": {
      "text/plain": [
       "City                            category\n",
       "NoOfChildren                       int64\n",
       "MinAgeOfChild                      int64\n",
       "MaxAgeOfChild                      int64\n",
       "Tenure                             int64\n",
       "FrquncyOfPurchase                  int64\n",
       "NoOfUnitsPurchased                 int64\n",
       "FrequencyOFPlay                    int64\n",
       "NoOfGamesPlayed                    int64\n",
       "NoOfGamesBought                    int64\n",
       "FavoriteChannelOfTransaction    category\n",
       "FavoriteGame                    category\n",
       "TotalRevenueGenerated            float64\n",
       "dtype: object"
      ]
     },
     "execution_count": 90,
     "metadata": {
      "tags": []
     },
     "output_type": "execute_result"
    }
   ],
   "source": [
    "data.dtypes"
   ]
  },
  {
   "cell_type": "code",
   "execution_count": null,
   "metadata": {
    "id": "EJNmQhM6pqL7",
    "outputId": "3ce29c7b-59d8-4d11-f9a1-91099e894756"
   },
   "outputs": [
    {
     "data": {
      "text/html": [
       "<div>\n",
       "<style scoped>\n",
       "    .dataframe tbody tr th:only-of-type {\n",
       "        vertical-align: middle;\n",
       "    }\n",
       "\n",
       "    .dataframe tbody tr th {\n",
       "        vertical-align: top;\n",
       "    }\n",
       "\n",
       "    .dataframe thead th {\n",
       "        text-align: right;\n",
       "    }\n",
       "</style>\n",
       "<table border=\"1\" class=\"dataframe\">\n",
       "  <thead>\n",
       "    <tr style=\"text-align: right;\">\n",
       "      <th></th>\n",
       "      <th>count</th>\n",
       "      <th>unique</th>\n",
       "      <th>top</th>\n",
       "      <th>freq</th>\n",
       "      <th>mean</th>\n",
       "      <th>std</th>\n",
       "      <th>min</th>\n",
       "      <th>25%</th>\n",
       "      <th>50%</th>\n",
       "      <th>75%</th>\n",
       "      <th>max</th>\n",
       "    </tr>\n",
       "  </thead>\n",
       "  <tbody>\n",
       "    <tr>\n",
       "      <th>City</th>\n",
       "      <td>3209</td>\n",
       "      <td>2</td>\n",
       "      <td>1</td>\n",
       "      <td>2843</td>\n",
       "      <td>NaN</td>\n",
       "      <td>NaN</td>\n",
       "      <td>NaN</td>\n",
       "      <td>NaN</td>\n",
       "      <td>NaN</td>\n",
       "      <td>NaN</td>\n",
       "      <td>NaN</td>\n",
       "    </tr>\n",
       "    <tr>\n",
       "      <th>NoOfChildren</th>\n",
       "      <td>3209</td>\n",
       "      <td>NaN</td>\n",
       "      <td>NaN</td>\n",
       "      <td>NaN</td>\n",
       "      <td>2.12839</td>\n",
       "      <td>1.03509</td>\n",
       "      <td>1</td>\n",
       "      <td>1</td>\n",
       "      <td>2</td>\n",
       "      <td>3</td>\n",
       "      <td>11</td>\n",
       "    </tr>\n",
       "    <tr>\n",
       "      <th>MinAgeOfChild</th>\n",
       "      <td>3209</td>\n",
       "      <td>NaN</td>\n",
       "      <td>NaN</td>\n",
       "      <td>NaN</td>\n",
       "      <td>4.96074</td>\n",
       "      <td>3.71419</td>\n",
       "      <td>0</td>\n",
       "      <td>4</td>\n",
       "      <td>5</td>\n",
       "      <td>6</td>\n",
       "      <td>113</td>\n",
       "    </tr>\n",
       "    <tr>\n",
       "      <th>MaxAgeOfChild</th>\n",
       "      <td>3209</td>\n",
       "      <td>NaN</td>\n",
       "      <td>NaN</td>\n",
       "      <td>NaN</td>\n",
       "      <td>7.99065</td>\n",
       "      <td>8.78408</td>\n",
       "      <td>3</td>\n",
       "      <td>6</td>\n",
       "      <td>7</td>\n",
       "      <td>8</td>\n",
       "      <td>113</td>\n",
       "    </tr>\n",
       "    <tr>\n",
       "      <th>Tenure</th>\n",
       "      <td>3209</td>\n",
       "      <td>NaN</td>\n",
       "      <td>NaN</td>\n",
       "      <td>NaN</td>\n",
       "      <td>347.52</td>\n",
       "      <td>90.5201</td>\n",
       "      <td>100</td>\n",
       "      <td>301</td>\n",
       "      <td>368</td>\n",
       "      <td>417</td>\n",
       "      <td>472</td>\n",
       "    </tr>\n",
       "    <tr>\n",
       "      <th>FrquncyOfPurchase</th>\n",
       "      <td>3209</td>\n",
       "      <td>NaN</td>\n",
       "      <td>NaN</td>\n",
       "      <td>NaN</td>\n",
       "      <td>16.2696</td>\n",
       "      <td>8.44167</td>\n",
       "      <td>1</td>\n",
       "      <td>11</td>\n",
       "      <td>14</td>\n",
       "      <td>19</td>\n",
       "      <td>119</td>\n",
       "    </tr>\n",
       "    <tr>\n",
       "      <th>NoOfUnitsPurchased</th>\n",
       "      <td>3209</td>\n",
       "      <td>NaN</td>\n",
       "      <td>NaN</td>\n",
       "      <td>NaN</td>\n",
       "      <td>14.684</td>\n",
       "      <td>7.18203</td>\n",
       "      <td>1</td>\n",
       "      <td>10</td>\n",
       "      <td>13</td>\n",
       "      <td>17</td>\n",
       "      <td>112</td>\n",
       "    </tr>\n",
       "    <tr>\n",
       "      <th>FrequencyOFPlay</th>\n",
       "      <td>3209</td>\n",
       "      <td>NaN</td>\n",
       "      <td>NaN</td>\n",
       "      <td>NaN</td>\n",
       "      <td>1568.21</td>\n",
       "      <td>1810.63</td>\n",
       "      <td>0</td>\n",
       "      <td>446</td>\n",
       "      <td>1029</td>\n",
       "      <td>2029</td>\n",
       "      <td>27829</td>\n",
       "    </tr>\n",
       "    <tr>\n",
       "      <th>NoOfGamesPlayed</th>\n",
       "      <td>3209</td>\n",
       "      <td>NaN</td>\n",
       "      <td>NaN</td>\n",
       "      <td>NaN</td>\n",
       "      <td>93.6279</td>\n",
       "      <td>88.9364</td>\n",
       "      <td>0</td>\n",
       "      <td>37</td>\n",
       "      <td>70</td>\n",
       "      <td>119</td>\n",
       "      <td>1166</td>\n",
       "    </tr>\n",
       "    <tr>\n",
       "      <th>NoOfGamesBought</th>\n",
       "      <td>3209</td>\n",
       "      <td>NaN</td>\n",
       "      <td>NaN</td>\n",
       "      <td>NaN</td>\n",
       "      <td>14.7616</td>\n",
       "      <td>8.77391</td>\n",
       "      <td>0</td>\n",
       "      <td>10</td>\n",
       "      <td>14</td>\n",
       "      <td>19</td>\n",
       "      <td>115</td>\n",
       "    </tr>\n",
       "    <tr>\n",
       "      <th>FavoriteChannelOfTransaction</th>\n",
       "      <td>3209</td>\n",
       "      <td>2</td>\n",
       "      <td>Favorite</td>\n",
       "      <td>2637</td>\n",
       "      <td>NaN</td>\n",
       "      <td>NaN</td>\n",
       "      <td>NaN</td>\n",
       "      <td>NaN</td>\n",
       "      <td>NaN</td>\n",
       "      <td>NaN</td>\n",
       "      <td>NaN</td>\n",
       "    </tr>\n",
       "    <tr>\n",
       "      <th>FavoriteGame</th>\n",
       "      <td>3209</td>\n",
       "      <td>2</td>\n",
       "      <td>Uniform</td>\n",
       "      <td>3083</td>\n",
       "      <td>NaN</td>\n",
       "      <td>NaN</td>\n",
       "      <td>NaN</td>\n",
       "      <td>NaN</td>\n",
       "      <td>NaN</td>\n",
       "      <td>NaN</td>\n",
       "      <td>NaN</td>\n",
       "    </tr>\n",
       "    <tr>\n",
       "      <th>TotalRevenueGenerated</th>\n",
       "      <td>3209</td>\n",
       "      <td>NaN</td>\n",
       "      <td>NaN</td>\n",
       "      <td>NaN</td>\n",
       "      <td>168.477</td>\n",
       "      <td>81.7985</td>\n",
       "      <td>100</td>\n",
       "      <td>116.64</td>\n",
       "      <td>142.39</td>\n",
       "      <td>191.25</td>\n",
       "      <td>990.56</td>\n",
       "    </tr>\n",
       "  </tbody>\n",
       "</table>\n",
       "</div>"
      ],
      "text/plain": [
       "                             count unique       top  freq     mean      std  \\\n",
       "City                          3209      2         1  2843      NaN      NaN   \n",
       "NoOfChildren                  3209    NaN       NaN   NaN  2.12839  1.03509   \n",
       "MinAgeOfChild                 3209    NaN       NaN   NaN  4.96074  3.71419   \n",
       "MaxAgeOfChild                 3209    NaN       NaN   NaN  7.99065  8.78408   \n",
       "Tenure                        3209    NaN       NaN   NaN   347.52  90.5201   \n",
       "FrquncyOfPurchase             3209    NaN       NaN   NaN  16.2696  8.44167   \n",
       "NoOfUnitsPurchased            3209    NaN       NaN   NaN   14.684  7.18203   \n",
       "FrequencyOFPlay               3209    NaN       NaN   NaN  1568.21  1810.63   \n",
       "NoOfGamesPlayed               3209    NaN       NaN   NaN  93.6279  88.9364   \n",
       "NoOfGamesBought               3209    NaN       NaN   NaN  14.7616  8.77391   \n",
       "FavoriteChannelOfTransaction  3209      2  Favorite  2637      NaN      NaN   \n",
       "FavoriteGame                  3209      2   Uniform  3083      NaN      NaN   \n",
       "TotalRevenueGenerated         3209    NaN       NaN   NaN  168.477  81.7985   \n",
       "\n",
       "                              min     25%     50%     75%     max  \n",
       "City                          NaN     NaN     NaN     NaN     NaN  \n",
       "NoOfChildren                    1       1       2       3      11  \n",
       "MinAgeOfChild                   0       4       5       6     113  \n",
       "MaxAgeOfChild                   3       6       7       8     113  \n",
       "Tenure                        100     301     368     417     472  \n",
       "FrquncyOfPurchase               1      11      14      19     119  \n",
       "NoOfUnitsPurchased              1      10      13      17     112  \n",
       "FrequencyOFPlay                 0     446    1029    2029   27829  \n",
       "NoOfGamesPlayed                 0      37      70     119    1166  \n",
       "NoOfGamesBought                 0      10      14      19     115  \n",
       "FavoriteChannelOfTransaction  NaN     NaN     NaN     NaN     NaN  \n",
       "FavoriteGame                  NaN     NaN     NaN     NaN     NaN  \n",
       "TotalRevenueGenerated         100  116.64  142.39  191.25  990.56  "
      ]
     },
     "execution_count": 91,
     "metadata": {
      "tags": []
     },
     "output_type": "execute_result"
    }
   ],
   "source": [
    "data.describe(include='all').T"
   ]
  },
  {
   "cell_type": "raw",
   "metadata": {
    "id": "ScrYzEsvpqL7"
   },
   "source": [
    "# Observe how many records have values 113 as age of the children"
   ]
  },
  {
   "cell_type": "code",
   "execution_count": null,
   "metadata": {
    "id": "8ZOGZ2QppqL7",
    "outputId": "bbd2a5ea-149d-4fd9-ae5e-9eadac65be2c",
    "scrolled": true
   },
   "outputs": [
    {
     "data": {
      "text/plain": [
       "(20, 13)"
      ]
     },
     "execution_count": 92,
     "metadata": {
      "tags": []
     },
     "output_type": "execute_result"
    }
   ],
   "source": [
    "data.loc[(data['MinAgeOfChild']==113) | (data['MaxAgeOfChild']==113),].shape #Only colon after comma implies consider all the rows"
   ]
  },
  {
   "cell_type": "code",
   "execution_count": null,
   "metadata": {
    "id": "_y7cDsfFpqL7",
    "outputId": "d279cb52-bad4-4b4c-cd6f-d185970ec79a"
   },
   "outputs": [
    {
     "data": {
      "text/html": [
       "<div>\n",
       "<style scoped>\n",
       "    .dataframe tbody tr th:only-of-type {\n",
       "        vertical-align: middle;\n",
       "    }\n",
       "\n",
       "    .dataframe tbody tr th {\n",
       "        vertical-align: top;\n",
       "    }\n",
       "\n",
       "    .dataframe thead th {\n",
       "        text-align: right;\n",
       "    }\n",
       "</style>\n",
       "<table border=\"1\" class=\"dataframe\">\n",
       "  <thead>\n",
       "    <tr style=\"text-align: right;\">\n",
       "      <th></th>\n",
       "      <th>City</th>\n",
       "      <th>NoOfChildren</th>\n",
       "      <th>MinAgeOfChild</th>\n",
       "      <th>MaxAgeOfChild</th>\n",
       "      <th>Tenure</th>\n",
       "      <th>FrquncyOfPurchase</th>\n",
       "      <th>NoOfUnitsPurchased</th>\n",
       "      <th>FrequencyOFPlay</th>\n",
       "      <th>NoOfGamesPlayed</th>\n",
       "      <th>NoOfGamesBought</th>\n",
       "      <th>FavoriteChannelOfTransaction</th>\n",
       "      <th>FavoriteGame</th>\n",
       "      <th>TotalRevenueGenerated</th>\n",
       "    </tr>\n",
       "  </thead>\n",
       "  <tbody>\n",
       "    <tr>\n",
       "      <th>570</th>\n",
       "      <td>1</td>\n",
       "      <td>2</td>\n",
       "      <td>4</td>\n",
       "      <td>113</td>\n",
       "      <td>205</td>\n",
       "      <td>17</td>\n",
       "      <td>17</td>\n",
       "      <td>158</td>\n",
       "      <td>51</td>\n",
       "      <td>8</td>\n",
       "      <td>Favorite</td>\n",
       "      <td>Uniform</td>\n",
       "      <td>218.85</td>\n",
       "    </tr>\n",
       "    <tr>\n",
       "      <th>584</th>\n",
       "      <td>1</td>\n",
       "      <td>2</td>\n",
       "      <td>3</td>\n",
       "      <td>113</td>\n",
       "      <td>379</td>\n",
       "      <td>6</td>\n",
       "      <td>6</td>\n",
       "      <td>242</td>\n",
       "      <td>32</td>\n",
       "      <td>0</td>\n",
       "      <td>Favorite</td>\n",
       "      <td>Uniform</td>\n",
       "      <td>100.44</td>\n",
       "    </tr>\n",
       "    <tr>\n",
       "      <th>599</th>\n",
       "      <td>1</td>\n",
       "      <td>2</td>\n",
       "      <td>113</td>\n",
       "      <td>113</td>\n",
       "      <td>436</td>\n",
       "      <td>26</td>\n",
       "      <td>26</td>\n",
       "      <td>10502</td>\n",
       "      <td>562</td>\n",
       "      <td>26</td>\n",
       "      <td>Favorite</td>\n",
       "      <td>Uniform</td>\n",
       "      <td>300.00</td>\n",
       "    </tr>\n",
       "    <tr>\n",
       "      <th>804</th>\n",
       "      <td>1</td>\n",
       "      <td>3</td>\n",
       "      <td>6</td>\n",
       "      <td>113</td>\n",
       "      <td>286</td>\n",
       "      <td>6</td>\n",
       "      <td>6</td>\n",
       "      <td>2137</td>\n",
       "      <td>72</td>\n",
       "      <td>6</td>\n",
       "      <td>Favorite</td>\n",
       "      <td>Uniform</td>\n",
       "      <td>102.50</td>\n",
       "    </tr>\n",
       "    <tr>\n",
       "      <th>878</th>\n",
       "      <td>1</td>\n",
       "      <td>2</td>\n",
       "      <td>5</td>\n",
       "      <td>113</td>\n",
       "      <td>202</td>\n",
       "      <td>9</td>\n",
       "      <td>8</td>\n",
       "      <td>483</td>\n",
       "      <td>68</td>\n",
       "      <td>9</td>\n",
       "      <td>Favorite</td>\n",
       "      <td>Uniform</td>\n",
       "      <td>105.00</td>\n",
       "    </tr>\n",
       "    <tr>\n",
       "      <th>897</th>\n",
       "      <td>1</td>\n",
       "      <td>2</td>\n",
       "      <td>5</td>\n",
       "      <td>113</td>\n",
       "      <td>355</td>\n",
       "      <td>16</td>\n",
       "      <td>16</td>\n",
       "      <td>1700</td>\n",
       "      <td>142</td>\n",
       "      <td>10</td>\n",
       "      <td>Favorite</td>\n",
       "      <td>Uniform</td>\n",
       "      <td>270.00</td>\n",
       "    </tr>\n",
       "    <tr>\n",
       "      <th>1097</th>\n",
       "      <td>1</td>\n",
       "      <td>3</td>\n",
       "      <td>6</td>\n",
       "      <td>113</td>\n",
       "      <td>432</td>\n",
       "      <td>12</td>\n",
       "      <td>12</td>\n",
       "      <td>2261</td>\n",
       "      <td>194</td>\n",
       "      <td>12</td>\n",
       "      <td>Favorite</td>\n",
       "      <td>Uniform</td>\n",
       "      <td>160.00</td>\n",
       "    </tr>\n",
       "    <tr>\n",
       "      <th>1144</th>\n",
       "      <td>1</td>\n",
       "      <td>3</td>\n",
       "      <td>5</td>\n",
       "      <td>113</td>\n",
       "      <td>405</td>\n",
       "      <td>16</td>\n",
       "      <td>14</td>\n",
       "      <td>4438</td>\n",
       "      <td>130</td>\n",
       "      <td>16</td>\n",
       "      <td>Uniform</td>\n",
       "      <td>Uniform</td>\n",
       "      <td>117.50</td>\n",
       "    </tr>\n",
       "    <tr>\n",
       "      <th>1413</th>\n",
       "      <td>1</td>\n",
       "      <td>3</td>\n",
       "      <td>4</td>\n",
       "      <td>113</td>\n",
       "      <td>171</td>\n",
       "      <td>15</td>\n",
       "      <td>11</td>\n",
       "      <td>1728</td>\n",
       "      <td>41</td>\n",
       "      <td>15</td>\n",
       "      <td>Favorite</td>\n",
       "      <td>Uniform</td>\n",
       "      <td>107.50</td>\n",
       "    </tr>\n",
       "    <tr>\n",
       "      <th>1621</th>\n",
       "      <td>1</td>\n",
       "      <td>2</td>\n",
       "      <td>6</td>\n",
       "      <td>113</td>\n",
       "      <td>187</td>\n",
       "      <td>10</td>\n",
       "      <td>9</td>\n",
       "      <td>731</td>\n",
       "      <td>39</td>\n",
       "      <td>10</td>\n",
       "      <td>Uniform</td>\n",
       "      <td>Uniform</td>\n",
       "      <td>115.00</td>\n",
       "    </tr>\n",
       "    <tr>\n",
       "      <th>1658</th>\n",
       "      <td>1</td>\n",
       "      <td>2</td>\n",
       "      <td>4</td>\n",
       "      <td>113</td>\n",
       "      <td>262</td>\n",
       "      <td>10</td>\n",
       "      <td>9</td>\n",
       "      <td>465</td>\n",
       "      <td>36</td>\n",
       "      <td>8</td>\n",
       "      <td>Favorite</td>\n",
       "      <td>Favorite</td>\n",
       "      <td>120.48</td>\n",
       "    </tr>\n",
       "    <tr>\n",
       "      <th>1719</th>\n",
       "      <td>1</td>\n",
       "      <td>2</td>\n",
       "      <td>5</td>\n",
       "      <td>113</td>\n",
       "      <td>207</td>\n",
       "      <td>11</td>\n",
       "      <td>11</td>\n",
       "      <td>376</td>\n",
       "      <td>40</td>\n",
       "      <td>11</td>\n",
       "      <td>Favorite</td>\n",
       "      <td>Uniform</td>\n",
       "      <td>120.00</td>\n",
       "    </tr>\n",
       "    <tr>\n",
       "      <th>1833</th>\n",
       "      <td>1</td>\n",
       "      <td>2</td>\n",
       "      <td>5</td>\n",
       "      <td>113</td>\n",
       "      <td>332</td>\n",
       "      <td>13</td>\n",
       "      <td>13</td>\n",
       "      <td>266</td>\n",
       "      <td>37</td>\n",
       "      <td>13</td>\n",
       "      <td>Favorite</td>\n",
       "      <td>Uniform</td>\n",
       "      <td>127.51</td>\n",
       "    </tr>\n",
       "    <tr>\n",
       "      <th>1834</th>\n",
       "      <td>1</td>\n",
       "      <td>3</td>\n",
       "      <td>3</td>\n",
       "      <td>113</td>\n",
       "      <td>407</td>\n",
       "      <td>26</td>\n",
       "      <td>25</td>\n",
       "      <td>4457</td>\n",
       "      <td>313</td>\n",
       "      <td>24</td>\n",
       "      <td>Favorite</td>\n",
       "      <td>Uniform</td>\n",
       "      <td>212.51</td>\n",
       "    </tr>\n",
       "    <tr>\n",
       "      <th>1874</th>\n",
       "      <td>1</td>\n",
       "      <td>5</td>\n",
       "      <td>5</td>\n",
       "      <td>113</td>\n",
       "      <td>326</td>\n",
       "      <td>10</td>\n",
       "      <td>10</td>\n",
       "      <td>1433</td>\n",
       "      <td>37</td>\n",
       "      <td>10</td>\n",
       "      <td>Favorite</td>\n",
       "      <td>Uniform</td>\n",
       "      <td>120.00</td>\n",
       "    </tr>\n",
       "    <tr>\n",
       "      <th>2264</th>\n",
       "      <td>1</td>\n",
       "      <td>1</td>\n",
       "      <td>113</td>\n",
       "      <td>113</td>\n",
       "      <td>366</td>\n",
       "      <td>32</td>\n",
       "      <td>29</td>\n",
       "      <td>3067</td>\n",
       "      <td>188</td>\n",
       "      <td>32</td>\n",
       "      <td>Favorite</td>\n",
       "      <td>Uniform</td>\n",
       "      <td>378.76</td>\n",
       "    </tr>\n",
       "    <tr>\n",
       "      <th>2324</th>\n",
       "      <td>1</td>\n",
       "      <td>4</td>\n",
       "      <td>5</td>\n",
       "      <td>113</td>\n",
       "      <td>184</td>\n",
       "      <td>27</td>\n",
       "      <td>25</td>\n",
       "      <td>355</td>\n",
       "      <td>74</td>\n",
       "      <td>27</td>\n",
       "      <td>Uniform</td>\n",
       "      <td>Uniform</td>\n",
       "      <td>235.04</td>\n",
       "    </tr>\n",
       "    <tr>\n",
       "      <th>2627</th>\n",
       "      <td>1</td>\n",
       "      <td>6</td>\n",
       "      <td>9</td>\n",
       "      <td>113</td>\n",
       "      <td>436</td>\n",
       "      <td>25</td>\n",
       "      <td>21</td>\n",
       "      <td>1898</td>\n",
       "      <td>260</td>\n",
       "      <td>23</td>\n",
       "      <td>Favorite</td>\n",
       "      <td>Uniform</td>\n",
       "      <td>240.98</td>\n",
       "    </tr>\n",
       "    <tr>\n",
       "      <th>2728</th>\n",
       "      <td>1</td>\n",
       "      <td>1</td>\n",
       "      <td>113</td>\n",
       "      <td>113</td>\n",
       "      <td>419</td>\n",
       "      <td>17</td>\n",
       "      <td>17</td>\n",
       "      <td>610</td>\n",
       "      <td>48</td>\n",
       "      <td>16</td>\n",
       "      <td>Favorite</td>\n",
       "      <td>Uniform</td>\n",
       "      <td>159.99</td>\n",
       "    </tr>\n",
       "    <tr>\n",
       "      <th>2742</th>\n",
       "      <td>1</td>\n",
       "      <td>4</td>\n",
       "      <td>5</td>\n",
       "      <td>113</td>\n",
       "      <td>321</td>\n",
       "      <td>11</td>\n",
       "      <td>9</td>\n",
       "      <td>267</td>\n",
       "      <td>38</td>\n",
       "      <td>11</td>\n",
       "      <td>Favorite</td>\n",
       "      <td>Uniform</td>\n",
       "      <td>172.50</td>\n",
       "    </tr>\n",
       "  </tbody>\n",
       "</table>\n",
       "</div>"
      ],
      "text/plain": [
       "     City  NoOfChildren  MinAgeOfChild  MaxAgeOfChild  Tenure  \\\n",
       "570     1             2              4            113     205   \n",
       "584     1             2              3            113     379   \n",
       "599     1             2            113            113     436   \n",
       "804     1             3              6            113     286   \n",
       "878     1             2              5            113     202   \n",
       "897     1             2              5            113     355   \n",
       "1097    1             3              6            113     432   \n",
       "1144    1             3              5            113     405   \n",
       "1413    1             3              4            113     171   \n",
       "1621    1             2              6            113     187   \n",
       "1658    1             2              4            113     262   \n",
       "1719    1             2              5            113     207   \n",
       "1833    1             2              5            113     332   \n",
       "1834    1             3              3            113     407   \n",
       "1874    1             5              5            113     326   \n",
       "2264    1             1            113            113     366   \n",
       "2324    1             4              5            113     184   \n",
       "2627    1             6              9            113     436   \n",
       "2728    1             1            113            113     419   \n",
       "2742    1             4              5            113     321   \n",
       "\n",
       "      FrquncyOfPurchase  NoOfUnitsPurchased  FrequencyOFPlay  NoOfGamesPlayed  \\\n",
       "570                  17                  17              158               51   \n",
       "584                   6                   6              242               32   \n",
       "599                  26                  26            10502              562   \n",
       "804                   6                   6             2137               72   \n",
       "878                   9                   8              483               68   \n",
       "897                  16                  16             1700              142   \n",
       "1097                 12                  12             2261              194   \n",
       "1144                 16                  14             4438              130   \n",
       "1413                 15                  11             1728               41   \n",
       "1621                 10                   9              731               39   \n",
       "1658                 10                   9              465               36   \n",
       "1719                 11                  11              376               40   \n",
       "1833                 13                  13              266               37   \n",
       "1834                 26                  25             4457              313   \n",
       "1874                 10                  10             1433               37   \n",
       "2264                 32                  29             3067              188   \n",
       "2324                 27                  25              355               74   \n",
       "2627                 25                  21             1898              260   \n",
       "2728                 17                  17              610               48   \n",
       "2742                 11                   9              267               38   \n",
       "\n",
       "      NoOfGamesBought FavoriteChannelOfTransaction FavoriteGame  \\\n",
       "570                 8                     Favorite      Uniform   \n",
       "584                 0                     Favorite      Uniform   \n",
       "599                26                     Favorite      Uniform   \n",
       "804                 6                     Favorite      Uniform   \n",
       "878                 9                     Favorite      Uniform   \n",
       "897                10                     Favorite      Uniform   \n",
       "1097               12                     Favorite      Uniform   \n",
       "1144               16                      Uniform      Uniform   \n",
       "1413               15                     Favorite      Uniform   \n",
       "1621               10                      Uniform      Uniform   \n",
       "1658                8                     Favorite     Favorite   \n",
       "1719               11                     Favorite      Uniform   \n",
       "1833               13                     Favorite      Uniform   \n",
       "1834               24                     Favorite      Uniform   \n",
       "1874               10                     Favorite      Uniform   \n",
       "2264               32                     Favorite      Uniform   \n",
       "2324               27                      Uniform      Uniform   \n",
       "2627               23                     Favorite      Uniform   \n",
       "2728               16                     Favorite      Uniform   \n",
       "2742               11                     Favorite      Uniform   \n",
       "\n",
       "      TotalRevenueGenerated  \n",
       "570                  218.85  \n",
       "584                  100.44  \n",
       "599                  300.00  \n",
       "804                  102.50  \n",
       "878                  105.00  \n",
       "897                  270.00  \n",
       "1097                 160.00  \n",
       "1144                 117.50  \n",
       "1413                 107.50  \n",
       "1621                 115.00  \n",
       "1658                 120.48  \n",
       "1719                 120.00  \n",
       "1833                 127.51  \n",
       "1834                 212.51  \n",
       "1874                 120.00  \n",
       "2264                 378.76  \n",
       "2324                 235.04  \n",
       "2627                 240.98  \n",
       "2728                 159.99  \n",
       "2742                 172.50  "
      ]
     },
     "execution_count": 93,
     "metadata": {
      "tags": []
     },
     "output_type": "execute_result"
    }
   ],
   "source": [
    "data.loc[(data['MinAgeOfChild']==113) | (data['MaxAgeOfChild']==113),] #Only colon after comma implies consider all the rows"
   ]
  },
  {
   "cell_type": "code",
   "execution_count": null,
   "metadata": {
    "id": "6meKQTz7pqL8",
    "outputId": "fca61352-834f-492b-a274-ab00081e61a7"
   },
   "outputs": [
    {
     "name": "stdout",
     "output_type": "stream",
     "text": [
      "(3209, 13)\n"
     ]
    }
   ],
   "source": [
    "print (data.shape)"
   ]
  },
  {
   "cell_type": "markdown",
   "metadata": {
    "id": "3Mlia6rEpqL8"
   },
   "source": [
    "#### Removing outliers\n",
    "\n",
    "    Ignore records with age as 113"
   ]
  },
  {
   "cell_type": "code",
   "execution_count": null,
   "metadata": {
    "id": "Okj8vUn6pqL8"
   },
   "outputs": [],
   "source": [
    "data=data.loc[(data['MinAgeOfChild'] !=113) | (data['MaxAgeOfChild']!=113),:] "
   ]
  },
  {
   "cell_type": "code",
   "execution_count": null,
   "metadata": {
    "id": "aAmoj1XhpqL9",
    "outputId": "c0741e75-13b9-43dd-d702-4aa3d34efcef"
   },
   "outputs": [
    {
     "name": "stdout",
     "output_type": "stream",
     "text": [
      "(3206, 13)\n"
     ]
    }
   ],
   "source": [
    "print (data.shape)"
   ]
  },
  {
   "cell_type": "markdown",
   "metadata": {
    "id": "wlYQKx-XpqL9"
   },
   "source": [
    "#### Missing Data\n",
    "\n",
    "    pandas primarily uses the value np.nan to represent missing data. "
   ]
  },
  {
   "cell_type": "markdown",
   "metadata": {
    "id": "irEuyKx8pqL9"
   },
   "source": [
    "Check for missing value\n",
    "\n",
    "    is.null() output boolean i.e. if missing value then true else false. \n",
    "\n",
    "    sum function counts 'true' thus gives total number of missing values"
   ]
  },
  {
   "cell_type": "code",
   "execution_count": null,
   "metadata": {
    "id": "swG9kQlypqL-",
    "outputId": "af082fe1-9050-4f5f-fa8a-16e9963e1d80"
   },
   "outputs": [
    {
     "data": {
      "text/plain": [
       "City                            0\n",
       "NoOfChildren                    0\n",
       "MinAgeOfChild                   0\n",
       "MaxAgeOfChild                   0\n",
       "Tenure                          0\n",
       "FrquncyOfPurchase               0\n",
       "NoOfUnitsPurchased              0\n",
       "FrequencyOFPlay                 0\n",
       "NoOfGamesPlayed                 0\n",
       "NoOfGamesBought                 0\n",
       "FavoriteChannelOfTransaction    0\n",
       "FavoriteGame                    0\n",
       "TotalRevenueGenerated           0\n",
       "dtype: int64"
      ]
     },
     "execution_count": 97,
     "metadata": {
      "tags": []
     },
     "output_type": "execute_result"
    }
   ],
   "source": [
    "data.isnull().sum()"
   ]
  },
  {
   "cell_type": "markdown",
   "metadata": {
    "id": "n4PyYBxGpqL-"
   },
   "source": [
    "In this case there are no missing values. However if we find any missing values in the data, as a rule of thumb\n",
    "\n",
    "\n",
    "    If the perticular row/column has more number of missing values then drop that perticular rows/column \n",
    "    \n",
    "        e.g. To drop any rows that have missing data use data.dropna(axis=0, inplace=True) \n",
    "        \n",
    "    Otherwise, impute/fill missing data based on domain knowledge or using imputation techniques\n",
    "        \n",
    "        e.g. To fill missing values with mean use data.fillna(data.mean(), inplace=True)      "
   ]
  },
  {
   "cell_type": "code",
   "execution_count": null,
   "metadata": {
    "id": "bH9zmb-6S6wa"
   },
   "outputs": [],
   "source": []
  },
  {
   "cell_type": "markdown",
   "metadata": {
    "id": "zbyEMaONpqL-"
   },
   "source": [
    "#### Correlation between numeric attributes "
   ]
  },
  {
   "cell_type": "code",
   "execution_count": null,
   "metadata": {
    "id": "-1YfQLiOpqL_",
    "outputId": "64f4a956-732a-4660-9d5d-3e0c15199c87",
    "scrolled": true
   },
   "outputs": [
    {
     "data": {
      "text/plain": [
       "Index(['NoOfChildren', 'MinAgeOfChild', 'MaxAgeOfChild', 'Tenure',\n",
       "       'FrquncyOfPurchase', 'NoOfUnitsPurchased', 'FrequencyOFPlay',\n",
       "       'NoOfGamesPlayed', 'NoOfGamesBought', 'TotalRevenueGenerated'],\n",
       "      dtype='object')"
      ]
     },
     "execution_count": 98,
     "metadata": {
      "tags": []
     },
     "output_type": "execute_result"
    }
   ],
   "source": [
    "num_attr = data.select_dtypes(include=['int64', 'float64']).columns\n",
    "num_attr"
   ]
  },
  {
   "cell_type": "markdown",
   "metadata": {
    "id": "ZDqjvtlhpqL_"
   },
   "source": [
    "If the correlation coefficient is one, the variables have a perfect positive correlation. \n",
    "\n",
    "    This means that if one variable moves a given amount, the second moves proportionally in the same direction. \n",
    "\n",
    "If correlation coefficient is zero, no relationship exists between the variables. \n",
    "\n",
    "    If one variable moves, you can make no predictions about the movement of the other variable; they are uncorrelated.\n",
    "\n",
    "If correlation coefficient is –1, the variables are perfectly negatively correlated (or inversely correlated) and move in opposition to each other.\n",
    "\n",
    "    If one variable increases, the other variable decreases proportionally. "
   ]
  },
  {
   "cell_type": "code",
   "execution_count": null,
   "metadata": {
    "id": "MIjJt1sgpqL_",
    "outputId": "0f296419-85ae-481b-ddb3-5adfd8a1ab8f"
   },
   "outputs": [
    {
     "data": {
      "text/html": [
       "<div>\n",
       "<style scoped>\n",
       "    .dataframe tbody tr th:only-of-type {\n",
       "        vertical-align: middle;\n",
       "    }\n",
       "\n",
       "    .dataframe tbody tr th {\n",
       "        vertical-align: top;\n",
       "    }\n",
       "\n",
       "    .dataframe thead th {\n",
       "        text-align: right;\n",
       "    }\n",
       "</style>\n",
       "<table border=\"1\" class=\"dataframe\">\n",
       "  <thead>\n",
       "    <tr style=\"text-align: right;\">\n",
       "      <th></th>\n",
       "      <th>NoOfChildren</th>\n",
       "      <th>MinAgeOfChild</th>\n",
       "      <th>MaxAgeOfChild</th>\n",
       "      <th>Tenure</th>\n",
       "      <th>FrquncyOfPurchase</th>\n",
       "      <th>NoOfUnitsPurchased</th>\n",
       "      <th>FrequencyOFPlay</th>\n",
       "      <th>NoOfGamesPlayed</th>\n",
       "      <th>NoOfGamesBought</th>\n",
       "      <th>TotalRevenueGenerated</th>\n",
       "    </tr>\n",
       "  </thead>\n",
       "  <tbody>\n",
       "    <tr>\n",
       "      <th>NoOfChildren</th>\n",
       "      <td>1.000000</td>\n",
       "      <td>-0.347147</td>\n",
       "      <td>0.212386</td>\n",
       "      <td>0.085770</td>\n",
       "      <td>0.138494</td>\n",
       "      <td>0.138081</td>\n",
       "      <td>0.166047</td>\n",
       "      <td>0.214791</td>\n",
       "      <td>0.132328</td>\n",
       "      <td>0.108462</td>\n",
       "    </tr>\n",
       "    <tr>\n",
       "      <th>MinAgeOfChild</th>\n",
       "      <td>-0.347147</td>\n",
       "      <td>1.000000</td>\n",
       "      <td>0.098086</td>\n",
       "      <td>-0.161665</td>\n",
       "      <td>-0.100339</td>\n",
       "      <td>-0.091109</td>\n",
       "      <td>-0.089819</td>\n",
       "      <td>-0.116010</td>\n",
       "      <td>-0.084461</td>\n",
       "      <td>-0.026918</td>\n",
       "    </tr>\n",
       "    <tr>\n",
       "      <th>MaxAgeOfChild</th>\n",
       "      <td>0.212386</td>\n",
       "      <td>0.098086</td>\n",
       "      <td>1.000000</td>\n",
       "      <td>-0.051244</td>\n",
       "      <td>-0.019124</td>\n",
       "      <td>-0.019833</td>\n",
       "      <td>-0.008006</td>\n",
       "      <td>0.006756</td>\n",
       "      <td>-0.021179</td>\n",
       "      <td>-0.010015</td>\n",
       "    </tr>\n",
       "    <tr>\n",
       "      <th>Tenure</th>\n",
       "      <td>0.085770</td>\n",
       "      <td>-0.161665</td>\n",
       "      <td>-0.051244</td>\n",
       "      <td>1.000000</td>\n",
       "      <td>0.193046</td>\n",
       "      <td>0.191971</td>\n",
       "      <td>0.241398</td>\n",
       "      <td>0.273462</td>\n",
       "      <td>0.187943</td>\n",
       "      <td>0.116005</td>\n",
       "    </tr>\n",
       "    <tr>\n",
       "      <th>FrquncyOfPurchase</th>\n",
       "      <td>0.138494</td>\n",
       "      <td>-0.100339</td>\n",
       "      <td>-0.019124</td>\n",
       "      <td>0.193046</td>\n",
       "      <td>1.000000</td>\n",
       "      <td>0.934053</td>\n",
       "      <td>0.279028</td>\n",
       "      <td>0.397175</td>\n",
       "      <td>0.947708</td>\n",
       "      <td>0.662707</td>\n",
       "    </tr>\n",
       "    <tr>\n",
       "      <th>NoOfUnitsPurchased</th>\n",
       "      <td>0.138081</td>\n",
       "      <td>-0.091109</td>\n",
       "      <td>-0.019833</td>\n",
       "      <td>0.191971</td>\n",
       "      <td>0.934053</td>\n",
       "      <td>1.000000</td>\n",
       "      <td>0.310640</td>\n",
       "      <td>0.435378</td>\n",
       "      <td>0.868145</td>\n",
       "      <td>0.749845</td>\n",
       "    </tr>\n",
       "    <tr>\n",
       "      <th>FrequencyOFPlay</th>\n",
       "      <td>0.166047</td>\n",
       "      <td>-0.089819</td>\n",
       "      <td>-0.008006</td>\n",
       "      <td>0.241398</td>\n",
       "      <td>0.279028</td>\n",
       "      <td>0.310640</td>\n",
       "      <td>1.000000</td>\n",
       "      <td>0.738007</td>\n",
       "      <td>0.285863</td>\n",
       "      <td>0.231632</td>\n",
       "    </tr>\n",
       "    <tr>\n",
       "      <th>NoOfGamesPlayed</th>\n",
       "      <td>0.214791</td>\n",
       "      <td>-0.116010</td>\n",
       "      <td>0.006756</td>\n",
       "      <td>0.273462</td>\n",
       "      <td>0.397175</td>\n",
       "      <td>0.435378</td>\n",
       "      <td>0.738007</td>\n",
       "      <td>1.000000</td>\n",
       "      <td>0.398602</td>\n",
       "      <td>0.292234</td>\n",
       "    </tr>\n",
       "    <tr>\n",
       "      <th>NoOfGamesBought</th>\n",
       "      <td>0.132328</td>\n",
       "      <td>-0.084461</td>\n",
       "      <td>-0.021179</td>\n",
       "      <td>0.187943</td>\n",
       "      <td>0.947708</td>\n",
       "      <td>0.868145</td>\n",
       "      <td>0.285863</td>\n",
       "      <td>0.398602</td>\n",
       "      <td>1.000000</td>\n",
       "      <td>0.494682</td>\n",
       "    </tr>\n",
       "    <tr>\n",
       "      <th>TotalRevenueGenerated</th>\n",
       "      <td>0.108462</td>\n",
       "      <td>-0.026918</td>\n",
       "      <td>-0.010015</td>\n",
       "      <td>0.116005</td>\n",
       "      <td>0.662707</td>\n",
       "      <td>0.749845</td>\n",
       "      <td>0.231632</td>\n",
       "      <td>0.292234</td>\n",
       "      <td>0.494682</td>\n",
       "      <td>1.000000</td>\n",
       "    </tr>\n",
       "  </tbody>\n",
       "</table>\n",
       "</div>"
      ],
      "text/plain": [
       "                       NoOfChildren  MinAgeOfChild  MaxAgeOfChild    Tenure  \\\n",
       "NoOfChildren               1.000000      -0.347147       0.212386  0.085770   \n",
       "MinAgeOfChild             -0.347147       1.000000       0.098086 -0.161665   \n",
       "MaxAgeOfChild              0.212386       0.098086       1.000000 -0.051244   \n",
       "Tenure                     0.085770      -0.161665      -0.051244  1.000000   \n",
       "FrquncyOfPurchase          0.138494      -0.100339      -0.019124  0.193046   \n",
       "NoOfUnitsPurchased         0.138081      -0.091109      -0.019833  0.191971   \n",
       "FrequencyOFPlay            0.166047      -0.089819      -0.008006  0.241398   \n",
       "NoOfGamesPlayed            0.214791      -0.116010       0.006756  0.273462   \n",
       "NoOfGamesBought            0.132328      -0.084461      -0.021179  0.187943   \n",
       "TotalRevenueGenerated      0.108462      -0.026918      -0.010015  0.116005   \n",
       "\n",
       "                       FrquncyOfPurchase  NoOfUnitsPurchased  FrequencyOFPlay  \\\n",
       "NoOfChildren                    0.138494            0.138081         0.166047   \n",
       "MinAgeOfChild                  -0.100339           -0.091109        -0.089819   \n",
       "MaxAgeOfChild                  -0.019124           -0.019833        -0.008006   \n",
       "Tenure                          0.193046            0.191971         0.241398   \n",
       "FrquncyOfPurchase               1.000000            0.934053         0.279028   \n",
       "NoOfUnitsPurchased              0.934053            1.000000         0.310640   \n",
       "FrequencyOFPlay                 0.279028            0.310640         1.000000   \n",
       "NoOfGamesPlayed                 0.397175            0.435378         0.738007   \n",
       "NoOfGamesBought                 0.947708            0.868145         0.285863   \n",
       "TotalRevenueGenerated           0.662707            0.749845         0.231632   \n",
       "\n",
       "                       NoOfGamesPlayed  NoOfGamesBought  TotalRevenueGenerated  \n",
       "NoOfChildren                  0.214791         0.132328               0.108462  \n",
       "MinAgeOfChild                -0.116010        -0.084461              -0.026918  \n",
       "MaxAgeOfChild                 0.006756        -0.021179              -0.010015  \n",
       "Tenure                        0.273462         0.187943               0.116005  \n",
       "FrquncyOfPurchase             0.397175         0.947708               0.662707  \n",
       "NoOfUnitsPurchased            0.435378         0.868145               0.749845  \n",
       "FrequencyOFPlay               0.738007         0.285863               0.231632  \n",
       "NoOfGamesPlayed               1.000000         0.398602               0.292234  \n",
       "NoOfGamesBought               0.398602         1.000000               0.494682  \n",
       "TotalRevenueGenerated         0.292234         0.494682               1.000000  "
      ]
     },
     "execution_count": 99,
     "metadata": {
      "tags": []
     },
     "output_type": "execute_result"
    }
   ],
   "source": [
    "data[num_attr].corr()"
   ]
  },
  {
   "cell_type": "markdown",
   "metadata": {
    "id": "8Znm3lCwpqMA"
   },
   "source": [
    "### Exploratory Data Analysis"
   ]
  },
  {
   "cell_type": "markdown",
   "metadata": {
    "id": "NA9EP1McpqMA"
   },
   "source": [
    "#### Uni-variate Analysis"
   ]
  },
  {
   "cell_type": "code",
   "execution_count": null,
   "metadata": {
    "id": "Dvhkvd78pqMA",
    "outputId": "90fa04fa-e763-4e74-e025-e8ccd74550e8"
   },
   "outputs": [
    {
     "data": {
      "image/png": "[encoded data removed]",
      "text/plain": [
       "<Figure size 432x288 with 1 Axes>"
      ]
     },
     "metadata": {
      "needs_background": "light",
      "tags": []
     },
     "output_type": "display_data"
    }
   ],
   "source": [
    "# Plotting Categorical Data\n",
    "sns.countplot(x=\"FavoriteGame\", data=data)\n",
    "plt.title('Distribution of FavouriteGame')\n",
    "plt.show()"
   ]
  },
  {
   "cell_type": "code",
   "execution_count": null,
   "metadata": {
    "id": "Ioi0eJHYpqMB",
    "outputId": "46a70a82-4684-40fc-ebb7-aa1513ea9ba1"
   },
   "outputs": [
    {
     "data": {
      "text/plain": [
       "<Figure size 288x576 with 0 Axes>"
      ]
     },
     "execution_count": 101,
     "metadata": {
      "tags": []
     },
     "output_type": "execute_result"
    },
    {
     "data": {
      "image/png": "[encoded data removed]",
      "text/plain": [
       "<Figure size 432x288 with 1 Axes>"
      ]
     },
     "metadata": {
      "needs_background": "light",
      "tags": []
     },
     "output_type": "display_data"
    },
    {
     "data": {
      "text/plain": [
       "<Figure size 288x576 with 0 Axes>"
      ]
     },
     "metadata": {
      "tags": []
     },
     "output_type": "display_data"
    }
   ],
   "source": [
    " x=sns.countplot(x=\"FavoriteGame\", hue=\"City\", data=data)\n",
    "h=8\n",
    "w=4\n",
    "plt.figure(figsize=(w,h))"
   ]
  },
  {
   "cell_type": "code",
   "execution_count": null,
   "metadata": {
    "id": "BH4gxb3RpqMC",
    "outputId": "d844ab4a-86b3-43ae-d782-a5fc6222d701"
   },
   "outputs": [
    {
     "data": {
      "image/png": "[encoded data removed]",
      "text/plain": [
       "<Figure size 432x288 with 1 Axes>"
      ]
     },
     "metadata": {
      "needs_background": "light",
      "tags": []
     },
     "output_type": "display_data"
    }
   ],
   "source": [
    " x=sns.countplot(y=\"FavoriteGame\", hue=\"City\", data=data)"
   ]
  },
  {
   "cell_type": "markdown",
   "metadata": {
    "id": "gH33r0pOpqMC"
   },
   "source": [
    "## grouping with additional cat values use catplot\n"
   ]
  },
  {
   "cell_type": "code",
   "execution_count": null,
   "metadata": {
    "id": "yrkHzpy8pqMC",
    "outputId": "6453fbda-474a-4337-dd82-90264f28ec46"
   },
   "outputs": [
    {
     "data": {
      "text/plain": [
       "<seaborn.axisgrid.FacetGrid at 0x7fea98d7e3a0>"
      ]
     },
     "execution_count": 103,
     "metadata": {
      "tags": []
     },
     "output_type": "execute_result"
    },
    {
     "data": {
      "image/png": "[encoded data removed]",
      "text/plain": [
       "<Figure size 560.7x288 with 2 Axes>"
      ]
     },
     "metadata": {
      "needs_background": "light",
      "tags": []
     },
     "output_type": "display_data"
    }
   ],
   "source": [
    "sns.catplot(x=\"FavoriteGame\", hue=\"FavoriteChannelOfTransaction\", col=\"City\",data=data, kind=\"count\",height=4, aspect=.7)"
   ]
  },
  {
   "cell_type": "markdown",
   "metadata": {
    "id": "LPrsYI-rpqMD"
   },
   "source": [
    "# manually changing the order"
   ]
  },
  {
   "cell_type": "code",
   "execution_count": null,
   "metadata": {
    "id": "KXPxasYLpqMD",
    "outputId": "ca730cc0-1012-4131-8475-5cae688365d3"
   },
   "outputs": [
    {
     "data": {
      "text/plain": [
       "<seaborn.axisgrid.FacetGrid at 0x7fea98d80430>"
      ]
     },
     "execution_count": 104,
     "metadata": {
      "tags": []
     },
     "output_type": "execute_result"
    },
    {
     "data": {
      "image/png": "[encoded data removed]",
      "text/plain": [
       "<Figure size 560.7x288 with 2 Axes>"
      ]
     },
     "metadata": {
      "needs_background": "light",
      "tags": []
     },
     "output_type": "display_data"
    }
   ],
   "source": [
    "order=['Uniform','Favorite']\n",
    "sns.catplot(x=\"FavoriteGame\",order=order ,hue=\"FavoriteChannelOfTransaction\", col=\"City\",data=data, kind=\"count\",height=4, aspect=.7)"
   ]
  },
  {
   "cell_type": "code",
   "execution_count": null,
   "metadata": {
    "id": "7bTL5rYlpqME",
    "outputId": "2c6fb485-24e4-48fc-932b-737e80ae7f2a"
   },
   "outputs": [
    {
     "name": "stderr",
     "output_type": "stream",
     "text": [
      "/Users/dhanasreedevi/opt/anaconda3/lib/python3.8/site-packages/seaborn/distributions.py:2551: FutureWarning: `distplot` is a deprecated function and will be removed in a future version. Please adapt your code to use either `displot` (a figure-level function with similar flexibility) or `histplot` (an axes-level function for histograms).\n",
      "  warnings.warn(msg, FutureWarning)\n"
     ]
    },
    {
     "data": {
      "image/png": "[encoded data removed]",
      "text/plain": [
       "<Figure size 432x288 with 1 Axes>"
      ]
     },
     "metadata": {
      "needs_background": "light",
      "tags": []
     },
     "output_type": "display_data"
    }
   ],
   "source": [
    "# Plotting Numerical Data\n",
    "\n",
    "# Make default histogram of FrequencyOFPlay\n",
    "sns.distplot(data[\"FrequencyOFPlay\"],rug=False, hist=True )\n",
    "# Bins can be changes\n",
    "plt.show()"
   ]
  },
  {
   "cell_type": "markdown",
   "metadata": {
    "id": "g8xQtSyUpqME"
   },
   "source": [
    "#### Bi-variate Analysis"
   ]
  },
  {
   "cell_type": "code",
   "execution_count": null,
   "metadata": {
    "id": "X_9dZp6apqMF",
    "outputId": "b92a38c0-4a45-4034-b402-408fe055d78e"
   },
   "outputs": [
    {
     "data": {
      "image/png": "[encoded data removed]",
      "text/plain": [
       "<Figure size 360x360 with 1 Axes>"
      ]
     },
     "metadata": {
      "needs_background": "light",
      "tags": []
     },
     "output_type": "display_data"
    }
   ],
   "source": [
    "# Plotting Numeric VS Numeric Data\n",
    "sns.lmplot(x='NoOfUnitsPurchased', y='TotalRevenueGenerated', data=data)\n",
    "plt.show()"
   ]
  },
  {
   "cell_type": "markdown",
   "metadata": {
    "id": "sPWZatYYpqMF"
   },
   "source": [
    "## including third variable as color"
   ]
  },
  {
   "cell_type": "code",
   "execution_count": null,
   "metadata": {
    "id": "bP2Jhf5npqMF",
    "outputId": "70533238-efd7-478a-9db8-357e1b7e0650"
   },
   "outputs": [
    {
     "data": {
      "image/png": "[encoded data removed]",
      "text/plain": [
       "<Figure size 402.375x360 with 1 Axes>"
      ]
     },
     "metadata": {
      "needs_background": "light",
      "tags": []
     },
     "output_type": "display_data"
    }
   ],
   "source": [
    "sns.lmplot(x='NoOfUnitsPurchased', y='TotalRevenueGenerated',hue='City', data=data, markers=[\"o\", \"x\"])\n",
    "plt.show()"
   ]
  },
  {
   "cell_type": "markdown",
   "metadata": {
    "id": "VLygsSVppqMG"
   },
   "source": [
    "## show the third variable on different columns"
   ]
  },
  {
   "cell_type": "code",
   "execution_count": null,
   "metadata": {
    "id": "cjsb7MuepqMG",
    "outputId": "c029fa20-a32c-4eb8-dd2e-888ebfc3f69c"
   },
   "outputs": [
    {
     "data": {
      "image/png": "[encoded data removed]",
      "text/plain": [
       "<Figure size 720x360 with 2 Axes>"
      ]
     },
     "metadata": {
      "needs_background": "light",
      "tags": []
     },
     "output_type": "display_data"
    }
   ],
   "source": [
    "\n",
    "sns.lmplot(x='NoOfUnitsPurchased', y='TotalRevenueGenerated',col=\"City\", data=data)\n",
    "plt.show()"
   ]
  },
  {
   "cell_type": "code",
   "execution_count": null,
   "metadata": {
    "id": "A5ZkGBqopqMG",
    "outputId": "98a977ff-4a1e-4453-e9b2-2e9c4bde923f"
   },
   "outputs": [
    {
     "data": {
      "image/png": "[encoded data removed]",
      "text/plain": [
       "<Figure size 432x288 with 1 Axes>"
      ]
     },
     "metadata": {
      "needs_background": "light",
      "tags": []
     },
     "output_type": "display_data"
    }
   ],
   "source": [
    "# Plotting Numeric VS Categorical Data\n",
    "sns.boxplot(x=\"FavoriteGame\", y=\"TotalRevenueGenerated\", data=data, palette=\"Set3\")\n",
    "sns.despine(offset=10, trim=True)\n",
    "plt.show()"
   ]
  },
  {
   "cell_type": "code",
   "execution_count": null,
   "metadata": {
    "id": "LrEthic8pqMH",
    "outputId": "f4882919-7abf-4ded-cae8-477d7f13fdd6"
   },
   "outputs": [
    {
     "data": {
      "image/png": "[encoded data removed]",
      "text/plain": [
       "<Figure size 432x288 with 1 Axes>"
      ]
     },
     "metadata": {
      "needs_background": "light",
      "tags": []
     },
     "output_type": "display_data"
    }
   ],
   "source": [
    "# Plotting Numeric VS Categorical Data\n",
    "sns.boxplot(x=\"City\", y=\"TotalRevenueGenerated\", data=data, palette=\"PRGn\")\n",
    "sns.despine(offset=10, trim=True)\n",
    "plt.show()"
   ]
  },
  {
   "cell_type": "markdown",
   "metadata": {
    "id": "QJO-NDJKpqMI"
   },
   "source": [
    "## nesting of categorical"
   ]
  },
  {
   "cell_type": "code",
   "execution_count": null,
   "metadata": {
    "id": "koZcje30pqMI",
    "outputId": "b4d90ea4-0622-4d88-cdb0-6e77cf360ca3"
   },
   "outputs": [
    {
     "data": {
      "image/png": "[encoded data removed]",
      "text/plain": [
       "<Figure size 432x288 with 1 Axes>"
      ]
     },
     "metadata": {
      "needs_background": "light",
      "tags": []
     },
     "output_type": "display_data"
    }
   ],
   "source": [
    "# Plotting Numeric VS Categorical Data\n",
    "sns.boxplot(x=\"FavoriteChannelOfTransaction\", y=\"TotalRevenueGenerated\",hue='City', data=data, palette=\"PRGn\",linewidth=2.5)\n",
    "sns.despine(offset=10, trim=True)\n",
    "plt.show()"
   ]
  },
  {
   "cell_type": "code",
   "execution_count": null,
   "metadata": {
    "id": "xwPt-cX7pqMJ",
    "outputId": "0af81fae-8fc7-454e-b1b8-6f0a27c1de84"
   },
   "outputs": [
    {
     "data": {
      "text/plain": [
       "(3206, 13)"
      ]
     },
     "execution_count": 112,
     "metadata": {
      "tags": []
     },
     "output_type": "execute_result"
    }
   ],
   "source": [
    "data.shape"
   ]
  },
  {
   "cell_type": "markdown",
   "metadata": {
    "id": "qOo5I6XnpqMJ"
   },
   "source": [
    "## Building a Linear Model"
   ]
  },
  {
   "cell_type": "markdown",
   "metadata": {
    "id": "Y1Xs8MhUpqMJ"
   },
   "source": [
    "### Simple Linear Regression"
   ]
  },
  {
   "cell_type": "markdown",
   "metadata": {
    "id": "mQmYo19vpqMK"
   },
   "source": [
    "Linear regression is an approach for predicting a quantitative response using a single feature (or \"predictor\" or \"input variable\"). It takes the following form:\n",
    "\n",
    "$y = \\beta_0 + \\beta_1x$\n",
    "\n",
    "What does each term represent?\n",
    "\n",
    "$y$ is the response\n",
    "    \n",
    "$x$ is the feature\n",
    "    \n",
    "$\\beta_0$ is the intercept\n",
    "    \n",
    "$\\beta_1$ is the coefficient for x\n",
    "\n",
    "Together, $\\beta_0$ and $\\beta_1$ are called the model coefficients. To create your model, you must \"learn\" the values of these coefficients. And once we've learned these coefficients, we can use the model to predict TotalRevenueGenerated!"
   ]
  },
  {
   "cell_type": "markdown",
   "metadata": {
    "id": "aIsV2MMbpqMK"
   },
   "source": [
    "#### Estimating (\"Learning\") Model Coefficients"
   ]
  },
  {
   "cell_type": "markdown",
   "metadata": {
    "id": "70Gmx9vwpqMK"
   },
   "source": [
    "Generally speaking, coefficients are estimated using the least squares criterion, which means we are find the line (mathematically) which minimizes the sum of squared residuals (or \"sum of squared errors\"):\n",
    "\n",
    "<img src=\"SLR.png\" width=\"400\">"
   ]
  },
  {
   "cell_type": "markdown",
   "metadata": {
    "id": "u1Tzx4cGpqML"
   },
   "source": [
    "What elements are present in the diagram?\n",
    "\n",
    "* The black dots are the observed values of x and y.\n",
    "* The blue line is our least squares line.\n",
    "* The red lines are the residuals, which are the distances between the observed values and the least squares line.\n",
    "\n",
    "How do the model coefficients relate to the least squares line?\n",
    "\n",
    "* $\\beta_0$ is the intercept (the value of $y$ when $x$=0)\n",
    "* $\\beta_1$ is the slope (the change in $y$ divided by change in $x$)\n",
    "\n"
   ]
  },
  {
   "cell_type": "markdown",
   "metadata": {
    "id": "hYZo7zd-pqML"
   },
   "source": [
    "#### Mulitple Linear Regression"
   ]
  },
  {
   "cell_type": "markdown",
   "metadata": {
    "id": "V-t67H5QpqML"
   },
   "source": [
    "Simple linear regression can easily be extended to include multiple features. This is called multiple linear regression:\n",
    "\n",
    "$y = \\beta_0 + \\beta_1x_1 + ... + \\beta_nx_n$\n",
    "\n",
    "Each $x$ represents a different feature, and each feature has its own coefficient. In this case:\n",
    "\n",
    "$y = \\beta_0 + \\beta_1 \\times NoOfGamesBought + \\beta_2 \\times FrquncyOfPurchase + \\beta_3 \\times NoOfUnitsPurchased$\n",
    "\n",
    "Let's use Statsmodels to estimate these coefficients:"
   ]
  },
  {
   "cell_type": "code",
   "execution_count": null,
   "metadata": {
    "id": "G_oZ2_bzpqMM",
    "outputId": "d9188450-8a3b-4c70-9a12-1b157b6d775c"
   },
   "outputs": [
    {
     "data": {
      "text/html": [
       "<div>\n",
       "<style scoped>\n",
       "    .dataframe tbody tr th:only-of-type {\n",
       "        vertical-align: middle;\n",
       "    }\n",
       "\n",
       "    .dataframe tbody tr th {\n",
       "        vertical-align: top;\n",
       "    }\n",
       "\n",
       "    .dataframe thead th {\n",
       "        text-align: right;\n",
       "    }\n",
       "</style>\n",
       "<table border=\"1\" class=\"dataframe\">\n",
       "  <thead>\n",
       "    <tr style=\"text-align: right;\">\n",
       "      <th></th>\n",
       "      <th>City</th>\n",
       "      <th>NoOfChildren</th>\n",
       "      <th>MinAgeOfChild</th>\n",
       "      <th>MaxAgeOfChild</th>\n",
       "      <th>Tenure</th>\n",
       "      <th>FrquncyOfPurchase</th>\n",
       "      <th>NoOfUnitsPurchased</th>\n",
       "      <th>FrequencyOFPlay</th>\n",
       "      <th>NoOfGamesPlayed</th>\n",
       "      <th>NoOfGamesBought</th>\n",
       "      <th>FavoriteChannelOfTransaction</th>\n",
       "      <th>FavoriteGame</th>\n",
       "      <th>TotalRevenueGenerated</th>\n",
       "    </tr>\n",
       "  </thead>\n",
       "  <tbody>\n",
       "    <tr>\n",
       "      <th>0</th>\n",
       "      <td>1</td>\n",
       "      <td>2</td>\n",
       "      <td>3</td>\n",
       "      <td>8</td>\n",
       "      <td>210</td>\n",
       "      <td>11</td>\n",
       "      <td>11</td>\n",
       "      <td>2344</td>\n",
       "      <td>108</td>\n",
       "      <td>10</td>\n",
       "      <td>Uniform</td>\n",
       "      <td>Uniform</td>\n",
       "      <td>107.51</td>\n",
       "    </tr>\n",
       "    <tr>\n",
       "      <th>1</th>\n",
       "      <td>1</td>\n",
       "      <td>2</td>\n",
       "      <td>3</td>\n",
       "      <td>6</td>\n",
       "      <td>442</td>\n",
       "      <td>20</td>\n",
       "      <td>20</td>\n",
       "      <td>245</td>\n",
       "      <td>22</td>\n",
       "      <td>7</td>\n",
       "      <td>Favorite</td>\n",
       "      <td>Uniform</td>\n",
       "      <td>382.40</td>\n",
       "    </tr>\n",
       "    <tr>\n",
       "      <th>2</th>\n",
       "      <td>1</td>\n",
       "      <td>4</td>\n",
       "      <td>3</td>\n",
       "      <td>5</td>\n",
       "      <td>424</td>\n",
       "      <td>18</td>\n",
       "      <td>18</td>\n",
       "      <td>1059</td>\n",
       "      <td>130</td>\n",
       "      <td>18</td>\n",
       "      <td>Favorite</td>\n",
       "      <td>Uniform</td>\n",
       "      <td>135.01</td>\n",
       "    </tr>\n",
       "    <tr>\n",
       "      <th>3</th>\n",
       "      <td>1</td>\n",
       "      <td>1</td>\n",
       "      <td>6</td>\n",
       "      <td>6</td>\n",
       "      <td>261</td>\n",
       "      <td>11</td>\n",
       "      <td>9</td>\n",
       "      <td>365</td>\n",
       "      <td>34</td>\n",
       "      <td>11</td>\n",
       "      <td>Favorite</td>\n",
       "      <td>Uniform</td>\n",
       "      <td>125.00</td>\n",
       "    </tr>\n",
       "    <tr>\n",
       "      <th>4</th>\n",
       "      <td>1</td>\n",
       "      <td>3</td>\n",
       "      <td>6</td>\n",
       "      <td>9</td>\n",
       "      <td>422</td>\n",
       "      <td>44</td>\n",
       "      <td>31</td>\n",
       "      <td>1066</td>\n",
       "      <td>102</td>\n",
       "      <td>44</td>\n",
       "      <td>Uniform</td>\n",
       "      <td>Uniform</td>\n",
       "      <td>335.05</td>\n",
       "    </tr>\n",
       "  </tbody>\n",
       "</table>\n",
       "</div>"
      ],
      "text/plain": [
       "  City  NoOfChildren  MinAgeOfChild  MaxAgeOfChild  Tenure  FrquncyOfPurchase  \\\n",
       "0    1             2              3              8     210                 11   \n",
       "1    1             2              3              6     442                 20   \n",
       "2    1             4              3              5     424                 18   \n",
       "3    1             1              6              6     261                 11   \n",
       "4    1             3              6              9     422                 44   \n",
       "\n",
       "   NoOfUnitsPurchased  FrequencyOFPlay  NoOfGamesPlayed  NoOfGamesBought  \\\n",
       "0                  11             2344              108               10   \n",
       "1                  20              245               22                7   \n",
       "2                  18             1059              130               18   \n",
       "3                   9              365               34               11   \n",
       "4                  31             1066              102               44   \n",
       "\n",
       "  FavoriteChannelOfTransaction FavoriteGame  TotalRevenueGenerated  \n",
       "0                      Uniform      Uniform                 107.51  \n",
       "1                     Favorite      Uniform                 382.40  \n",
       "2                     Favorite      Uniform                 135.01  \n",
       "3                     Favorite      Uniform                 125.00  \n",
       "4                      Uniform      Uniform                 335.05  "
      ]
     },
     "execution_count": 113,
     "metadata": {
      "tags": []
     },
     "output_type": "execute_result"
    }
   ],
   "source": [
    "data.head()"
   ]
  },
  {
   "cell_type": "code",
   "execution_count": null,
   "metadata": {
    "id": "zMcfW4x0pqMM",
    "outputId": "7695e787-54d3-4abc-9d8f-ff1f9ac9c4b3"
   },
   "outputs": [
    {
     "data": {
      "text/plain": [
       "City                            category\n",
       "NoOfChildren                       int64\n",
       "MinAgeOfChild                      int64\n",
       "MaxAgeOfChild                      int64\n",
       "Tenure                             int64\n",
       "FrquncyOfPurchase                  int64\n",
       "NoOfUnitsPurchased                 int64\n",
       "FrequencyOFPlay                    int64\n",
       "NoOfGamesPlayed                    int64\n",
       "NoOfGamesBought                    int64\n",
       "FavoriteChannelOfTransaction    category\n",
       "FavoriteGame                    category\n",
       "TotalRevenueGenerated            float64\n",
       "dtype: object"
      ]
     },
     "execution_count": 114,
     "metadata": {
      "tags": []
     },
     "output_type": "execute_result"
    }
   ],
   "source": [
    "data.dtypes"
   ]
  },
  {
   "cell_type": "code",
   "execution_count": null,
   "metadata": {
    "id": "yO9tBPNipqMM",
    "outputId": "2ea286a7-97b5-47a6-ddd2-d72bc5da6af6"
   },
   "outputs": [
    {
     "name": "stdout",
     "output_type": "stream",
     "text": [
      "Index(['City', 'FavoriteChannelOfTransaction', 'FavoriteGame'], dtype='object')\n"
     ]
    }
   ],
   "source": [
    "categorical_Attributes = data.select_dtypes(include=['category']).columns\n",
    "print(categorical_Attributes)\n"
   ]
  },
  {
   "cell_type": "code",
   "execution_count": null,
   "metadata": {
    "id": "eLevQ9MJpqMN"
   },
   "outputs": [],
   "source": [
    "data = pd.get_dummies(columns=categorical_Attributes, data=data, prefix=categorical_Attributes, prefix_sep=\"_\", drop_first=True)"
   ]
  },
  {
   "cell_type": "code",
   "execution_count": null,
   "metadata": {
    "id": "vbVPA9khpqMN",
    "outputId": "e0f2aac0-59b9-45e2-9bd9-799a14e8622e"
   },
   "outputs": [
    {
     "data": {
      "text/html": [
       "<div>\n",
       "<style scoped>\n",
       "    .dataframe tbody tr th:only-of-type {\n",
       "        vertical-align: middle;\n",
       "    }\n",
       "\n",
       "    .dataframe tbody tr th {\n",
       "        vertical-align: top;\n",
       "    }\n",
       "\n",
       "    .dataframe thead th {\n",
       "        text-align: right;\n",
       "    }\n",
       "</style>\n",
       "<table border=\"1\" class=\"dataframe\">\n",
       "  <thead>\n",
       "    <tr style=\"text-align: right;\">\n",
       "      <th></th>\n",
       "      <th>NoOfChildren</th>\n",
       "      <th>MinAgeOfChild</th>\n",
       "      <th>MaxAgeOfChild</th>\n",
       "      <th>Tenure</th>\n",
       "      <th>FrquncyOfPurchase</th>\n",
       "      <th>NoOfUnitsPurchased</th>\n",
       "      <th>FrequencyOFPlay</th>\n",
       "      <th>NoOfGamesPlayed</th>\n",
       "      <th>NoOfGamesBought</th>\n",
       "      <th>TotalRevenueGenerated</th>\n",
       "      <th>City_2</th>\n",
       "      <th>FavoriteChannelOfTransaction_Uniform</th>\n",
       "      <th>FavoriteGame_Uniform</th>\n",
       "    </tr>\n",
       "  </thead>\n",
       "  <tbody>\n",
       "    <tr>\n",
       "      <th>0</th>\n",
       "      <td>2</td>\n",
       "      <td>3</td>\n",
       "      <td>8</td>\n",
       "      <td>210</td>\n",
       "      <td>11</td>\n",
       "      <td>11</td>\n",
       "      <td>2344</td>\n",
       "      <td>108</td>\n",
       "      <td>10</td>\n",
       "      <td>107.51</td>\n",
       "      <td>0</td>\n",
       "      <td>1</td>\n",
       "      <td>1</td>\n",
       "    </tr>\n",
       "    <tr>\n",
       "      <th>1</th>\n",
       "      <td>2</td>\n",
       "      <td>3</td>\n",
       "      <td>6</td>\n",
       "      <td>442</td>\n",
       "      <td>20</td>\n",
       "      <td>20</td>\n",
       "      <td>245</td>\n",
       "      <td>22</td>\n",
       "      <td>7</td>\n",
       "      <td>382.40</td>\n",
       "      <td>0</td>\n",
       "      <td>0</td>\n",
       "      <td>1</td>\n",
       "    </tr>\n",
       "    <tr>\n",
       "      <th>2</th>\n",
       "      <td>4</td>\n",
       "      <td>3</td>\n",
       "      <td>5</td>\n",
       "      <td>424</td>\n",
       "      <td>18</td>\n",
       "      <td>18</td>\n",
       "      <td>1059</td>\n",
       "      <td>130</td>\n",
       "      <td>18</td>\n",
       "      <td>135.01</td>\n",
       "      <td>0</td>\n",
       "      <td>0</td>\n",
       "      <td>1</td>\n",
       "    </tr>\n",
       "    <tr>\n",
       "      <th>3</th>\n",
       "      <td>1</td>\n",
       "      <td>6</td>\n",
       "      <td>6</td>\n",
       "      <td>261</td>\n",
       "      <td>11</td>\n",
       "      <td>9</td>\n",
       "      <td>365</td>\n",
       "      <td>34</td>\n",
       "      <td>11</td>\n",
       "      <td>125.00</td>\n",
       "      <td>0</td>\n",
       "      <td>0</td>\n",
       "      <td>1</td>\n",
       "    </tr>\n",
       "    <tr>\n",
       "      <th>4</th>\n",
       "      <td>3</td>\n",
       "      <td>6</td>\n",
       "      <td>9</td>\n",
       "      <td>422</td>\n",
       "      <td>44</td>\n",
       "      <td>31</td>\n",
       "      <td>1066</td>\n",
       "      <td>102</td>\n",
       "      <td>44</td>\n",
       "      <td>335.05</td>\n",
       "      <td>0</td>\n",
       "      <td>1</td>\n",
       "      <td>1</td>\n",
       "    </tr>\n",
       "  </tbody>\n",
       "</table>\n",
       "</div>"
      ],
      "text/plain": [
       "   NoOfChildren  MinAgeOfChild  MaxAgeOfChild  Tenure  FrquncyOfPurchase  \\\n",
       "0             2              3              8     210                 11   \n",
       "1             2              3              6     442                 20   \n",
       "2             4              3              5     424                 18   \n",
       "3             1              6              6     261                 11   \n",
       "4             3              6              9     422                 44   \n",
       "\n",
       "   NoOfUnitsPurchased  FrequencyOFPlay  NoOfGamesPlayed  NoOfGamesBought  \\\n",
       "0                  11             2344              108               10   \n",
       "1                  20              245               22                7   \n",
       "2                  18             1059              130               18   \n",
       "3                   9              365               34               11   \n",
       "4                  31             1066              102               44   \n",
       "\n",
       "   TotalRevenueGenerated  City_2  FavoriteChannelOfTransaction_Uniform  \\\n",
       "0                 107.51       0                                     1   \n",
       "1                 382.40       0                                     0   \n",
       "2                 135.01       0                                     0   \n",
       "3                 125.00       0                                     0   \n",
       "4                 335.05       0                                     1   \n",
       "\n",
       "   FavoriteGame_Uniform  \n",
       "0                     1  \n",
       "1                     1  \n",
       "2                     1  \n",
       "3                     1  \n",
       "4                     1  "
      ]
     },
     "execution_count": 117,
     "metadata": {
      "tags": []
     },
     "output_type": "execute_result"
    }
   ],
   "source": [
    "data.head()"
   ]
  },
  {
   "cell_type": "code",
   "execution_count": null,
   "metadata": {
    "id": "1MOrMdRgpqMO",
    "outputId": "5eb6267e-1ca4-4f84-86c0-7e67920f4c20"
   },
   "outputs": [
    {
     "data": {
      "text/plain": [
       "(3206, 13)"
      ]
     },
     "execution_count": 118,
     "metadata": {
      "tags": []
     },
     "output_type": "execute_result"
    }
   ],
   "source": [
    "data.shape"
   ]
  },
  {
   "cell_type": "markdown",
   "metadata": {
    "id": "TpoiQ4PFpqMO"
   },
   "source": [
    "## scatter matrix can be used to visualize any trend in data"
   ]
  },
  {
   "cell_type": "code",
   "execution_count": 1,
   "metadata": {
    "id": "hH_VhBhnpqMO"
   },
   "outputs": [],
   "source": [
    "from pandas.plotting import scatter_matrix"
   ]
  },
  {
   "cell_type": "code",
   "execution_count": 2,
   "metadata": {
    "colab": {
     "base_uri": "https://localhost:8080/",
     "height": 178
    },
    "executionInfo": {
     "elapsed": 1327,
     "status": "error",
     "timestamp": 1625740457753,
     "user": {
      "displayName": "Nithya Chandana",
      "photoUrl": "",
      "userId": "02078176029440435939"
     },
     "user_tz": -330
    },
    "id": "CxnvedSFpqMP",
    "outputId": "b9b18cd8-3489-475f-aae0-583d638aace7"
   },
   "outputs": [
    {
     "ename": "NameError",
     "evalue": "name 'data' is not defined",
     "output_type": "error",
     "traceback": [
      "\u001b[1;31m---------------------------------------------------------------------------\u001b[0m",
      "\u001b[1;31mNameError\u001b[0m                                 Traceback (most recent call last)",
      "\u001b[1;32m~\\AppData\\Local\\Temp\\ipykernel_12736\\1768447211.py\u001b[0m in \u001b[0;36m<module>\u001b[1;34m\u001b[0m\n\u001b[1;32m----> 1\u001b[1;33m \u001b[0mscatter_matrix\u001b[0m\u001b[1;33m(\u001b[0m\u001b[0mdata\u001b[0m\u001b[1;33m,\u001b[0m \u001b[0mfigsize\u001b[0m\u001b[1;33m=\u001b[0m\u001b[1;33m(\u001b[0m\u001b[1;36m30\u001b[0m\u001b[1;33m,\u001b[0m \u001b[1;36m30\u001b[0m\u001b[1;33m)\u001b[0m\u001b[1;33m,\u001b[0m \u001b[0mdiagonal\u001b[0m\u001b[1;33m=\u001b[0m\u001b[1;34m'kde'\u001b[0m\u001b[1;33m)\u001b[0m\u001b[1;33m\u001b[0m\u001b[1;33m\u001b[0m\u001b[0m\n\u001b[0m\u001b[0;32m      2\u001b[0m \u001b[0mplt\u001b[0m\u001b[1;33m.\u001b[0m\u001b[0mshow\u001b[0m\u001b[1;33m(\u001b[0m\u001b[1;33m)\u001b[0m\u001b[1;33m\u001b[0m\u001b[1;33m\u001b[0m\u001b[0m\n",
      "\u001b[1;31mNameError\u001b[0m: name 'data' is not defined"
     ]
    }
   ],
   "source": [
    "scatter_matrix(data, figsize=(30, 30), diagonal='kde')\n",
    "plt.show()"
   ]
  },
  {
   "cell_type": "markdown",
   "metadata": {
    "id": "z0ur06_tpqMP"
   },
   "source": [
    "#### Building our 1st model "
   ]
  },
  {
   "cell_type": "code",
   "execution_count": null,
   "metadata": {
    "id": "AQhbAJEupqMP",
    "outputId": "1cea8d2e-d944-4c9b-ccb0-7560561ad1c7"
   },
   "outputs": [
    {
     "data": {
      "text/plain": [
       "Index(['NoOfChildren', 'MinAgeOfChild', 'MaxAgeOfChild', 'Tenure',\n",
       "       'FrquncyOfPurchase', 'NoOfUnitsPurchased', 'FrequencyOFPlay',\n",
       "       'NoOfGamesPlayed', 'NoOfGamesBought', 'TotalRevenueGenerated', 'City_2',\n",
       "       'FavoriteChannelOfTransaction_Uniform', 'FavoriteGame_Uniform'],\n",
       "      dtype='object')"
      ]
     },
     "execution_count": 121,
     "metadata": {
      "tags": []
     },
     "output_type": "execute_result"
    }
   ],
   "source": [
    "data.columns"
   ]
  },
  {
   "cell_type": "code",
   "execution_count": null,
   "metadata": {
    "id": "DbXzIXqMpqMP"
   },
   "outputs": [],
   "source": [
    "import statsmodels.formula.api as smf"
   ]
  },
  {
   "cell_type": "code",
   "execution_count": null,
   "metadata": {
    "id": "ZkBQfhQ-pqMQ"
   },
   "outputs": [],
   "source": [
    "# fitting SLR"
   ]
  },
  {
   "cell_type": "code",
   "execution_count": null,
   "metadata": {
    "id": "NY4MRVY9pqMQ",
    "outputId": "a08fc5be-a8bc-472a-9c3e-620d04bbf74e"
   },
   "outputs": [
    {
     "name": "stdout",
     "output_type": "stream",
     "text": [
      "TotalRevenueGenerated ~ NoOfUnitsPurchased\n"
     ]
    }
   ],
   "source": [
    "formula = \" ~ \".join((data.columns.values[-4], data.columns.values[5]))\n",
    "print (formula)"
   ]
  },
  {
   "cell_type": "code",
   "execution_count": null,
   "metadata": {
    "id": "IWghJkB1pqMQ",
    "outputId": "70f39458-2d26-4b21-879d-679e1093fa9e"
   },
   "outputs": [
    {
     "name": "stdout",
     "output_type": "stream",
     "text": [
      "                              OLS Regression Results                             \n",
      "=================================================================================\n",
      "Dep. Variable:     TotalRevenueGenerated   R-squared:                       0.562\n",
      "Model:                               OLS   Adj. R-squared:                  0.562\n",
      "Method:                    Least Squares   F-statistic:                     4116.\n",
      "Date:                   Tue, 27 Apr 2021   Prob (F-statistic):               0.00\n",
      "Time:                           14:16:34   Log-Likelihood:                -17341.\n",
      "No. Observations:                   3206   AIC:                         3.469e+04\n",
      "Df Residuals:                       3204   BIC:                         3.470e+04\n",
      "Df Model:                              1                                         \n",
      "Covariance Type:               nonrobust                                         \n",
      "======================================================================================\n",
      "                         coef    std err          t      P>|t|      [0.025      0.975]\n",
      "--------------------------------------------------------------------------------------\n",
      "Intercept             43.0946      2.174     19.824      0.000      38.832      47.357\n",
      "NoOfUnitsPurchased     8.5367      0.133     64.152      0.000       8.276       8.798\n",
      "==============================================================================\n",
      "Omnibus:                     1451.211   Durbin-Watson:                   2.041\n",
      "Prob(Omnibus):                  0.000   Jarque-Bera (JB):            10732.539\n",
      "Skew:                           2.001   Prob(JB):                         0.00\n",
      "Kurtosis:                      11.020   Cond. No.                         37.3\n",
      "==============================================================================\n",
      "\n",
      "Notes:\n",
      "[1] Standard Errors assume that the covariance matrix of the errors is correctly specified.\n"
     ]
    }
   ],
   "source": [
    "mod = smf.ols(formula=formula, data=data) # Describe model\n",
    "\n",
    "res = mod.fit()                           # Fit model\n",
    "\n",
    "print(res.summary())  "
   ]
  },
  {
   "cell_type": "code",
   "execution_count": null,
   "metadata": {
    "id": "Hxf5QqmWpqMR",
    "outputId": "913c0d1a-b530-4a31-a045-d6bc0109e106"
   },
   "outputs": [
    {
     "ename": "SyntaxError",
     "evalue": "invalid syntax (<ipython-input-126-cf0d4562fada>, line 1)",
     "output_type": "error",
     "traceback": [
      "\u001b[0;36m  File \u001b[0;32m\"<ipython-input-126-cf0d4562fada>\"\u001b[0;36m, line \u001b[0;32m1\u001b[0m\n\u001b[0;31m    y=42+8x\u001b[0m\n\u001b[0m          ^\u001b[0m\n\u001b[0;31mSyntaxError\u001b[0m\u001b[0;31m:\u001b[0m invalid syntax\n"
     ]
    }
   ],
   "source": [
    "y=42+8x\n",
    "\n",
    "x=10\n",
    "\n",
    "y=42+80=122"
   ]
  },
  {
   "cell_type": "code",
   "execution_count": null,
   "metadata": {
    "id": "Us6xYdVUpqMR"
   },
   "outputs": [],
   "source": []
  },
  {
   "cell_type": "code",
   "execution_count": null,
   "metadata": {
    "id": "eAGhFl8lpqMR",
    "outputId": "4cf9616f-001c-4ca2-e967-8ac3c109b424"
   },
   "outputs": [
    {
     "data": {
      "text/html": [
       "<div>\n",
       "<style scoped>\n",
       "    .dataframe tbody tr th:only-of-type {\n",
       "        vertical-align: middle;\n",
       "    }\n",
       "\n",
       "    .dataframe tbody tr th {\n",
       "        vertical-align: top;\n",
       "    }\n",
       "\n",
       "    .dataframe thead th {\n",
       "        text-align: right;\n",
       "    }\n",
       "</style>\n",
       "<table border=\"1\" class=\"dataframe\">\n",
       "  <thead>\n",
       "    <tr style=\"text-align: right;\">\n",
       "      <th></th>\n",
       "      <th>NoOfChildren</th>\n",
       "      <th>MinAgeOfChild</th>\n",
       "      <th>MaxAgeOfChild</th>\n",
       "      <th>Tenure</th>\n",
       "      <th>FrquncyOfPurchase</th>\n",
       "      <th>NoOfUnitsPurchased</th>\n",
       "      <th>FrequencyOFPlay</th>\n",
       "      <th>NoOfGamesPlayed</th>\n",
       "      <th>NoOfGamesBought</th>\n",
       "      <th>TotalRevenueGenerated</th>\n",
       "      <th>City_2</th>\n",
       "      <th>FavoriteChannelOfTransaction_Uniform</th>\n",
       "      <th>FavoriteGame_Uniform</th>\n",
       "    </tr>\n",
       "  </thead>\n",
       "  <tbody>\n",
       "    <tr>\n",
       "      <th>0</th>\n",
       "      <td>2</td>\n",
       "      <td>3</td>\n",
       "      <td>8</td>\n",
       "      <td>210</td>\n",
       "      <td>11</td>\n",
       "      <td>11</td>\n",
       "      <td>2344</td>\n",
       "      <td>108</td>\n",
       "      <td>10</td>\n",
       "      <td>107.51</td>\n",
       "      <td>0</td>\n",
       "      <td>1</td>\n",
       "      <td>1</td>\n",
       "    </tr>\n",
       "    <tr>\n",
       "      <th>1</th>\n",
       "      <td>2</td>\n",
       "      <td>3</td>\n",
       "      <td>6</td>\n",
       "      <td>442</td>\n",
       "      <td>20</td>\n",
       "      <td>20</td>\n",
       "      <td>245</td>\n",
       "      <td>22</td>\n",
       "      <td>7</td>\n",
       "      <td>382.40</td>\n",
       "      <td>0</td>\n",
       "      <td>0</td>\n",
       "      <td>1</td>\n",
       "    </tr>\n",
       "    <tr>\n",
       "      <th>2</th>\n",
       "      <td>4</td>\n",
       "      <td>3</td>\n",
       "      <td>5</td>\n",
       "      <td>424</td>\n",
       "      <td>18</td>\n",
       "      <td>18</td>\n",
       "      <td>1059</td>\n",
       "      <td>130</td>\n",
       "      <td>18</td>\n",
       "      <td>135.01</td>\n",
       "      <td>0</td>\n",
       "      <td>0</td>\n",
       "      <td>1</td>\n",
       "    </tr>\n",
       "    <tr>\n",
       "      <th>3</th>\n",
       "      <td>1</td>\n",
       "      <td>6</td>\n",
       "      <td>6</td>\n",
       "      <td>261</td>\n",
       "      <td>11</td>\n",
       "      <td>9</td>\n",
       "      <td>365</td>\n",
       "      <td>34</td>\n",
       "      <td>11</td>\n",
       "      <td>125.00</td>\n",
       "      <td>0</td>\n",
       "      <td>0</td>\n",
       "      <td>1</td>\n",
       "    </tr>\n",
       "    <tr>\n",
       "      <th>4</th>\n",
       "      <td>3</td>\n",
       "      <td>6</td>\n",
       "      <td>9</td>\n",
       "      <td>422</td>\n",
       "      <td>44</td>\n",
       "      <td>31</td>\n",
       "      <td>1066</td>\n",
       "      <td>102</td>\n",
       "      <td>44</td>\n",
       "      <td>335.05</td>\n",
       "      <td>0</td>\n",
       "      <td>1</td>\n",
       "      <td>1</td>\n",
       "    </tr>\n",
       "  </tbody>\n",
       "</table>\n",
       "</div>"
      ],
      "text/plain": [
       "   NoOfChildren  MinAgeOfChild  MaxAgeOfChild  Tenure  FrquncyOfPurchase  \\\n",
       "0             2              3              8     210                 11   \n",
       "1             2              3              6     442                 20   \n",
       "2             4              3              5     424                 18   \n",
       "3             1              6              6     261                 11   \n",
       "4             3              6              9     422                 44   \n",
       "\n",
       "   NoOfUnitsPurchased  FrequencyOFPlay  NoOfGamesPlayed  NoOfGamesBought  \\\n",
       "0                  11             2344              108               10   \n",
       "1                  20              245               22                7   \n",
       "2                  18             1059              130               18   \n",
       "3                   9              365               34               11   \n",
       "4                  31             1066              102               44   \n",
       "\n",
       "   TotalRevenueGenerated  City_2  FavoriteChannelOfTransaction_Uniform  \\\n",
       "0                 107.51       0                                     1   \n",
       "1                 382.40       0                                     0   \n",
       "2                 135.01       0                                     0   \n",
       "3                 125.00       0                                     0   \n",
       "4                 335.05       0                                     1   \n",
       "\n",
       "   FavoriteGame_Uniform  \n",
       "0                     1  \n",
       "1                     1  \n",
       "2                     1  \n",
       "3                     1  \n",
       "4                     1  "
      ]
     },
     "execution_count": 127,
     "metadata": {
      "tags": []
     },
     "output_type": "execute_result"
    }
   ],
   "source": [
    "data.head()"
   ]
  },
  {
   "cell_type": "markdown",
   "metadata": {
    "id": "OAXS0cTVpqMS"
   },
   "source": [
    "##### The more practical way "
   ]
  },
  {
   "cell_type": "code",
   "execution_count": null,
   "metadata": {
    "id": "8uiNCx8wpqMS"
   },
   "outputs": [],
   "source": [
    "from sklearn.model_selection import train_test_split\n",
    "from sklearn.preprocessing import StandardScaler,MinMaxScaler"
   ]
  },
  {
   "cell_type": "code",
   "execution_count": null,
   "metadata": {
    "id": "Pmtk6p_vpqMS"
   },
   "outputs": [],
   "source": [
    "target = data['TotalRevenueGenerated'].values\n",
    "indp_data = data.loc[:,data.columns != 'TotalRevenueGenerated']\n",
    "indp_data = pd.get_dummies(indp_data, drop_first=True)"
   ]
  },
  {
   "cell_type": "code",
   "execution_count": null,
   "metadata": {
    "id": "vS9st3wIpqMT",
    "outputId": "dd7ecd8e-47f8-424f-e347-7ac1fcbedf55"
   },
   "outputs": [
    {
     "data": {
      "text/plain": [
       "<bound method NDFrame.head of       NoOfChildren  MinAgeOfChild  MaxAgeOfChild  Tenure  FrquncyOfPurchase  \\\n",
       "0                2              3              8     210                 11   \n",
       "1                2              3              6     442                 20   \n",
       "2                4              3              5     424                 18   \n",
       "3                1              6              6     261                 11   \n",
       "4                3              6              9     422                 44   \n",
       "...            ...            ...            ...     ...                ...   \n",
       "3204             2              4              6     365                 16   \n",
       "3205             2              2              5     348                 20   \n",
       "3206             2              5              7     341                 16   \n",
       "3207             2              6              7     368                 18   \n",
       "3208             3              2              6     389                 25   \n",
       "\n",
       "      NoOfUnitsPurchased  FrequencyOFPlay  NoOfGamesPlayed  NoOfGamesBought  \\\n",
       "0                     11             2344              108               10   \n",
       "1                     20              245               22                7   \n",
       "2                     18             1059              130               18   \n",
       "3                      9              365               34               11   \n",
       "4                     31             1066              102               44   \n",
       "...                  ...              ...              ...              ...   \n",
       "3204                  16              827               78               16   \n",
       "3205                  20             2933              294               13   \n",
       "3206                  13             1250              126               16   \n",
       "3207                  14             1364              122               18   \n",
       "3208                  17              475              111               25   \n",
       "\n",
       "      City_2  FavoriteChannelOfTransaction_Uniform  FavoriteGame_Uniform  \n",
       "0          0                                     1                     1  \n",
       "1          0                                     0                     1  \n",
       "2          0                                     0                     1  \n",
       "3          0                                     0                     1  \n",
       "4          0                                     1                     1  \n",
       "...      ...                                   ...                   ...  \n",
       "3204       0                                     0                     1  \n",
       "3205       0                                     0                     1  \n",
       "3206       0                                     1                     1  \n",
       "3207       0                                     0                     1  \n",
       "3208       0                                     0                     1  \n",
       "\n",
       "[3206 rows x 12 columns]>"
      ]
     },
     "execution_count": 130,
     "metadata": {
      "tags": []
     },
     "output_type": "execute_result"
    }
   ],
   "source": [
    "indp_data.head"
   ]
  },
  {
   "cell_type": "code",
   "execution_count": null,
   "metadata": {
    "id": "YCN5GVm8pqMT",
    "outputId": "6031d92c-3761-4f53-af6e-63e726def6f7"
   },
   "outputs": [
    {
     "ename": "SyntaxError",
     "evalue": "invalid syntax (<ipython-input-131-de804687635a>, line 1)",
     "output_type": "error",
     "traceback": [
      "\u001b[0;36m  File \u001b[0;32m\"<ipython-input-131-de804687635a>\"\u001b[0;36m, line \u001b[0;32m1\u001b[0m\n\u001b[0;31m    target(y)===1\u001b[0m\n\u001b[0m               ^\u001b[0m\n\u001b[0;31mSyntaxError\u001b[0m\u001b[0;31m:\u001b[0m invalid syntax\n"
     ]
    }
   ],
   "source": [
    "target(y)===1\n",
    "indp_data===13"
   ]
  },
  {
   "cell_type": "code",
   "execution_count": null,
   "metadata": {
    "id": "zNYZRBFopqMT"
   },
   "outputs": [],
   "source": []
  },
  {
   "cell_type": "code",
   "execution_count": null,
   "metadata": {
    "id": "oMEEjiXCpqMU"
   },
   "outputs": [],
   "source": [
    "X_train,X_test,Y_train,Y_test = train_test_split(indp_data,target,test_size=0.25,random_state=3405)"
   ]
  },
  {
   "cell_type": "code",
   "execution_count": null,
   "metadata": {
    "id": "yV80xXhgpqMU",
    "outputId": "8fbd1afb-9ad5-46e3-ee0f-8a502188b3db"
   },
   "outputs": [
    {
     "data": {
      "text/plain": [
       "Index(['NoOfChildren', 'MinAgeOfChild', 'MaxAgeOfChild', 'Tenure',\n",
       "       'FrquncyOfPurchase', 'NoOfUnitsPurchased', 'FrequencyOFPlay',\n",
       "       'NoOfGamesPlayed', 'NoOfGamesBought', 'City_2',\n",
       "       'FavoriteChannelOfTransaction_Uniform', 'FavoriteGame_Uniform'],\n",
       "      dtype='object')"
      ]
     },
     "execution_count": 133,
     "metadata": {
      "tags": []
     },
     "output_type": "execute_result"
    }
   ],
   "source": [
    "X_train.columns"
   ]
  },
  {
   "cell_type": "code",
   "execution_count": null,
   "metadata": {
    "id": "-rzA1efDpqMV",
    "outputId": "1361b2af-d2eb-4301-d760-f79d2bb0c0a7"
   },
   "outputs": [
    {
     "data": {
      "text/plain": [
       "array([100.  , 107.48, 154.12, 100.13, 117.5 , 114.23, 116.25, 220.  ,\n",
       "       115.  , 141.69, 140.01, 385.38, 107.46, 148.64, 292.5 , 435.01,\n",
       "       107.51, 110.01, 175.45, 132.5 , 128.51, 295.  , 127.5 , 118.62,\n",
       "       139.93, 112.96, 152.5 , 120.  , 109.57, 212.  , 196.52, 278.72,\n",
       "       112.8 , 138.48, 165.  , 123.04, 102.5 , 107.  , 170.  , 145.  ,\n",
       "       197.5 , 142.64, 231.04, 190.  , 119.15, 309.93, 170.  , 323.15,\n",
       "       100.  , 106.25, 102.5 , 239.23, 107.5 , 137.24, 200.92, 102.5 ,\n",
       "       106.46, 112.52, 134.99, 142.47, 135.02, 155.43, 195.01, 143.05,\n",
       "       232.96, 120.  , 142.52, 167.5 , 120.  , 145.  , 115.  , 770.95,\n",
       "       109.98, 132.83, 110.  , 304.5 , 242.5 , 300.37, 107.51, 161.5 ,\n",
       "       175.01, 107.5 , 130.  , 137.5 , 187.49, 100.  , 162.5 , 150.  ,\n",
       "       110.  , 212.49, 127.65, 187.26, 127.5 , 103.  , 147.94, 227.76,\n",
       "       173.48, 260.48, 141.65, 145.  , 120.75, 150.4 , 100.  , 132.49,\n",
       "       100.01, 102.5 , 145.25, 204.07, 254.05, 200.8 , 156.47, 180.  ,\n",
       "       142.5 , 140.08, 171.25, 108.97, 280.  , 100.  , 160.  , 105.  ,\n",
       "       169.99, 170.  , 135.  , 119.98, 269.95, 148.75, 135.5 , 137.5 ,\n",
       "       112.5 , 138.  , 260.  , 187.49, 147.48, 107.51, 149.1 , 132.5 ,\n",
       "       148.97, 196.68, 259.33, 143.66, 112.5 , 206.79, 105.  , 102.57,\n",
       "       229.96, 126.2 , 182.52, 117.5 , 217.5 , 102.5 , 219.18, 138.95,\n",
       "       197.5 , 205.01, 404.97, 165.48, 139.99, 144.98, 195.  , 182.5 ,\n",
       "       129.97, 278.01, 111.68, 106.8 , 120.  , 107.53, 117.16, 101.67,\n",
       "       142.5 , 135.  , 167.51, 161.23, 107.5 , 142.5 , 226.22, 182.51,\n",
       "       105.  , 187.19, 101.98, 135.21, 102.51, 142.5 , 267.87, 167.51,\n",
       "       220.  , 302.5 , 171.5 , 148.06, 294.92, 143.49, 161.2 , 211.92,\n",
       "       131.26, 120.  , 112.5 , 175.  , 218.76, 222.96, 117.51, 106.63,\n",
       "       185.  , 149.99, 103.75, 205.24, 100.  , 117.5 , 128.72, 137.48,\n",
       "       425.  , 115.75, 106.8 , 131.46, 185.  , 105.  , 122.4 , 107.23,\n",
       "       204.29, 116.75, 115.01, 162.51, 167.5 , 165.  , 117.5 , 121.15,\n",
       "       107.52, 127.63, 165.92, 187.5 , 100.  , 127.47, 138.43, 152.5 ,\n",
       "       111.05, 105.95, 138.  , 107.5 , 102.5 , 189.48, 157.5 , 195.  ,\n",
       "       120.  , 100.68, 172.5 , 295.  , 119.69, 301.12, 254.  , 105.  ,\n",
       "       156.75, 135.  , 296.87, 145.  , 100.  , 210.  , 203.62, 147.22,\n",
       "       132.5 , 102.5 , 120.  , 114.98, 105.  , 112.5 , 206.39, 109.36,\n",
       "       110.  , 117.5 , 101.51, 145.  , 107.97, 187.5 , 120.01, 112.51,\n",
       "       117.5 , 102.5 , 105.  , 142.5 , 105.  , 117.49, 203.7 , 260.  ,\n",
       "       190.  , 105.  , 111.79, 189.  , 352.5 , 161.25, 217.5 , 192.5 ,\n",
       "       116.91, 150.  , 118.  , 458.41, 162.7 , 160.  , 187.46, 137.5 ,\n",
       "       105.  , 105.  , 180.02, 579.15, 112.5 , 140.  , 120.01, 110.  ,\n",
       "       150.67, 100.  , 123.93, 109.97, 256.49, 258.48, 152.81, 179.99,\n",
       "       122.5 , 119.99, 185.  , 150.24, 187.5 , 120.  , 224.99, 153.66,\n",
       "       226.86, 113.55, 121.75, 100.  , 183.44, 120.  , 165.  , 280.  ,\n",
       "       136.5 , 102.52, 120.  , 132.43, 143.75, 157.51, 120.  , 100.  ,\n",
       "       115.  , 232.5 , 102.5 , 117.5 , 108.75, 125.22, 172.5 , 142.5 ,\n",
       "       102.5 , 180.  , 361.16, 125.  , 105.21, 145.  , 248.3 , 140.  ,\n",
       "       212.53, 105.  , 155.  , 134.75, 110.  , 103.9 , 294.79, 210.  ,\n",
       "       110.  , 138.46, 180.  , 248.72, 467.11, 112.5 , 117.49, 171.77,\n",
       "       162.19, 158.5 , 110.02, 160.5 , 126.52, 157.5 , 107.52, 201.51,\n",
       "       164.97, 102.5 , 107.5 , 150.  , 120.  , 262.97, 241.62, 210.  ,\n",
       "       174.91, 122.5 , 282.62, 147.5 , 155.03, 151.74, 102.5 , 100.  ,\n",
       "       324.83, 161.  , 134.76, 215.  , 113.98, 170.  , 124.97, 335.  ,\n",
       "       255.01, 181.16, 127.5 , 313.97, 120.  , 197.5 , 127.5 , 117.5 ,\n",
       "       114.45, 131.24, 130.76, 128.01, 113.01, 160.  , 101.64, 120.  ,\n",
       "       212.5 , 107.47, 100.  , 249.96, 128.65, 122.5 , 180.  , 130.  ,\n",
       "       115.  , 275.  , 155.  , 110.18, 211.12, 662.48, 147.65, 202.5 ,\n",
       "       215.47, 130.01, 125.  , 161.82, 100.  , 127.  , 109.5 , 134.94,\n",
       "       125.  , 110.  , 234.94, 128.38, 179.99, 338.19, 130.  , 232.48,\n",
       "       106.45, 138.52, 125.53, 182.08, 147.5 , 217.5 , 160.  , 170.  ,\n",
       "       137.97, 125.01, 132.44, 224.9 , 132.5 , 128.14, 205.01, 300.  ,\n",
       "       205.  , 175.  , 145.  , 148.38, 108.75, 280.  , 219.98, 274.46,\n",
       "       197.5 , 130.88, 140.5 , 110.  , 179.52, 121.98, 225.  , 117.26,\n",
       "       118.1 , 182.51, 138.56, 102.48, 115.  , 112.68, 132.51, 147.5 ,\n",
       "       174.5 , 104.  , 157.3 , 220.96, 157.5 , 140.  , 174.97, 118.5 ,\n",
       "       112.5 , 127.96, 124.98, 152.98, 152.5 , 108.34, 147.17, 111.18,\n",
       "       107.5 , 245.6 , 132.5 , 142.12, 120.  , 115.  , 185.49, 210.71,\n",
       "       119.99, 172.99, 142.5 , 293.49, 127.52, 270.  , 127.5 , 207.86,\n",
       "       121.29, 257.5 , 117.5 , 260.  , 120.  , 144.72, 157.5 , 232.49,\n",
       "       229.24, 177.48, 359.15, 217.51, 150.05, 150.  , 117.5 , 124.  ,\n",
       "       100.  , 107.52, 205.46, 208.72, 173.75, 140.25, 140.  , 227.5 ,\n",
       "       339.99, 110.01, 142.51, 243.99, 161.14, 225.  , 177.46, 108.08,\n",
       "       103.29, 104.99, 150.  , 111.33, 102.5 , 137.53, 152.  , 184.93,\n",
       "       202.45, 265.  , 100.  , 358.51, 117.52, 215.02, 112.5 , 222.49,\n",
       "       118.43, 200.4 , 117.23, 145.  , 173.01, 168.38, 116.89, 108.5 ,\n",
       "       121.69, 122.5 , 101.85, 105.  , 105.01, 197.49, 100.  , 136.25,\n",
       "       202.5 , 180.  , 135.  , 109.99, 215.48, 107.49, 205.  , 145.  ,\n",
       "       309.94, 107.41, 316.23, 105.  , 117.51, 111.45, 125.49, 100.  ,\n",
       "       212.5 , 154.07, 122.52, 105.01, 418.6 , 130.  , 157.43, 156.99,\n",
       "       222.51, 107.5 , 101.25, 130.  , 232.47, 496.  , 160.03, 236.5 ,\n",
       "       190.03, 120.53, 183.7 , 295.  , 102.5 , 113.2 , 117.45, 143.72,\n",
       "       102.17, 107.5 , 130.01, 307.98, 227.51, 125.83, 100.  , 130.  ,\n",
       "       146.28, 130.  , 116.72, 207.56, 185.  , 122.5 , 107.51, 127.5 ,\n",
       "       146.7 , 148.75, 195.48, 102.5 , 120.  , 100.  , 115.01, 295.  ,\n",
       "       200.  , 105.  , 111.49, 110.  , 241.73, 205.69, 115.  , 216.93,\n",
       "       128.11, 110.  , 322.2 , 100.  , 293.48, 340.02, 139.19, 107.51,\n",
       "       125.  , 110.  , 112.5 , 573.39, 103.25, 102.51, 159.69, 108.71,\n",
       "       111.71, 110.  , 132.5 , 105.01, 129.01, 135.  , 121.  , 150.  ,\n",
       "       232.5 , 590.03, 185.  , 126.5 , 164.96, 132.5 , 154.38, 180.03,\n",
       "       287.32, 102.5 , 142.52, 179.66, 404.58, 124.9 , 100.08, 152.5 ,\n",
       "       110.  , 132.5 , 140.  , 132.31, 165.  , 135.  , 195.01, 157.96,\n",
       "       146.01, 168.44, 195.  , 107.49, 205.97, 162.5 , 267.5 , 307.46,\n",
       "       141.95, 147.5 , 114.82, 145.  , 100.  , 110.  , 105.49, 296.25,\n",
       "       100.01, 189.97, 127.51, 179.93, 113.96, 100.98, 127.98, 127.5 ,\n",
       "       302.5 , 142.5 , 117.5 , 180.  , 112.5 , 154.98, 127.98, 105.  ,\n",
       "       114.  , 174.  , 170.75, 102.49, 103.75, 240.  , 116.45, 118.97,\n",
       "       142.63, 159.48, 124.99, 115.  , 140.88, 162.49, 112.5 , 122.52,\n",
       "       142.5 , 106.75, 132.27, 176.9 , 111.01, 108.27, 115.46, 235.  ,\n",
       "       229.9 , 121.25, 125.48, 185.53, 100.  , 192.98, 153.96, 662.48,\n",
       "       140.  , 255.  , 107.5 , 103.87, 210.  , 175.51, 137.5 , 124.51,\n",
       "       312.5 , 217.46, 120.  , 100.  , 187.5 , 117.17, 101.25, 102.5 ,\n",
       "       207.44, 120.  , 192.1 , 342.49, 110.  , 182.5 , 157.5 , 392.4 ,\n",
       "       392.78, 142.5 , 135.02, 122.48, 202.5 , 117.5 , 200.  , 122.51,\n",
       "       148.76, 326.63])"
      ]
     },
     "execution_count": 134,
     "metadata": {
      "tags": []
     },
     "output_type": "execute_result"
    }
   ],
   "source": [
    "Y_test"
   ]
  },
  {
   "cell_type": "code",
   "execution_count": null,
   "metadata": {
    "id": "ByvGDOwnpqMV",
    "outputId": "c5b542bc-2c13-4823-9ee2-a3d003c9cfa1"
   },
   "outputs": [
    {
     "name": "stdout",
     "output_type": "stream",
     "text": [
      "(2404, 12)\n",
      "(2404,)\n",
      "(802, 12)\n",
      "(802,)\n"
     ]
    }
   ],
   "source": [
    "print(X_train.shape)\n",
    "print(Y_train.shape)\n",
    "print(X_test.shape)\n",
    "print(Y_test.shape)\n"
   ]
  },
  {
   "cell_type": "code",
   "execution_count": null,
   "metadata": {
    "id": "2L8gn7s4pqMW",
    "outputId": "11b96e11-30a6-408c-afd7-b15aa827b01e"
   },
   "outputs": [
    {
     "data": {
      "text/plain": [
       "pandas.core.frame.DataFrame"
      ]
     },
     "execution_count": 136,
     "metadata": {
      "tags": []
     },
     "output_type": "execute_result"
    }
   ],
   "source": [
    "type(X_train)"
   ]
  },
  {
   "cell_type": "code",
   "execution_count": null,
   "metadata": {
    "id": "VuJWKvWVpqMW",
    "outputId": "21a390a2-c05f-4c12-ba5d-e39a2b247a4f"
   },
   "outputs": [
    {
     "name": "stderr",
     "output_type": "stream",
     "text": [
      "<ipython-input-137-831c52dc719c>:4: SettingWithCopyWarning: \n",
      "A value is trying to be set on a copy of a slice from a DataFrame.\n",
      "Try using .loc[row_indexer,col_indexer] = value instead\n",
      "\n",
      "See the caveats in the documentation: https://pandas.pydata.org/pandas-docs/stable/user_guide/indexing.html#returning-a-view-versus-a-copy\n",
      "  X_train[indp_data.columns] = scaler.transform(X_train[indp_data.columns])\n",
      "/Users/dhanasreedevi/opt/anaconda3/lib/python3.8/site-packages/pandas/core/indexing.py:1736: SettingWithCopyWarning: \n",
      "A value is trying to be set on a copy of a slice from a DataFrame.\n",
      "Try using .loc[row_indexer,col_indexer] = value instead\n",
      "\n",
      "See the caveats in the documentation: https://pandas.pydata.org/pandas-docs/stable/user_guide/indexing.html#returning-a-view-versus-a-copy\n",
      "  isetter(loc, value[:, i].tolist())\n",
      "<ipython-input-137-831c52dc719c>:5: SettingWithCopyWarning: \n",
      "A value is trying to be set on a copy of a slice from a DataFrame.\n",
      "Try using .loc[row_indexer,col_indexer] = value instead\n",
      "\n",
      "See the caveats in the documentation: https://pandas.pydata.org/pandas-docs/stable/user_guide/indexing.html#returning-a-view-versus-a-copy\n",
      "  X_test[indp_data.columns] = scaler.transform(X_test[indp_data.columns])\n",
      "/Users/dhanasreedevi/opt/anaconda3/lib/python3.8/site-packages/pandas/core/indexing.py:1736: SettingWithCopyWarning: \n",
      "A value is trying to be set on a copy of a slice from a DataFrame.\n",
      "Try using .loc[row_indexer,col_indexer] = value instead\n",
      "\n",
      "See the caveats in the documentation: https://pandas.pydata.org/pandas-docs/stable/user_guide/indexing.html#returning-a-view-versus-a-copy\n",
      "  isetter(loc, value[:, i].tolist())\n"
     ]
    }
   ],
   "source": [
    "#scaler = StandardScaler()\n",
    "scaler = MinMaxScaler()\n",
    "scaler.fit(X_train[indp_data.columns])\n",
    "X_train[indp_data.columns] = scaler.transform(X_train[indp_data.columns])\n",
    "X_test[indp_data.columns] = scaler.transform(X_test[indp_data.columns])"
   ]
  },
  {
   "cell_type": "markdown",
   "metadata": {
    "id": "i_4DEfNnpqMX"
   },
   "source": [
    "##### Alternative method- Intercept not included"
   ]
  },
  {
   "cell_type": "code",
   "execution_count": null,
   "metadata": {
    "id": "WAgE1PiSpqMX",
    "outputId": "8964a3f4-38ce-4531-c6fb-93aacb27e458"
   },
   "outputs": [
    {
     "data": {
      "text/html": [
       "<div>\n",
       "<style scoped>\n",
       "    .dataframe tbody tr th:only-of-type {\n",
       "        vertical-align: middle;\n",
       "    }\n",
       "\n",
       "    .dataframe tbody tr th {\n",
       "        vertical-align: top;\n",
       "    }\n",
       "\n",
       "    .dataframe thead th {\n",
       "        text-align: right;\n",
       "    }\n",
       "</style>\n",
       "<table border=\"1\" class=\"dataframe\">\n",
       "  <thead>\n",
       "    <tr style=\"text-align: right;\">\n",
       "      <th></th>\n",
       "      <th>NoOfChildren</th>\n",
       "      <th>MinAgeOfChild</th>\n",
       "      <th>MaxAgeOfChild</th>\n",
       "      <th>Tenure</th>\n",
       "      <th>FrquncyOfPurchase</th>\n",
       "      <th>NoOfUnitsPurchased</th>\n",
       "      <th>FrequencyOFPlay</th>\n",
       "      <th>NoOfGamesPlayed</th>\n",
       "      <th>NoOfGamesBought</th>\n",
       "      <th>City_2</th>\n",
       "      <th>FavoriteChannelOfTransaction_Uniform</th>\n",
       "      <th>FavoriteGame_Uniform</th>\n",
       "    </tr>\n",
       "  </thead>\n",
       "  <tbody>\n",
       "    <tr>\n",
       "      <th>1383</th>\n",
       "      <td>0.000</td>\n",
       "      <td>0.333333</td>\n",
       "      <td>0.027273</td>\n",
       "      <td>0.620968</td>\n",
       "      <td>0.067797</td>\n",
       "      <td>0.072072</td>\n",
       "      <td>0.013139</td>\n",
       "      <td>0.014580</td>\n",
       "      <td>0.052174</td>\n",
       "      <td>0.0</td>\n",
       "      <td>0.0</td>\n",
       "      <td>1.0</td>\n",
       "    </tr>\n",
       "    <tr>\n",
       "      <th>619</th>\n",
       "      <td>0.125</td>\n",
       "      <td>0.166667</td>\n",
       "      <td>0.036364</td>\n",
       "      <td>0.612903</td>\n",
       "      <td>0.059322</td>\n",
       "      <td>0.063063</td>\n",
       "      <td>0.003916</td>\n",
       "      <td>0.009434</td>\n",
       "      <td>0.034783</td>\n",
       "      <td>0.0</td>\n",
       "      <td>0.0</td>\n",
       "      <td>0.0</td>\n",
       "    </tr>\n",
       "    <tr>\n",
       "      <th>1388</th>\n",
       "      <td>0.125</td>\n",
       "      <td>0.277778</td>\n",
       "      <td>0.036364</td>\n",
       "      <td>0.728495</td>\n",
       "      <td>0.101695</td>\n",
       "      <td>0.108108</td>\n",
       "      <td>0.028931</td>\n",
       "      <td>0.071184</td>\n",
       "      <td>0.113043</td>\n",
       "      <td>0.0</td>\n",
       "      <td>0.0</td>\n",
       "      <td>1.0</td>\n",
       "    </tr>\n",
       "    <tr>\n",
       "      <th>1593</th>\n",
       "      <td>0.125</td>\n",
       "      <td>0.222222</td>\n",
       "      <td>0.045455</td>\n",
       "      <td>0.862903</td>\n",
       "      <td>0.152542</td>\n",
       "      <td>0.117117</td>\n",
       "      <td>0.035838</td>\n",
       "      <td>0.064322</td>\n",
       "      <td>0.165217</td>\n",
       "      <td>0.0</td>\n",
       "      <td>1.0</td>\n",
       "      <td>1.0</td>\n",
       "    </tr>\n",
       "    <tr>\n",
       "      <th>2681</th>\n",
       "      <td>0.000</td>\n",
       "      <td>0.277778</td>\n",
       "      <td>0.018182</td>\n",
       "      <td>0.983871</td>\n",
       "      <td>0.110169</td>\n",
       "      <td>0.117117</td>\n",
       "      <td>0.005727</td>\n",
       "      <td>0.016295</td>\n",
       "      <td>0.121739</td>\n",
       "      <td>0.0</td>\n",
       "      <td>0.0</td>\n",
       "      <td>1.0</td>\n",
       "    </tr>\n",
       "  </tbody>\n",
       "</table>\n",
       "</div>"
      ],
      "text/plain": [
       "      NoOfChildren  MinAgeOfChild  MaxAgeOfChild    Tenure  FrquncyOfPurchase  \\\n",
       "1383         0.000       0.333333       0.027273  0.620968           0.067797   \n",
       "619          0.125       0.166667       0.036364  0.612903           0.059322   \n",
       "1388         0.125       0.277778       0.036364  0.728495           0.101695   \n",
       "1593         0.125       0.222222       0.045455  0.862903           0.152542   \n",
       "2681         0.000       0.277778       0.018182  0.983871           0.110169   \n",
       "\n",
       "      NoOfUnitsPurchased  FrequencyOFPlay  NoOfGamesPlayed  NoOfGamesBought  \\\n",
       "1383            0.072072         0.013139         0.014580         0.052174   \n",
       "619             0.063063         0.003916         0.009434         0.034783   \n",
       "1388            0.108108         0.028931         0.071184         0.113043   \n",
       "1593            0.117117         0.035838         0.064322         0.165217   \n",
       "2681            0.117117         0.005727         0.016295         0.121739   \n",
       "\n",
       "      City_2  FavoriteChannelOfTransaction_Uniform  FavoriteGame_Uniform  \n",
       "1383     0.0                                   0.0                   1.0  \n",
       "619      0.0                                   0.0                   0.0  \n",
       "1388     0.0                                   0.0                   1.0  \n",
       "1593     0.0                                   1.0                   1.0  \n",
       "2681     0.0                                   0.0                   1.0  "
      ]
     },
     "execution_count": 138,
     "metadata": {
      "tags": []
     },
     "output_type": "execute_result"
    }
   ],
   "source": [
    "X_train.head()"
   ]
  },
  {
   "cell_type": "code",
   "execution_count": null,
   "metadata": {
    "id": "tqMGgxrkpqMX"
   },
   "outputs": [],
   "source": [
    "y=x"
   ]
  },
  {
   "cell_type": "code",
   "execution_count": null,
   "metadata": {
    "id": "X2bNIXSEpqMY",
    "outputId": "9609f15d-e6b0-43c1-db46-8009042e7572"
   },
   "outputs": [
    {
     "name": "stdout",
     "output_type": "stream",
     "text": [
      "                                 OLS Regression Results                                \n",
      "=======================================================================================\n",
      "Dep. Variable:                      y   R-squared (uncentered):                   0.944\n",
      "Model:                            OLS   Adj. R-squared (uncentered):              0.944\n",
      "Method:                 Least Squares   F-statistic:                              3389.\n",
      "Date:                Tue, 27 Apr 2021   Prob (F-statistic):                        0.00\n",
      "Time:                        14:16:50   Log-Likelihood:                         -12541.\n",
      "No. Observations:                2404   AIC:                                  2.511e+04\n",
      "Df Residuals:                    2392   BIC:                                  2.518e+04\n",
      "Df Model:                          12                                                  \n",
      "Covariance Type:            nonrobust                                                  \n",
      "========================================================================================================\n",
      "                                           coef    std err          t      P>|t|      [0.025      0.975]\n",
      "--------------------------------------------------------------------------------------------------------\n",
      "NoOfChildren                            47.8788      7.741      6.185      0.000      32.698      63.059\n",
      "MinAgeOfChild                          101.4744      8.680     11.691      0.000      84.453     118.495\n",
      "MaxAgeOfChild                          -20.9329     12.276     -1.705      0.088     -45.006       3.141\n",
      "Tenure                                   7.1624      3.654      1.960      0.050      -0.003      14.328\n",
      "FrquncyOfPurchase                     1264.9111     57.771     21.895      0.000    1151.625    1378.197\n",
      "NoOfUnitsPurchased                    1048.3532     41.348     25.354      0.000     967.271    1129.435\n",
      "FrequencyOFPlay                         79.2248     18.800      4.214      0.000      42.358     116.091\n",
      "NoOfGamesPlayed                        -67.9640     19.039     -3.570      0.000    -105.299     -30.629\n",
      "NoOfGamesBought                      -1353.1886     38.068    -35.547      0.000   -1427.838   -1278.539\n",
      "City_2                                   9.8304      3.027      3.248      0.001       3.895      15.766\n",
      "FavoriteChannelOfTransaction_Uniform   -12.7013      2.477     -5.129      0.000     -17.558      -7.845\n",
      "FavoriteGame_Uniform                    13.1849      3.469      3.801      0.000       6.383      19.987\n",
      "==============================================================================\n",
      "Omnibus:                      665.941   Durbin-Watson:                   2.009\n",
      "Prob(Omnibus):                  0.000   Jarque-Bera (JB):             3831.541\n",
      "Skew:                           1.183   Prob(JB):                         0.00\n",
      "Kurtosis:                       8.715   Cond. No.                         99.9\n",
      "==============================================================================\n",
      "\n",
      "Notes:\n",
      "[1] R² is computed without centering (uncentered) since the model does not contain a constant.\n",
      "[2] Standard Errors assume that the covariance matrix of the errors is correctly specified.\n"
     ]
    }
   ],
   "source": [
    "regression_model = sm.OLS(Y_train,X_train)\n",
    "result = regression_model.fit()\n",
    "print(result.summary())"
   ]
  },
  {
   "cell_type": "code",
   "execution_count": null,
   "metadata": {
    "id": "dEMVN6AqpqMY",
    "outputId": "e4704e83-56dd-4d1d-9eb6-b042871eeea9"
   },
   "outputs": [
    {
     "name": "stdout",
     "output_type": "stream",
     "text": [
      "<statsmodels.regression.linear_model.OLS object at 0x7fea7c961400>\n"
     ]
    }
   ],
   "source": [
    "print(regression_model)"
   ]
  },
  {
   "cell_type": "code",
   "execution_count": null,
   "metadata": {
    "id": "4p1faXanpqMZ",
    "outputId": "ded3eb9e-41f8-426c-b976-102e37877b1d"
   },
   "outputs": [
    {
     "data": {
      "text/html": [
       "<div>\n",
       "<style scoped>\n",
       "    .dataframe tbody tr th:only-of-type {\n",
       "        vertical-align: middle;\n",
       "    }\n",
       "\n",
       "    .dataframe tbody tr th {\n",
       "        vertical-align: top;\n",
       "    }\n",
       "\n",
       "    .dataframe thead th {\n",
       "        text-align: right;\n",
       "    }\n",
       "</style>\n",
       "<table border=\"1\" class=\"dataframe\">\n",
       "  <thead>\n",
       "    <tr style=\"text-align: right;\">\n",
       "      <th></th>\n",
       "      <th>TotalRevenueGenerated</th>\n",
       "    </tr>\n",
       "  </thead>\n",
       "  <tbody>\n",
       "    <tr>\n",
       "      <th>115</th>\n",
       "      <td>181.51</td>\n",
       "    </tr>\n",
       "    <tr>\n",
       "      <th>116</th>\n",
       "      <td>154.07</td>\n",
       "    </tr>\n",
       "    <tr>\n",
       "      <th>117</th>\n",
       "      <td>104.24</td>\n",
       "    </tr>\n",
       "    <tr>\n",
       "      <th>118</th>\n",
       "      <td>171.77</td>\n",
       "    </tr>\n",
       "    <tr>\n",
       "      <th>119</th>\n",
       "      <td>100.13</td>\n",
       "    </tr>\n",
       "    <tr>\n",
       "      <th>120</th>\n",
       "      <td>123.06</td>\n",
       "    </tr>\n",
       "  </tbody>\n",
       "</table>\n",
       "</div>"
      ],
      "text/plain": [
       "     TotalRevenueGenerated\n",
       "115                 181.51\n",
       "116                 154.07\n",
       "117                 104.24\n",
       "118                 171.77\n",
       "119                 100.13\n",
       "120                 123.06"
      ]
     },
     "execution_count": 142,
     "metadata": {
      "tags": []
     },
     "output_type": "execute_result"
    }
   ],
   "source": [
    "data.loc[115:120,[\"TotalRevenueGenerated\"]]"
   ]
  },
  {
   "cell_type": "code",
   "execution_count": null,
   "metadata": {
    "id": "WrRA7bQgpqMZ",
    "outputId": "32390737-04cb-4fe9-e1bc-48de26bb92fe"
   },
   "outputs": [
    {
     "name": "stdout",
     "output_type": "stream",
     "text": [
      "1950    138.533979\n",
      "1354    145.876935\n",
      "1714    256.584700\n",
      "119     130.744132\n",
      "805      96.474289\n",
      "           ...    \n",
      "927     110.068346\n",
      "1025    161.351151\n",
      "2781    123.031770\n",
      "3114    187.280311\n",
      "653     287.145751\n",
      "Length: 802, dtype: float64\n"
     ]
    }
   ],
   "source": [
    "# use the model to make predictions\n",
    "pred_train = result.predict(X_train)\n",
    "pred_test = result.predict(X_test)\n",
    "print(pred_test)"
   ]
  },
  {
   "cell_type": "markdown",
   "metadata": {
    "id": "o5hRmFJfpqMZ"
   },
   "source": [
    "###### Evaluating model performance\n",
    "\n",
    "Good the model \n",
    "\n",
    "1. One method to check it is by looking at the R^2 value. This gives us the information about how much variance in our target could be explanined by all independent variables. The closer R^2 to 1 the better the model is. This tells us about goodness of our model\n",
    "2. Next we check how close our predictions are to the actual values. The difference of actual and predicted is called error. For a good model the error should be as small as possible. There are various kinds of error metrics. In this case we use mean squared error computed as \n",
    "1/n*∑(y-(yhat))^2 \n",
    "where y are the actual values, yhat are the predicted values and n is total number of records"
   ]
  },
  {
   "cell_type": "code",
   "execution_count": null,
   "metadata": {
    "id": "q_Jr2OXTpqMa",
    "outputId": "2238f5ed-b2a4-4f7e-af07-57c1269ddfea"
   },
   "outputs": [
    {
     "name": "stdout",
     "output_type": "stream",
     "text": [
      "The R2 value on train dataset: 0.7147538930057978 \n",
      "\n",
      "The Mean Squared Error on train dataset: 1989.4534719870612 \n",
      "\n",
      "The Mean Squared Error on test dataset: 1701.6464224333945 \n",
      "\n"
     ]
    }
   ],
   "source": [
    "print(\"The R2 value on train dataset: {} \\n\".format(r2_score(y_pred=pred_train, y_true=Y_train)))\n",
    "print(\"The Mean Squared Error on train dataset: {} \\n\".format(mean_squared_error(y_pred=pred_train,y_true=Y_train)))\n",
    "print(\"The Mean Squared Error on test dataset: {} \\n\".format(mean_squared_error(y_pred=pred_test,y_true=Y_test)))\n"
   ]
  },
  {
   "cell_type": "code",
   "execution_count": null,
   "metadata": {
    "id": "cHKxvWTXpqMa"
   },
   "outputs": [],
   "source": [
    "learning curves: plot train/test data\n",
    "    \n",
    "    \n",
    "    \n",
    "    \n",
    "    "
   ]
  },
  {
   "cell_type": "code",
   "execution_count": null,
   "metadata": {
    "id": "IaTCGSz7pqMa"
   },
   "outputs": [],
   "source": []
  },
  {
   "cell_type": "markdown",
   "metadata": {
    "id": "GBBpbL3apqMb"
   },
   "source": [
    "#### Ridge Regression"
   ]
  },
  {
   "cell_type": "code",
   "execution_count": null,
   "metadata": {
    "id": "pHGimwNvpqMb"
   },
   "outputs": [],
   "source": [
    "from sklearn.linear_model import Ridge, Lasso,ElasticNet\n",
    "from sklearn.model_selection import GridSearchCV\n",
    "\n",
    "import warnings\n",
    "warnings.filterwarnings(\"ignore\")"
   ]
  },
  {
   "cell_type": "code",
   "execution_count": null,
   "metadata": {
    "id": "sHjwX0EYpqMb",
    "outputId": "4e284e6b-287c-4313-f20e-3831d6dd168a",
    "scrolled": true
   },
   "outputs": [
    {
     "name": "stdout",
     "output_type": "stream",
     "text": [
      "Slope: [ 15.25172436   8.69613996  -6.91646954   1.76087247 204.01885292\n",
      " 325.6668836   40.0869627   37.79286772  37.78324106  -6.59556598\n",
      "  -8.95793523  -8.35624736]\n",
      "Intercept: 97.96418750782269\n",
      "Root mean squared error:  3757.2540263037668\n",
      "R2 score:  0.4612881883983002\n"
     ]
    }
   ],
   "source": [
    "# Model initialization\n",
    "regression_model = Ridge(normalize=True,random_state =100)\n",
    "#Fit the data(train the model)\n",
    "model= regression_model.fit(X_train, Y_train)\n",
    "# Predict\n",
    "y_predicted = model.predict(X_train)\n",
    "# model evaluation\n",
    "rmse = mean_squared_error(Y_train, y_predicted)\n",
    "r2 =model.score(X_train, Y_train)\n",
    "# printing values\n",
    "print('Slope:' ,model.coef_)\n",
    "print('Intercept:', model.intercept_)\n",
    "print('Root mean squared error: ', rmse)\n",
    "print('R2 score: ', r2)\n"
   ]
  },
  {
   "cell_type": "code",
   "execution_count": null,
   "metadata": {
    "id": "_VT5TfSqpqMc"
   },
   "outputs": [],
   "source": [
    "# compare the RMSE before ridge and after Ridge:\n",
    "# RMSE after rige is more\n",
    "# may be because we didnt clean the data, or we didnt do any feature engineering\n",
    "# in reality ridge definitely reduces the error"
   ]
  },
  {
   "cell_type": "code",
   "execution_count": null,
   "metadata": {
    "id": "f4xbyKFupqMc",
    "outputId": "ea6b04a2-4b22-4ba6-80b7-d793e3e643c1"
   },
   "outputs": [
    {
     "data": {
      "text/plain": [
       "Ridge(normalize=True, random_state=100)"
      ]
     },
     "execution_count": 74,
     "metadata": {
      "tags": []
     },
     "output_type": "execute_result"
    }
   ],
   "source": [
    "model"
   ]
  },
  {
   "cell_type": "markdown",
   "metadata": {
    "id": "E8OOhAtSpqMc"
   },
   "source": [
    "#### Lasso Regression model"
   ]
  },
  {
   "cell_type": "code",
   "execution_count": null,
   "metadata": {
    "id": "aC8PGYc4pqMd",
    "outputId": "77077890-b2ae-4c90-c802-ab9ce11effe9"
   },
   "outputs": [
    {
     "name": "stdout",
     "output_type": "stream",
     "text": [
      "Slope: [  0.           0.          -0.           0.           0.\n",
      " 711.61818221   0.           0.           0.          -1.88204614\n",
      "  -6.33227501  -0.        ]\n",
      "Intercept: 83.65884515783205\n",
      "Root mean squared error:  3301.5540500088723\n",
      "R2 score:  0.5266260543126202\n"
     ]
    }
   ],
   "source": [
    "# Model initialization\n",
    "regression_model = Lasso()\n",
    "#Fit the data(train the model)\n",
    "model= regression_model.fit(X_train, Y_train)\n",
    "# Predict\n",
    "y_predicted = model.predict(X_train)\n",
    "# model evaluation\n",
    "rmse = mean_squared_error(Y_train, y_predicted)\n",
    "r2 =model.score(X_train, Y_train)\n",
    "# printing values\n",
    "print('Slope:' ,model.coef_)\n",
    "print('Intercept:', model.intercept_)\n",
    "print('Root mean squared error: ', rmse)\n",
    "print('R2 score: ', r2)"
   ]
  },
  {
   "cell_type": "code",
   "execution_count": null,
   "metadata": {
    "id": "x0OfUum8pqMd",
    "outputId": "60295b4b-c948-4442-eb5a-38b7d41963b0"
   },
   "outputs": [
    {
     "data": {
      "text/plain": [
       "Lasso()"
      ]
     },
     "execution_count": 76,
     "metadata": {
      "tags": []
     },
     "output_type": "execute_result"
    }
   ],
   "source": [
    "model"
   ]
  },
  {
   "cell_type": "code",
   "execution_count": null,
   "metadata": {
    "id": "7ewYSaY_pqMd"
   },
   "outputs": [],
   "source": [
    "################HAPPY LEARNING##############"
   ]
  }
 ],
 "metadata": {
  "anaconda-cloud": {},
  "colab": {
   "name": "week-5.0- Multiple_Lin_Regression-Ridge Reg.ipynb",
   "provenance": []
  },
  "kernelspec": {
   "display_name": "Python 3 (ipykernel)",
   "language": "python",
   "name": "python3"
  },
  "language_info": {
   "codemirror_mode": {
    "name": "ipython",
    "version": 3
   },
   "file_extension": ".py",
   "mimetype": "text/x-python",
   "name": "python",
   "nbconvert_exporter": "python",
   "pygments_lexer": "ipython3",
   "version": "3.9.13"
  }
 },
 "nbformat": 4,
 "nbformat_minor": 1
}
