{
 "cells": [
  {
   "cell_type": "markdown",
   "id": "d3422d6b",
   "metadata": {},
   "source": [
    "# Multiple Linear Regression Model"
   ]
  },
  {
   "cell_type": "code",
   "execution_count": 2,
   "id": "7cfc4821",
   "metadata": {},
   "outputs": [],
   "source": [
    "#Step 1: Import the necessary libraries\n",
    "\n",
    "import matplotlib.pyplot as plt\n",
    "import numpy as np\n",
    "import pandas as pd\n",
    "from sklearn import datasets, linear_model, metrics"
   ]
  },
  {
   "cell_type": "code",
   "execution_count": 3,
   "id": "130eb622",
   "metadata": {},
   "outputs": [],
   "source": [
    "# Step 2: # load the boston dataset\n",
    "\n",
    "#boston = datasets.load_boston(return_X_y=False)\n",
    "\n",
    "boston = pd.read_csv('C:/Users/lenovo/Desktop/DS Lab Week Wise/Week-5-Regression_model/Boston.csv')"
   ]
  },
  {
   "cell_type": "code",
   "execution_count": 4,
   "id": "4174da69",
   "metadata": {},
   "outputs": [
    {
     "data": {
      "text/html": [
       "<div>\n",
       "<style scoped>\n",
       "    .dataframe tbody tr th:only-of-type {\n",
       "        vertical-align: middle;\n",
       "    }\n",
       "\n",
       "    .dataframe tbody tr th {\n",
       "        vertical-align: top;\n",
       "    }\n",
       "\n",
       "    .dataframe thead th {\n",
       "        text-align: right;\n",
       "    }\n",
       "</style>\n",
       "<table border=\"1\" class=\"dataframe\">\n",
       "  <thead>\n",
       "    <tr style=\"text-align: right;\">\n",
       "      <th></th>\n",
       "      <th>Unnamed: 0</th>\n",
       "      <th>crim</th>\n",
       "      <th>zn</th>\n",
       "      <th>indus</th>\n",
       "      <th>chas</th>\n",
       "      <th>nox</th>\n",
       "      <th>rm</th>\n",
       "      <th>age</th>\n",
       "      <th>dis</th>\n",
       "      <th>rad</th>\n",
       "      <th>tax</th>\n",
       "      <th>ptratio</th>\n",
       "      <th>black</th>\n",
       "      <th>lstat</th>\n",
       "      <th>medv</th>\n",
       "    </tr>\n",
       "  </thead>\n",
       "  <tbody>\n",
       "    <tr>\n",
       "      <th>0</th>\n",
       "      <td>1</td>\n",
       "      <td>0.00632</td>\n",
       "      <td>18.0</td>\n",
       "      <td>2.31</td>\n",
       "      <td>0</td>\n",
       "      <td>0.538</td>\n",
       "      <td>6.575</td>\n",
       "      <td>65.2</td>\n",
       "      <td>4.0900</td>\n",
       "      <td>1</td>\n",
       "      <td>296</td>\n",
       "      <td>15.3</td>\n",
       "      <td>396.90</td>\n",
       "      <td>4.98</td>\n",
       "      <td>24.0</td>\n",
       "    </tr>\n",
       "    <tr>\n",
       "      <th>1</th>\n",
       "      <td>2</td>\n",
       "      <td>0.02731</td>\n",
       "      <td>0.0</td>\n",
       "      <td>7.07</td>\n",
       "      <td>0</td>\n",
       "      <td>0.469</td>\n",
       "      <td>6.421</td>\n",
       "      <td>78.9</td>\n",
       "      <td>4.9671</td>\n",
       "      <td>2</td>\n",
       "      <td>242</td>\n",
       "      <td>17.8</td>\n",
       "      <td>396.90</td>\n",
       "      <td>9.14</td>\n",
       "      <td>21.6</td>\n",
       "    </tr>\n",
       "    <tr>\n",
       "      <th>2</th>\n",
       "      <td>3</td>\n",
       "      <td>0.02729</td>\n",
       "      <td>0.0</td>\n",
       "      <td>7.07</td>\n",
       "      <td>0</td>\n",
       "      <td>0.469</td>\n",
       "      <td>7.185</td>\n",
       "      <td>61.1</td>\n",
       "      <td>4.9671</td>\n",
       "      <td>2</td>\n",
       "      <td>242</td>\n",
       "      <td>17.8</td>\n",
       "      <td>392.83</td>\n",
       "      <td>4.03</td>\n",
       "      <td>34.7</td>\n",
       "    </tr>\n",
       "    <tr>\n",
       "      <th>3</th>\n",
       "      <td>4</td>\n",
       "      <td>0.03237</td>\n",
       "      <td>0.0</td>\n",
       "      <td>2.18</td>\n",
       "      <td>0</td>\n",
       "      <td>0.458</td>\n",
       "      <td>6.998</td>\n",
       "      <td>45.8</td>\n",
       "      <td>6.0622</td>\n",
       "      <td>3</td>\n",
       "      <td>222</td>\n",
       "      <td>18.7</td>\n",
       "      <td>394.63</td>\n",
       "      <td>2.94</td>\n",
       "      <td>33.4</td>\n",
       "    </tr>\n",
       "    <tr>\n",
       "      <th>4</th>\n",
       "      <td>5</td>\n",
       "      <td>0.06905</td>\n",
       "      <td>0.0</td>\n",
       "      <td>2.18</td>\n",
       "      <td>0</td>\n",
       "      <td>0.458</td>\n",
       "      <td>7.147</td>\n",
       "      <td>54.2</td>\n",
       "      <td>6.0622</td>\n",
       "      <td>3</td>\n",
       "      <td>222</td>\n",
       "      <td>18.7</td>\n",
       "      <td>396.90</td>\n",
       "      <td>5.33</td>\n",
       "      <td>36.2</td>\n",
       "    </tr>\n",
       "  </tbody>\n",
       "</table>\n",
       "</div>"
      ],
      "text/plain": [
       "   Unnamed: 0     crim    zn  indus  chas    nox     rm   age     dis  rad  \\\n",
       "0           1  0.00632  18.0   2.31     0  0.538  6.575  65.2  4.0900    1   \n",
       "1           2  0.02731   0.0   7.07     0  0.469  6.421  78.9  4.9671    2   \n",
       "2           3  0.02729   0.0   7.07     0  0.469  7.185  61.1  4.9671    2   \n",
       "3           4  0.03237   0.0   2.18     0  0.458  6.998  45.8  6.0622    3   \n",
       "4           5  0.06905   0.0   2.18     0  0.458  7.147  54.2  6.0622    3   \n",
       "\n",
       "   tax  ptratio   black  lstat  medv  \n",
       "0  296     15.3  396.90   4.98  24.0  \n",
       "1  242     17.8  396.90   9.14  21.6  \n",
       "2  242     17.8  392.83   4.03  34.7  \n",
       "3  222     18.7  394.63   2.94  33.4  \n",
       "4  222     18.7  396.90   5.33  36.2  "
      ]
     },
     "execution_count": 4,
     "metadata": {},
     "output_type": "execute_result"
    }
   ],
   "source": [
    "# Displaying the dataset\n",
    "\n",
    "boston.head()"
   ]
  },
  {
   "cell_type": "code",
   "execution_count": 13,
   "id": "0c83241c",
   "metadata": {},
   "outputs": [],
   "source": [
    "# Step 3: Separating the independent and dependent variable\n",
    "\n",
    "x = boston.drop('medv', axis = 'columns')\n",
    "y = boston['medv']"
   ]
  },
  {
   "cell_type": "code",
   "execution_count": 10,
   "id": "39b3f629",
   "metadata": {},
   "outputs": [
    {
     "data": {
      "text/html": [
       "<div>\n",
       "<style scoped>\n",
       "    .dataframe tbody tr th:only-of-type {\n",
       "        vertical-align: middle;\n",
       "    }\n",
       "\n",
       "    .dataframe tbody tr th {\n",
       "        vertical-align: top;\n",
       "    }\n",
       "\n",
       "    .dataframe thead th {\n",
       "        text-align: right;\n",
       "    }\n",
       "</style>\n",
       "<table border=\"1\" class=\"dataframe\">\n",
       "  <thead>\n",
       "    <tr style=\"text-align: right;\">\n",
       "      <th></th>\n",
       "      <th>Unnamed: 0</th>\n",
       "      <th>crim</th>\n",
       "      <th>zn</th>\n",
       "      <th>indus</th>\n",
       "      <th>chas</th>\n",
       "      <th>nox</th>\n",
       "      <th>rm</th>\n",
       "      <th>age</th>\n",
       "      <th>dis</th>\n",
       "      <th>rad</th>\n",
       "      <th>tax</th>\n",
       "      <th>ptratio</th>\n",
       "      <th>black</th>\n",
       "      <th>lstat</th>\n",
       "    </tr>\n",
       "  </thead>\n",
       "  <tbody>\n",
       "    <tr>\n",
       "      <th>0</th>\n",
       "      <td>1</td>\n",
       "      <td>0.00632</td>\n",
       "      <td>18.0</td>\n",
       "      <td>2.31</td>\n",
       "      <td>0</td>\n",
       "      <td>0.538</td>\n",
       "      <td>6.575</td>\n",
       "      <td>65.2</td>\n",
       "      <td>4.0900</td>\n",
       "      <td>1</td>\n",
       "      <td>296</td>\n",
       "      <td>15.3</td>\n",
       "      <td>396.90</td>\n",
       "      <td>4.98</td>\n",
       "    </tr>\n",
       "    <tr>\n",
       "      <th>1</th>\n",
       "      <td>2</td>\n",
       "      <td>0.02731</td>\n",
       "      <td>0.0</td>\n",
       "      <td>7.07</td>\n",
       "      <td>0</td>\n",
       "      <td>0.469</td>\n",
       "      <td>6.421</td>\n",
       "      <td>78.9</td>\n",
       "      <td>4.9671</td>\n",
       "      <td>2</td>\n",
       "      <td>242</td>\n",
       "      <td>17.8</td>\n",
       "      <td>396.90</td>\n",
       "      <td>9.14</td>\n",
       "    </tr>\n",
       "    <tr>\n",
       "      <th>2</th>\n",
       "      <td>3</td>\n",
       "      <td>0.02729</td>\n",
       "      <td>0.0</td>\n",
       "      <td>7.07</td>\n",
       "      <td>0</td>\n",
       "      <td>0.469</td>\n",
       "      <td>7.185</td>\n",
       "      <td>61.1</td>\n",
       "      <td>4.9671</td>\n",
       "      <td>2</td>\n",
       "      <td>242</td>\n",
       "      <td>17.8</td>\n",
       "      <td>392.83</td>\n",
       "      <td>4.03</td>\n",
       "    </tr>\n",
       "    <tr>\n",
       "      <th>3</th>\n",
       "      <td>4</td>\n",
       "      <td>0.03237</td>\n",
       "      <td>0.0</td>\n",
       "      <td>2.18</td>\n",
       "      <td>0</td>\n",
       "      <td>0.458</td>\n",
       "      <td>6.998</td>\n",
       "      <td>45.8</td>\n",
       "      <td>6.0622</td>\n",
       "      <td>3</td>\n",
       "      <td>222</td>\n",
       "      <td>18.7</td>\n",
       "      <td>394.63</td>\n",
       "      <td>2.94</td>\n",
       "    </tr>\n",
       "    <tr>\n",
       "      <th>4</th>\n",
       "      <td>5</td>\n",
       "      <td>0.06905</td>\n",
       "      <td>0.0</td>\n",
       "      <td>2.18</td>\n",
       "      <td>0</td>\n",
       "      <td>0.458</td>\n",
       "      <td>7.147</td>\n",
       "      <td>54.2</td>\n",
       "      <td>6.0622</td>\n",
       "      <td>3</td>\n",
       "      <td>222</td>\n",
       "      <td>18.7</td>\n",
       "      <td>396.90</td>\n",
       "      <td>5.33</td>\n",
       "    </tr>\n",
       "  </tbody>\n",
       "</table>\n",
       "</div>"
      ],
      "text/plain": [
       "   Unnamed: 0     crim    zn  indus  chas    nox     rm   age     dis  rad  \\\n",
       "0           1  0.00632  18.0   2.31     0  0.538  6.575  65.2  4.0900    1   \n",
       "1           2  0.02731   0.0   7.07     0  0.469  6.421  78.9  4.9671    2   \n",
       "2           3  0.02729   0.0   7.07     0  0.469  7.185  61.1  4.9671    2   \n",
       "3           4  0.03237   0.0   2.18     0  0.458  6.998  45.8  6.0622    3   \n",
       "4           5  0.06905   0.0   2.18     0  0.458  7.147  54.2  6.0622    3   \n",
       "\n",
       "   tax  ptratio   black  lstat  \n",
       "0  296     15.3  396.90   4.98  \n",
       "1  242     17.8  396.90   9.14  \n",
       "2  242     17.8  392.83   4.03  \n",
       "3  222     18.7  394.63   2.94  \n",
       "4  222     18.7  396.90   5.33  "
      ]
     },
     "execution_count": 10,
     "metadata": {},
     "output_type": "execute_result"
    }
   ],
   "source": [
    "# Having a glance at Dependent Variables\n",
    "\n",
    "x.head()"
   ]
  },
  {
   "cell_type": "code",
   "execution_count": 14,
   "id": "962fc8f9",
   "metadata": {},
   "outputs": [
    {
     "data": {
      "text/plain": [
       "0    24.0\n",
       "1    21.6\n",
       "2    34.7\n",
       "3    33.4\n",
       "4    36.2\n",
       "Name: medv, dtype: float64"
      ]
     },
     "execution_count": 14,
     "metadata": {},
     "output_type": "execute_result"
    }
   ],
   "source": [
    "# Having a glance at independent Variables\n",
    "\n",
    "y.head()"
   ]
  },
  {
   "cell_type": "code",
   "execution_count": 15,
   "id": "35715e70",
   "metadata": {},
   "outputs": [],
   "source": [
    "# Step 4: Spliting the data into train and test sets\n",
    "\n",
    "from sklearn.model_selection import train_test_split\n",
    "x_train, x_test, y_train, y_test = train_test_split(x, y, test_size=0.4,random_state=1)"
   ]
  },
  {
   "cell_type": "code",
   "execution_count": 16,
   "id": "34bad247",
   "metadata": {},
   "outputs": [
    {
     "name": "stdout",
     "output_type": "stream",
     "text": [
      "(303, 14)\n",
      "(203, 14)\n",
      "(303,)\n",
      "(203,)\n"
     ]
    }
   ],
   "source": [
    "# Checking the shapes of the train and test sets\n",
    "\n",
    "print(x_train.shape)\n",
    "print(x_test.shape)\n",
    "print(y_train.shape)\n",
    "print(y_test.shape)"
   ]
  },
  {
   "cell_type": "code",
   "execution_count": 19,
   "id": "dc5e6dcd",
   "metadata": {},
   "outputs": [
    {
     "data": {
      "text/plain": [
       "LinearRegression()"
      ]
     },
     "execution_count": 19,
     "metadata": {},
     "output_type": "execute_result"
    }
   ],
   "source": [
    "# Step 5: Training the algorithm\n",
    "\n",
    "from sklearn.linear_model import LinearRegression\n",
    "\n",
    "mregressor = LinearRegression()\n",
    "mregressor.fit(x_train,y_train)"
   ]
  },
  {
   "cell_type": "code",
   "execution_count": 29,
   "id": "260b7491",
   "metadata": {},
   "outputs": [
    {
     "data": {
      "text/plain": [
       "array([32.3725278 , 28.08715139, 18.1231877 , 21.49907868, 18.42692075,\n",
       "       20.51100817, 32.9274724 , 18.40396001, 24.05879611, 26.54179976,\n",
       "       26.82208451, 28.93659432, 20.66687109, 27.07938112, 22.68320945,\n",
       "       20.09147931, 18.03108651, 38.57619847, 30.2767764 ,  8.79293908,\n",
       "       20.09734922, 15.71131241, 24.8183143 , 24.56163154, 31.73136275,\n",
       "       10.29348704, 14.13594212, 16.20002274, 35.95962685, 14.55902508,\n",
       "       21.47708593, 14.02779644, 43.92648227, 18.2357828 , 20.83113694,\n",
       "       19.85366577, 17.72049273, 27.6639934 ,  8.78806615, 19.65861231,\n",
       "       23.37810898, 21.14884561, 28.96038117, 16.16759098, 19.22607152,\n",
       "       14.75847447, 39.22157998, 18.21243389, 24.9725423 , 19.74359715,\n",
       "       25.30909412, 24.26046907, 25.08729695, 25.9543642 ,  4.09286348,\n",
       "       24.64977277, 11.33592495, 26.17502225, 17.34059218, 36.05380424,\n",
       "       19.67494265, 27.36404104, 16.57295745, 18.15749581, 11.28579051,\n",
       "       31.92429694, 36.9177653 , 21.06712759, 23.91874264, 24.47863463,\n",
       "       23.2111997 ,  7.01812493, 15.80782712, 21.11408741, 20.78323266,\n",
       "       21.06428971, 33.79429353, 27.66814416, 25.13923321, 35.38920493,\n",
       "       19.4151674 , 23.44425097, 34.46437405, 13.54928133, 20.89381101,\n",
       "       29.73607763, 17.29014252, 24.16802146, 18.40285448, 17.80402299,\n",
       "       26.6656226 , 41.83728204, 13.82470739, 23.13796598, 14.60231141,\n",
       "       21.78111313, 22.76131455, 29.45334365, 37.20137949, 20.72871156,\n",
       "       16.47469684, 18.16051773, 25.08607825, 22.58362497,  8.75762335,\n",
       "       21.44277931, 14.76605289, 31.66853118, 24.08354035, 25.48649036,\n",
       "       38.08311355, 28.2002991 , 14.38863703, 35.10393193, 35.29502079,\n",
       "       33.00387889, 20.78620786, 16.6163244 , 35.44818918, 39.49864611,\n",
       "       20.42396014, 15.30609188, 27.78894973, 19.08288898, 27.44468435,\n",
       "       20.48823936, 25.27171224, 21.6456417 , 22.34865158, 28.69316615,\n",
       "       20.44565824, 23.68014425, 29.61016076, 10.45523478, 27.30814997,\n",
       "       32.90273425, 14.28170712, 12.76575868, 33.61585247, 15.82218561,\n",
       "       18.47296111, 17.00021515, 17.36335358, 28.40772092, 34.46563551,\n",
       "       20.41931124, 24.3283256 , 16.99378127, 27.98714269, 20.93999773,\n",
       "       33.70834879, 14.32890617, 19.92887407, 19.34690042, 20.3611647 ,\n",
       "       32.70437326, 14.65872987, 28.24561715, 22.83309158, 28.93593052,\n",
       "       34.23192276, 36.51145986, 24.3145734 , 18.20941895, 18.6760728 ,\n",
       "       21.54900691, 26.62293937, 16.32910558, 15.81245653, 26.41816351,\n",
       "       22.31846497, 17.78227492, 15.16634312, 30.11918548, 18.76766263,\n",
       "       24.13490701, 33.39448855, 23.9593044 , 35.95068865, 21.17151245,\n",
       "       22.83072594, 26.81803219, 17.05601308, 33.30125853, 13.45257487,\n",
       "       22.79100544, 20.22563128, 34.57265901, 21.87625641, 22.28345732,\n",
       "       21.12379113, 15.78648554, 22.31823906, 25.3764545 , 21.61763364,\n",
       "       18.57994828, 32.57019822, 20.94866835, 34.75833343, 25.53254237,\n",
       "       18.77075307,  2.48896932, 24.85914237])"
      ]
     },
     "execution_count": 29,
     "metadata": {},
     "output_type": "execute_result"
    }
   ],
   "source": [
    "# Step 6: Printing the predicted values\n",
    "\n",
    "y_pred = lregressor.predict(x_test)\n",
    "y_pred"
   ]
  },
  {
   "cell_type": "code",
   "execution_count": 27,
   "id": "ee247fa6",
   "metadata": {},
   "outputs": [
    {
     "data": {
      "text/plain": [
       "307    28.2\n",
       "343    23.9\n",
       "47     16.6\n",
       "67     22.0\n",
       "362    20.8\n",
       "       ... \n",
       "186    50.0\n",
       "372    50.0\n",
       "442    18.4\n",
       "412    17.9\n",
       "213    28.1\n",
       "Name: medv, Length: 203, dtype: float64"
      ]
     },
     "execution_count": 27,
     "metadata": {},
     "output_type": "execute_result"
    }
   ],
   "source": [
    "# Step 7: Printing the Actual values\n",
    "\n",
    "y_test"
   ]
  },
  {
   "cell_type": "code",
   "execution_count": 22,
   "id": "1607fe43",
   "metadata": {},
   "outputs": [
    {
     "name": "stdout",
     "output_type": "stream",
     "text": [
      "Coefficients:  [-1.96617142e-03 -9.00026214e-02  6.89024296e-02  5.30863962e-02\n",
      "  2.21552813e+00 -1.72093551e+01  3.64373221e+00 -4.13684361e-05\n",
      " -1.38151640e+00  3.09652276e-01 -1.18979962e-02 -8.38991404e-01\n",
      "  9.41837016e-03 -5.05556991e-01]\n"
     ]
    }
   ],
   "source": [
    "# Step 8: Having a look at the coefficients that the model has chosen\n",
    "\n",
    "print('Coefficients: ', mregressor.coef_)"
   ]
  },
  {
   "cell_type": "code",
   "execution_count": 23,
   "id": "541bf6b5",
   "metadata": {},
   "outputs": [
    {
     "name": "stdout",
     "output_type": "stream",
     "text": [
      "Variance score: 0.7219485968187587\n"
     ]
    }
   ],
   "source": [
    "# Step 9: Finding the variance score: 1 means perfect prediction\n",
    "\n",
    "print('Variance score: {}'.format(mregressor.score(x_test, y_test)))"
   ]
  },
  {
   "cell_type": "code",
   "execution_count": 24,
   "id": "f4167ac5",
   "metadata": {},
   "outputs": [
    {
     "data": {
      "text/plain": [
       "<matplotlib.collections.PathCollection at 0x2093e2dfe50>"
      ]
     },
     "execution_count": 24,
     "metadata": {},
     "output_type": "execute_result"
    },
    {
     "data": {
      "image/png": "[encoded data removed]",
      "text/plain": [
       "<Figure size 432x288 with 1 Axes>"
      ]
     },
     "metadata": {
      "needs_background": "light"
     },
     "output_type": "display_data"
    }
   ],
   "source": [
    "# plotting residual errors in training data\n",
    "\n",
    "plt.scatter(mregressor.predict(x_train), mregressor.predict(x_train) - y_train,\n",
    "            color = \"green\", s = 10, label = 'Train data')"
   ]
  },
  {
   "cell_type": "code",
   "execution_count": 25,
   "id": "d0543db9",
   "metadata": {},
   "outputs": [
    {
     "data": {
      "text/plain": [
       "<matplotlib.collections.PathCollection at 0x2093e3f55b0>"
      ]
     },
     "execution_count": 25,
     "metadata": {},
     "output_type": "execute_result"
    },
    {
     "data": {
      "image/png": "[encoded data removed]",
      "text/plain": [
       "<Figure size 432x288 with 1 Axes>"
      ]
     },
     "metadata": {
      "needs_background": "light"
     },
     "output_type": "display_data"
    }
   ],
   "source": [
    "## plotting residual errors in test data\n",
    "\n",
    "plt.scatter(mregressor.predict(x_test), mregressor.predict(x_test) - y_test,\n",
    "            color = \"blue\", s = 10, label = 'Test data')"
   ]
  },
  {
   "cell_type": "code",
   "execution_count": 26,
   "id": "a904d20a",
   "metadata": {},
   "outputs": [
    {
     "name": "stdout",
     "output_type": "stream",
     "text": [
      "Mean Absolute Error:  3.4578391761943488\n",
      "Mean Squared Error:  25.11158487387626\n",
      "Root Mean Squared Error:  5.011146063913549\n"
     ]
    }
   ],
   "source": [
    "# Step 10: Evaluating the algorithm\n",
    "\n",
    "from sklearn import metrics\n",
    "print('Mean Absolute Error: ', metrics.mean_absolute_error(y_test,y_pred))\n",
    "print('Mean Squared Error: ', metrics.mean_squared_error(y_test,y_pred))\n",
    "print('Root Mean Squared Error: ', np.sqrt(metrics.mean_squared_error(y_test,y_pred)))"
   ]
  },
  {
   "cell_type": "code",
   "execution_count": null,
   "id": "d1dd59c5",
   "metadata": {},
   "outputs": [],
   "source": []
  }
 ],
 "metadata": {
  "kernelspec": {
   "display_name": "Python 3 (ipykernel)",
   "language": "python",
   "name": "python3"
  },
  "language_info": {
   "codemirror_mode": {
    "name": "ipython",
    "version": 3
   },
   "file_extension": ".py",
   "mimetype": "text/x-python",
   "name": "python",
   "nbconvert_exporter": "python",
   "pygments_lexer": "ipython3",
   "version": "3.9.7"
  }
 },
 "nbformat": 4,
 "nbformat_minor": 5
}
