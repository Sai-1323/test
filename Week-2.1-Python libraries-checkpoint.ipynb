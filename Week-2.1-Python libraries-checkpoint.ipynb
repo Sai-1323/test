{
 "cells": [
  {
   "cell_type": "markdown",
   "metadata": {
    "id": "tIkcg29KWcLB"
   },
   "source": [
    "## DATA SCIENCE: PYTHON LIBRARIES"
   ]
  },
  {
   "cell_type": "markdown",
   "metadata": {},
   "source": [
    "# Dr. N. Subhash Chandra"
   ]
  },
  {
   "cell_type": "markdown",
   "metadata": {
    "id": "uGop_4o4WcK9"
   },
   "source": [
    "# WEEK : 2.1"
   ]
  },
  {
   "cell_type": "markdown",
   "metadata": {
    "id": "WImuv2e1WcLD"
   },
   "source": [
    "![](lib.jpg)"
   ]
  },
  {
   "cell_type": "raw",
   "metadata": {
    "id": "o97m4QrzWcLE"
   },
   "source": [
    "*Python* has rapidly become the go-to language in the data science space \n",
    "and is among the first things recruiters search for in \n",
    "a data scientist’s skill set, "
   ]
  },
  {
   "cell_type": "raw",
   "metadata": {
    "id": "zZPJVudjWcLF"
   },
   "source": [
    "Python provides us with the easy easy-to-code, \n",
    "object-oriented, high-level language. \n",
    "Provides different libraries for each type of job like Math, \n",
    "Data Mining, Data Exploration, and visualization."
   ]
  },
  {
   "cell_type": "raw",
   "metadata": {
    "id": "eUEVX_v3WcLG"
   },
   "source": [
    "Frequently used python libraies for Data science:\n",
    "    \n",
    "1. NumPy\n",
    "2. SciPy\n",
    "3. Pandas\n",
    "4. Matplotlib\n",
    "5. Plotly\n",
    "6. Seaborn\n",
    "7. Scikit Learn/Sklearn\n",
    "8. Keras\n",
    "9. BeautifulSoup\n",
    "10.Scrappy"
   ]
  },
  {
   "cell_type": "markdown",
   "metadata": {
    "id": "B2aVcoQhWcLH"
   },
   "source": [
    "# 1. NUMPY"
   ]
  },
  {
   "cell_type": "raw",
   "metadata": {
    "id": "Js6hqdHYWcLH"
   },
   "source": [
    "1. NumPy is one of the most essential Python Libraries for scientific computing \n",
    "2. used heavily for the applications of Machine Learning and Deep Learning. \n",
    "3. NumPy stands for NUMerical PYthon. \n",
    "4. provides multidimensional array objects to work with\n",
    "   Machine learning  computationally complex algorithms \n",
    "5. NumPy’s array class is called ndarray\n",
    "6. includes less features of linear algebra"
   ]
  },
  {
   "cell_type": "markdown",
   "metadata": {
    "id": "TnoA4ONgWcLI"
   },
   "source": [
    "# 2. SCIPY"
   ]
  },
  {
   "cell_type": "raw",
   "metadata": {
    "id": "lEjS_CwxWcLJ"
   },
   "source": [
    "1. SciPy in Python is an open-source library used for solving mathematical, \n",
    "   scientific, engineering, and technical problems. \n",
    "2. SciPy is built on the Python NumPy extention. \n",
    "3. includes advanced features of linear algebra,\n",
    "        interpolation, special functions, fourier transofrms etc."
   ]
  },
  {
   "cell_type": "markdown",
   "metadata": {
    "id": "Fv9ycNPaWcLK"
   },
   "source": [
    "# 3. PANDAS"
   ]
  },
  {
   "cell_type": "raw",
   "metadata": {
    "id": "kZ5yUvcOWcLK"
   },
   "source": [
    "1. Pandas is the library for Data Exploration to analysis \n",
    "2. used to perform data analysis and data manipulation \n",
    "3. uses fast and flexible data structures called DataFrames and  \n",
    "   makes easy to work with Relational and structured data."
   ]
  },
  {
   "cell_type": "markdown",
   "metadata": {
    "id": "-oORm2wIWcLL"
   },
   "source": [
    "# 4. MATPLOTLIB"
   ]
  },
  {
   "cell_type": "raw",
   "metadata": {
    "id": "_uokFhzPWcLM"
   },
   "source": [
    "1. Matplotlib is the most popular library for exploration and data visualization \n",
    "2. Matplotlib offers endless charts and customizations from histograms to scatterplots, \n",
    "3. matplotlib lays down an array of colors, themes, palettes, \n",
    "4. provides options to customize and personalize plots.\n"
   ]
  },
  {
   "cell_type": "markdown",
   "metadata": {
    "id": "wteWn00CWcLM"
   },
   "source": [
    "# 5. PLOTLY"
   ]
  },
  {
   "cell_type": "raw",
   "metadata": {
    "id": "QOPHvtYIWcLN"
   },
   "source": [
    "1. Plotly is a free and open-source data visualization library.\n",
    "2. povides high quality, publication-ready and interactive charts. \n",
    "3. Boxplot, heatmaps, bubble charts are a few examples of the types of available charts.\n",
    "4. It is one of the finest data visualization tools available built \n",
    "   on top of visualization library D3.js, HTML, and CSS. \n",
    "5. It is created using Python and the Django framework. \n"
   ]
  },
  {
   "cell_type": "markdown",
   "metadata": {
    "id": "2awprenjWcLN"
   },
   "source": [
    "# 6. SEABORN"
   ]
  },
  {
   "cell_type": "raw",
   "metadata": {
    "id": "apTR1rapWcLN"
   },
   "source": [
    "1. Seaborn is a popular data visualization library for Python\n",
    "2. Seaborn combines aesthetic appeal The colors stand out, the layers blend nicely together,\n",
    "3. well-designed visualization for large data \n",
    "4. advanced plots to provides meaningful data insights."
   ]
  },
  {
   "cell_type": "markdown",
   "metadata": {
    "id": "xspMX3BzWcLO"
   },
   "source": [
    "# 7. SKLEARN"
   ]
  },
  {
   "cell_type": "raw",
   "metadata": {
    "id": "Px7Hv526WcLO"
   },
   "source": [
    "1. Sklearn is popular of data science library for model building (algorithms)\n",
    "2. i.e it is used for making machine learning models.\n",
    "3. contains a lot of efficient tools for machine learning\n",
    "   and statistical modeling including classification, regression, clustering, \n",
    "   and dimensionality reduction."
   ]
  },
  {
   "cell_type": "markdown",
   "metadata": {
    "id": "mtZ0CcZmWcLP"
   },
   "source": [
    "# 8. KERAS"
   ]
  },
  {
   "cell_type": "raw",
   "metadata": {
    "id": "sNbfggGQWcLP"
   },
   "source": [
    "1. Keras is a deep learning neural network library  \n",
    "2. which runs on top of the machine learning platform TensorFlow. \n",
    "3. It was developed with a focus on enabling fast experimentation. \n",
    "5. efficient for image Data"
   ]
  },
  {
   "cell_type": "markdown",
   "metadata": {
    "id": "ILNMpq17WcLS"
   },
   "source": [
    "# 9. BEAUTIFULSOUP"
   ]
  },
  {
   "cell_type": "raw",
   "metadata": {
    "id": "mfB8p84bWcLS"
   },
   "source": [
    "1. BeautifulSoup is an parsing library in Python \n",
    "2. enables web scraping from HTML and XML documents.\n",
    "3. gracefully handles HTML documents even with special characters. \n",
    "4. efficient to extract the needed data from the webpages."
   ]
  },
  {
   "cell_type": "markdown",
   "metadata": {
    "id": "GTJ6GsfAWcLT"
   },
   "source": [
    "# 10. SCRAPY"
   ]
  },
  {
   "cell_type": "raw",
   "metadata": {
    "id": "Jj__Q3I-WcLT"
   },
   "source": [
    "1. Scrapy is a Python framework for large scale web scraping. \n",
    "2. It gives you all the tools you need to efficiently extract data from websites,\n",
    "3. process them as you want, and store them in your preferred structure and format."
   ]
  },
  {
   "cell_type": "code",
   "execution_count": null,
   "metadata": {
    "id": "xItV8H1VWcLT"
   },
   "outputs": [],
   "source": [
    "# NEXT: WEEK- 2.2 : PANDAS-Exploratory data analysis-cars data"
   ]
  }
 ],
 "metadata": {
  "colab": {
   "name": "Week-2.1-Python libraries-checkpoint.ipynb",
   "provenance": []
  },
  "kernelspec": {
   "display_name": "Python 3 (ipykernel)",
   "language": "python",
   "name": "python3"
  },
  "language_info": {
   "codemirror_mode": {
    "name": "ipython",
    "version": 3
   },
   "file_extension": ".py",
   "mimetype": "text/x-python",
   "name": "python",
   "nbconvert_exporter": "python",
   "pygments_lexer": "ipython3",
   "version": "3.9.7"
  }
 },
 "nbformat": 4,
 "nbformat_minor": 1
}
