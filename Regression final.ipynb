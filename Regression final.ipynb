{
 "cells": [
  {
   "cell_type": "markdown",
   "id": "ebddba5f",
   "metadata": {},
   "source": [
    "## Import libraries "
   ]
  },
  {
   "cell_type": "code",
   "execution_count": 21,
   "id": "e5b16e94",
   "metadata": {},
   "outputs": [
    {
     "data": {
      "text/html": [
       "<div>\n",
       "<style scoped>\n",
       "    .dataframe tbody tr th:only-of-type {\n",
       "        vertical-align: middle;\n",
       "    }\n",
       "\n",
       "    .dataframe tbody tr th {\n",
       "        vertical-align: top;\n",
       "    }\n",
       "\n",
       "    .dataframe thead th {\n",
       "        text-align: right;\n",
       "    }\n",
       "</style>\n",
       "<table border=\"1\" class=\"dataframe\">\n",
       "  <thead>\n",
       "    <tr style=\"text-align: right;\">\n",
       "      <th></th>\n",
       "      <th>S. No.</th>\n",
       "      <th>Percentage in Grade 10</th>\n",
       "      <th>Salary</th>\n",
       "    </tr>\n",
       "  </thead>\n",
       "  <tbody>\n",
       "    <tr>\n",
       "      <th>0</th>\n",
       "      <td>1</td>\n",
       "      <td>62.00</td>\n",
       "      <td>270000</td>\n",
       "    </tr>\n",
       "    <tr>\n",
       "      <th>1</th>\n",
       "      <td>2</td>\n",
       "      <td>76.33</td>\n",
       "      <td>200000</td>\n",
       "    </tr>\n",
       "    <tr>\n",
       "      <th>2</th>\n",
       "      <td>3</td>\n",
       "      <td>72.00</td>\n",
       "      <td>240000</td>\n",
       "    </tr>\n",
       "    <tr>\n",
       "      <th>3</th>\n",
       "      <td>4</td>\n",
       "      <td>60.00</td>\n",
       "      <td>250000</td>\n",
       "    </tr>\n",
       "    <tr>\n",
       "      <th>4</th>\n",
       "      <td>5</td>\n",
       "      <td>61.00</td>\n",
       "      <td>180000</td>\n",
       "    </tr>\n",
       "    <tr>\n",
       "      <th>5</th>\n",
       "      <td>6</td>\n",
       "      <td>55.00</td>\n",
       "      <td>300000</td>\n",
       "    </tr>\n",
       "    <tr>\n",
       "      <th>6</th>\n",
       "      <td>7</td>\n",
       "      <td>70.00</td>\n",
       "      <td>260000</td>\n",
       "    </tr>\n",
       "    <tr>\n",
       "      <th>7</th>\n",
       "      <td>8</td>\n",
       "      <td>68.00</td>\n",
       "      <td>235000</td>\n",
       "    </tr>\n",
       "    <tr>\n",
       "      <th>8</th>\n",
       "      <td>9</td>\n",
       "      <td>82.80</td>\n",
       "      <td>425000</td>\n",
       "    </tr>\n",
       "    <tr>\n",
       "      <th>9</th>\n",
       "      <td>10</td>\n",
       "      <td>59.00</td>\n",
       "      <td>240000</td>\n",
       "    </tr>\n",
       "  </tbody>\n",
       "</table>\n",
       "</div>"
      ],
      "text/plain": [
       "   S. No.  Percentage in Grade 10  Salary\n",
       "0       1                   62.00  270000\n",
       "1       2                   76.33  200000\n",
       "2       3                   72.00  240000\n",
       "3       4                   60.00  250000\n",
       "4       5                   61.00  180000\n",
       "5       6                   55.00  300000\n",
       "6       7                   70.00  260000\n",
       "7       8                   68.00  235000\n",
       "8       9                   82.80  425000\n",
       "9      10                   59.00  240000"
      ]
     },
     "execution_count": 21,
     "metadata": {},
     "output_type": "execute_result"
    }
   ],
   "source": [
    "import warnings\n",
    "warnings.filterwarnings('ignore') \n",
    "import pandas as pd\n",
    "import numpy as np\n",
    "np.set_printoptions(precision=4, linewidth=100) \n",
    "mba_salary_df = pd.read_csv( 'MBA Salary.csv' ) \n",
    "mba_salary_df.head( 10 )"
   ]
  },
  {
   "cell_type": "markdown",
   "id": "84047918",
   "metadata": {},
   "source": [
    "## More information about the dataset"
   ]
  },
  {
   "cell_type": "code",
   "execution_count": 22,
   "id": "fbfbb195",
   "metadata": {},
   "outputs": [
    {
     "name": "stdout",
     "output_type": "stream",
     "text": [
      "<class 'pandas.core.frame.DataFrame'>\n",
      "RangeIndex: 50 entries, 0 to 49\n",
      "Data columns (total 3 columns):\n",
      " #   Column                  Non-Null Count  Dtype  \n",
      "---  ------                  --------------  -----  \n",
      " 0   S. No.                  50 non-null     int64  \n",
      " 1   Percentage in Grade 10  50 non-null     float64\n",
      " 2   Salary                  50 non-null     int64  \n",
      "dtypes: float64(1), int64(2)\n",
      "memory usage: 1.3 KB\n"
     ]
    }
   ],
   "source": [
    "mba_salary_df.info()"
   ]
  },
  {
   "cell_type": "markdown",
   "id": "cd5422cc",
   "metadata": {},
   "source": [
    "## Creating Feature Set(X) and Outcome Variable(Y)"
   ]
  },
  {
   "cell_type": "code",
   "execution_count": 23,
   "id": "16c2e4f6",
   "metadata": {},
   "outputs": [
    {
     "data": {
      "text/html": [
       "<div>\n",
       "<style scoped>\n",
       "    .dataframe tbody tr th:only-of-type {\n",
       "        vertical-align: middle;\n",
       "    }\n",
       "\n",
       "    .dataframe tbody tr th {\n",
       "        vertical-align: top;\n",
       "    }\n",
       "\n",
       "    .dataframe thead th {\n",
       "        text-align: right;\n",
       "    }\n",
       "</style>\n",
       "<table border=\"1\" class=\"dataframe\">\n",
       "  <thead>\n",
       "    <tr style=\"text-align: right;\">\n",
       "      <th></th>\n",
       "      <th>const</th>\n",
       "      <th>Percentage in Grade 10</th>\n",
       "    </tr>\n",
       "  </thead>\n",
       "  <tbody>\n",
       "    <tr>\n",
       "      <th>0</th>\n",
       "      <td>1.0</td>\n",
       "      <td>62.00</td>\n",
       "    </tr>\n",
       "    <tr>\n",
       "      <th>1</th>\n",
       "      <td>1.0</td>\n",
       "      <td>76.33</td>\n",
       "    </tr>\n",
       "    <tr>\n",
       "      <th>2</th>\n",
       "      <td>1.0</td>\n",
       "      <td>72.00</td>\n",
       "    </tr>\n",
       "    <tr>\n",
       "      <th>3</th>\n",
       "      <td>1.0</td>\n",
       "      <td>60.00</td>\n",
       "    </tr>\n",
       "    <tr>\n",
       "      <th>4</th>\n",
       "      <td>1.0</td>\n",
       "      <td>61.00</td>\n",
       "    </tr>\n",
       "  </tbody>\n",
       "</table>\n",
       "</div>"
      ],
      "text/plain": [
       "   const  Percentage in Grade 10\n",
       "0    1.0                   62.00\n",
       "1    1.0                   76.33\n",
       "2    1.0                   72.00\n",
       "3    1.0                   60.00\n",
       "4    1.0                   61.00"
      ]
     },
     "execution_count": 23,
     "metadata": {},
     "output_type": "execute_result"
    }
   ],
   "source": [
    "import statsmodels.api as sm\n",
    "X = sm.add_constant( mba_salary_df['Percentage in Grade 10'] ) \n",
    "X.head(5)"
   ]
  },
  {
   "cell_type": "code",
   "execution_count": 24,
   "id": "f4a94abb",
   "metadata": {},
   "outputs": [],
   "source": [
    "Y = mba_salary_df['Salary'] "
   ]
  },
  {
   "cell_type": "markdown",
   "id": "c22cd991",
   "metadata": {},
   "source": [
    "## Splitting the dataset into training and validation sets"
   ]
  },
  {
   "cell_type": "code",
   "execution_count": 25,
   "id": "604359ab",
   "metadata": {},
   "outputs": [],
   "source": [
    "from sklearn.model_selection import train_test_split"
   ]
  },
  {
   "cell_type": "code",
   "execution_count": 26,
   "id": "1e5f4469",
   "metadata": {},
   "outputs": [],
   "source": [
    "train_X, test_X, train_y, test_y = train_test_split( X , Y, train_size = 0.8, random_state = 100 )"
   ]
  },
  {
   "cell_type": "markdown",
   "id": "6793a0bf",
   "metadata": {},
   "source": [
    "## Fitting the Model"
   ]
  },
  {
   "cell_type": "code",
   "execution_count": 27,
   "id": "72a1131a",
   "metadata": {},
   "outputs": [],
   "source": [
    "mba_salary_lm = sm.OLS( train_y, train_X ).fit() "
   ]
  },
  {
   "cell_type": "markdown",
   "id": "537ec97a",
   "metadata": {},
   "source": [
    "## Printing Estimated Parameters and interpreting them"
   ]
  },
  {
   "cell_type": "code",
   "execution_count": 28,
   "id": "ceabfbc0",
   "metadata": {},
   "outputs": [
    {
     "name": "stdout",
     "output_type": "stream",
     "text": [
      "const                     30587.285652\n",
      "Percentage in Grade 10     3560.587383\n",
      "dtype: float64\n"
     ]
    }
   ],
   "source": [
    "print( mba_salary_lm.params )"
   ]
  },
  {
   "cell_type": "markdown",
   "id": "a3583c37",
   "metadata": {},
   "source": [
    "## Model Diagnostics"
   ]
  },
  {
   "cell_type": "code",
   "execution_count": 29,
   "id": "8001e070",
   "metadata": {
    "scrolled": true
   },
   "outputs": [
    {
     "data": {
      "text/html": [
       "<table class=\"simpletable\">\n",
       "<tr>\n",
       "        <td>Model:</td>               <td>OLS</td>         <td>Adj. R-squared:</td>      <td>0.190</td>  \n",
       "</tr>\n",
       "<tr>\n",
       "  <td>Dependent Variable:</td>      <td>Salary</td>             <td>AIC:</td>          <td>1008.8680</td>\n",
       "</tr>\n",
       "<tr>\n",
       "         <td>Date:</td>        <td>2023-03-14 11:27</td>        <td>BIC:</td>          <td>1012.2458</td>\n",
       "</tr>\n",
       "<tr>\n",
       "   <td>No. Observations:</td>         <td>40</td>          <td>Log-Likelihood:</td>     <td>-502.43</td> \n",
       "</tr>\n",
       "<tr>\n",
       "       <td>Df Model:</td>              <td>1</td>           <td>F-statistic:</td>        <td>10.16</td>  \n",
       "</tr>\n",
       "<tr>\n",
       "     <td>Df Residuals:</td>           <td>38</td>        <td>Prob (F-statistic):</td>   <td>0.00287</td> \n",
       "</tr>\n",
       "<tr>\n",
       "      <td>R-squared:</td>            <td>0.211</td>            <td>Scale:</td>        <td>5.0121e+09</td>\n",
       "</tr>\n",
       "</table>\n",
       "<table class=\"simpletable\">\n",
       "<tr>\n",
       "             <td></td>               <th>Coef.</th>    <th>Std.Err.</th>     <th>t</th>    <th>P>|t|</th>    <th>[0.025</th>      <th>0.975]</th>   \n",
       "</tr>\n",
       "<tr>\n",
       "  <th>const</th>                  <td>30587.2857</td> <td>71869.4497</td> <td>0.4256</td> <td>0.6728</td> <td>-114904.8089</td> <td>176079.3802</td>\n",
       "</tr>\n",
       "<tr>\n",
       "  <th>Percentage in Grade 10</th>  <td>3560.5874</td>  <td>1116.9258</td> <td>3.1878</td> <td>0.0029</td>   <td>1299.4892</td>   <td>5821.6855</td> \n",
       "</tr>\n",
       "</table>\n",
       "<table class=\"simpletable\">\n",
       "<tr>\n",
       "     <td>Omnibus:</td>    <td>2.048</td>  <td>Durbin-Watson:</td>   <td>2.611</td>\n",
       "</tr>\n",
       "<tr>\n",
       "  <td>Prob(Omnibus):</td> <td>0.359</td> <td>Jarque-Bera (JB):</td> <td>1.724</td>\n",
       "</tr>\n",
       "<tr>\n",
       "       <td>Skew:</td>     <td>0.369</td>     <td>Prob(JB):</td>     <td>0.422</td>\n",
       "</tr>\n",
       "<tr>\n",
       "     <td>Kurtosis:</td>   <td>2.300</td>  <td>Condition No.:</td>    <td>413</td> \n",
       "</tr>\n",
       "</table>"
      ],
      "text/plain": [
       "<class 'statsmodels.iolib.summary2.Summary'>\n",
       "\"\"\"\n",
       "                          Results: Ordinary least squares\n",
       "===================================================================================\n",
       "Model:                    OLS                   Adj. R-squared:          0.190     \n",
       "Dependent Variable:       Salary                AIC:                     1008.8680 \n",
       "Date:                     2023-03-14 11:27      BIC:                     1012.2458 \n",
       "No. Observations:         40                    Log-Likelihood:          -502.43   \n",
       "Df Model:                 1                     F-statistic:             10.16     \n",
       "Df Residuals:             38                    Prob (F-statistic):      0.00287   \n",
       "R-squared:                0.211                 Scale:                   5.0121e+09\n",
       "-----------------------------------------------------------------------------------\n",
       "                         Coef.     Std.Err.    t    P>|t|     [0.025       0.975]  \n",
       "-----------------------------------------------------------------------------------\n",
       "const                  30587.2857 71869.4497 0.4256 0.6728 -114904.8089 176079.3802\n",
       "Percentage in Grade 10  3560.5874  1116.9258 3.1878 0.0029    1299.4892   5821.6855\n",
       "-----------------------------------------------------------------------------------\n",
       "Omnibus:                    2.048              Durbin-Watson:                 2.611\n",
       "Prob(Omnibus):              0.359              Jarque-Bera (JB):              1.724\n",
       "Skew:                       0.369              Prob(JB):                      0.422\n",
       "Kurtosis:                   2.300              Condition No.:                 413  \n",
       "===================================================================================\n",
       "\n",
       "\"\"\""
      ]
     },
     "execution_count": 29,
     "metadata": {},
     "output_type": "execute_result"
    }
   ],
   "source": [
    "mba_salary_lm.summary2() "
   ]
  },
  {
   "cell_type": "markdown",
   "id": "c7c77546",
   "metadata": {},
   "source": [
    "## Residual Error"
   ]
  },
  {
   "cell_type": "code",
   "execution_count": 30,
   "id": "4f21ebdb",
   "metadata": {},
   "outputs": [],
   "source": [
    "import matplotlib.pyplot as plt\n",
    "import seaborn as sn\n",
    "%matplotlib inline "
   ]
  },
  {
   "cell_type": "code",
   "execution_count": 31,
   "id": "57470453",
   "metadata": {
    "scrolled": false
   },
   "outputs": [
    {
     "data": {
      "text/plain": [
       "<Figure size 800x600 with 0 Axes>"
      ]
     },
     "metadata": {},
     "output_type": "display_data"
    },
    {
     "data": {
      "image/png": "[encoded data removed]",
      "text/plain": [
       "<Figure size 640x480 with 1 Axes>"
      ]
     },
     "metadata": {},
     "output_type": "display_data"
    }
   ],
   "source": [
    "mba_salary_resid = mba_salary_lm.resid \n",
    "probplot = sm.ProbPlot( mba_salary_resid ) \n",
    "plt.figure( figsize = (8, 6) ) \n",
    "probplot.ppplot( line='45' ) \n",
    "plt.title( \"Fig 4.1 - Normal P-P Plot of Regression Standardized Residuals\" ) \n",
    "plt.show() "
   ]
  },
  {
   "cell_type": "markdown",
   "id": "22d7aa98",
   "metadata": {},
   "source": [
    "## Standardize the values"
   ]
  },
  {
   "cell_type": "code",
   "execution_count": 32,
   "id": "60d8be2f",
   "metadata": {},
   "outputs": [],
   "source": [
    "def get_standardized_values( vals ): \n",
    " return (vals - vals.mean())/vals.std()"
   ]
  },
  {
   "cell_type": "code",
   "execution_count": 33,
   "id": "d1db7934",
   "metadata": {},
   "outputs": [
    {
     "data": {
      "image/png": "[encoded data removed]",
      "text/plain": [
       "<Figure size 640x480 with 1 Axes>"
      ]
     },
     "metadata": {},
     "output_type": "display_data"
    }
   ],
   "source": [
    "plt.scatter( get_standardized_values( mba_salary_lm.fittedvalues ), \n",
    "get_standardized_values( mba_salary_resid ) ) \n",
    "plt.title( \"Fig 4.2 - Residual Plot: MBA Salary Prediction\" ); \n",
    "plt.xlabel( \"Standardized predicted values\") \n",
    "plt.ylabel( \"Standardized Residuals\"); "
   ]
  },
  {
   "cell_type": "markdown",
   "id": "eb856b75",
   "metadata": {},
   "source": [
    " ## Predicting on validation set"
   ]
  },
  {
   "cell_type": "code",
   "execution_count": 13,
   "id": "3cd3b5fd",
   "metadata": {},
   "outputs": [],
   "source": [
    "pred_y = mba_salary_lm.predict( test_X ) "
   ]
  },
  {
   "cell_type": "markdown",
   "id": "5d3ea412",
   "metadata": {},
   "source": [
    "## Finding R-Square and RMSE"
   ]
  },
  {
   "cell_type": "code",
   "execution_count": 14,
   "id": "23287e73",
   "metadata": {},
   "outputs": [],
   "source": [
    "from sklearn.metrics import r2_score, mean_squared_error"
   ]
  },
  {
   "cell_type": "code",
   "execution_count": 15,
   "id": "cfd96b04",
   "metadata": {},
   "outputs": [
    {
     "data": {
      "text/plain": [
       "0.15664584974230378"
      ]
     },
     "execution_count": 15,
     "metadata": {},
     "output_type": "execute_result"
    }
   ],
   "source": [
    "np.abs(r2_score(test_y, pred_y))"
   ]
  },
  {
   "cell_type": "code",
   "execution_count": 16,
   "id": "3328e902",
   "metadata": {},
   "outputs": [
    {
     "data": {
      "text/plain": [
       "73458.04348346894"
      ]
     },
     "execution_count": 16,
     "metadata": {},
     "output_type": "execute_result"
    }
   ],
   "source": [
    "import numpy\n",
    "np.sqrt(mean_squared_error(test_y, pred_y))"
   ]
  },
  {
   "cell_type": "code",
   "execution_count": null,
   "id": "4e81315d",
   "metadata": {},
   "outputs": [],
   "source": []
  }
 ],
 "metadata": {
  "kernelspec": {
   "display_name": "Python 3 (ipykernel)",
   "language": "python",
   "name": "python3"
  },
  "language_info": {
   "codemirror_mode": {
    "name": "ipython",
    "version": 3
   },
   "file_extension": ".py",
   "mimetype": "text/x-python",
   "name": "python",
   "nbconvert_exporter": "python",
   "pygments_lexer": "ipython3",
   "version": "3.9.13"
  }
 },
 "nbformat": 4,
 "nbformat_minor": 5
}
