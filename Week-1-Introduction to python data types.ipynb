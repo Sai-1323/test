{
 "cells": [
  {
   "cell_type": "markdown",
   "metadata": {
    "id": "4d72UuBEumPO"
   },
   "source": [
    "## WEEK-1"
   ]
  },
  {
   "cell_type": "raw",
   "metadata": {
    "id": "et65cECJumPQ"
   },
   "source": [
    "1.\tIntroduction to python datatypes-lists,tuples,Dictionaries\n",
    "2.\tNumpy-ndarrays"
   ]
  },
  {
   "cell_type": "markdown",
   "metadata": {
    "id": "hjtuleTQumPR"
   },
   "source": [
    "![](image1.jpg)\n"
   ]
  },
  {
   "cell_type": "markdown",
   "metadata": {
    "id": "X0sLe-zdVcQU"
   },
   "source": []
  },
  {
   "cell_type": "raw",
   "metadata": {
    "id": "AmLv8dYKumPR"
   },
   "source": [
    "Lists:\n",
    "\n",
    "> Indented block\n",
    "\n",
    "\n",
    "1.They are just like the arrays declared in other languages. \n",
    "2.list need not be always homogeneous.\n",
    "3.lists are ordered\n",
    "4.allows duplicates\n",
    "5.A single list can contain strings, integers, as well as objects. \n",
    "6.Lists are mutable, i.e., they can be altered once declared."
   ]
  },
  {
   "cell_type": "raw",
   "metadata": {
    "id": "tLIMFoLcumPR"
   },
   "source": [
    "Tuples: \n",
    "1.A tuple is a sequence of immutable Python objects. \n",
    "2.Tuples are usually faster than lists."
   ]
  },
  {
   "cell_type": "raw",
   "metadata": {
    "id": "MSC_7WMNumPS"
   },
   "source": [
    "Dictionary:\n",
    "1.a Python dictionary holds key-value pairs. \n",
    "2.To declare a Python dictionary, we use curly braces. "
   ]
  },
  {
   "cell_type": "markdown",
   "metadata": {
    "id": "xx3ixH9_umPS"
   },
   "source": [
    "\n",
    "\n",
    "```\n",
    "# This is formatted as code\n",
    "```\n",
    "\n",
    "### Knowing the current working directory"
   ]
  },
  {
   "cell_type": "code",
   "execution_count": null,
   "metadata": {
    "id": "DhdmzL1DumPS",
    "outputId": "589ced90-e5ea-4325-ebf1-e82aa67b37f1"
   },
   "outputs": [
    {
     "data": {
      "text/plain": [
       "'/Users/dhanasreedevi/Desktop/CVR-Data sciences/LAB'"
      ]
     },
     "execution_count": 1,
     "metadata": {
      "tags": []
     },
     "output_type": "execute_result"
    }
   ],
   "source": [
    "import os\n",
    "os.getcwd()\n"
   ]
  },
  {
   "cell_type": "code",
   "execution_count": null,
   "metadata": {
    "id": "oBhh3GgNumPU"
   },
   "outputs": [],
   "source": [
    "os.chdir('/Users/dhanasreedevi/Desktop/CVR-Data sciences/LAB')"
   ]
  },
  {
   "cell_type": "code",
   "execution_count": null,
   "metadata": {
    "id": "6nFuBV7eumPU",
    "outputId": "5b8bce78-1e99-407f-8abc-62da909dd69f"
   },
   "outputs": [
    {
     "data": {
      "text/plain": [
       "'/Users/dhanasreedevi/Desktop/CVR-Data sciences/LAB'"
      ]
     },
     "execution_count": 3,
     "metadata": {
      "tags": []
     },
     "output_type": "execute_result"
    }
   ],
   "source": [
    "os.getcwd()"
   ]
  },
  {
   "cell_type": "markdown",
   "metadata": {
    "id": "5rVLDcdsumPV"
   },
   "source": [
    "## working with Lists:"
   ]
  },
  {
   "cell_type": "code",
   "execution_count": null,
   "metadata": {
    "id": "az90sA5jumPV",
    "outputId": "ade79eae-114a-4df3-8c20-466e6915413e"
   },
   "outputs": [
    {
     "name": "stdout",
     "output_type": "stream",
     "text": [
      "['C++', 'Python', 'Scratch']\n",
      "[1, 'c++', 2.5]\n",
      "[1, 1, 'dark']\n",
      "[1, [2, 3], (4, 5), False, 'No']\n"
     ]
    }
   ],
   "source": [
    "# declaring list and printing it\n",
    "languages=['C++','Python','Scratch'] # homogeneous\n",
    "list1=[1,'c++',2.5] # need not be homogeneous\n",
    "list2=[1,1,'dark'] # allows duplicates\n",
    "list3=[1,[2,3],(4,5),False,'No'] #collection of hetrogeneous python objects\n",
    "print(languages)\n",
    "print(list1)\n",
    "print(list2)\n",
    "print(list3)"
   ]
  },
  {
   "cell_type": "code",
   "execution_count": null,
   "metadata": {
    "id": "tLPTqBGoumPV",
    "outputId": "b5916bde-0d62-4bbe-b649-7141a798ff9d"
   },
   "outputs": [
    {
     "name": "stdout",
     "output_type": "stream",
     "text": [
      "[1, 1, 'dark']\n",
      "[1, 8.9, 'dark']\n"
     ]
    }
   ],
   "source": [
    "#list is mutable\n",
    "list1=[1,1,'dark']\n",
    "print(list2) #before changing\n",
    "list2[1]=8.9\n",
    "print(list2)"
   ]
  },
  {
   "cell_type": "code",
   "execution_count": null,
   "metadata": {
    "id": "rm-67hS9umPV",
    "outputId": "8fbab26f-e1bd-4ed7-ed11-92697d1d15a0"
   },
   "outputs": [
    {
     "name": "stdout",
     "output_type": "stream",
     "text": [
      "[1, 2]\n"
     ]
    }
   ],
   "source": [
    "#deleting from list, mutability\n",
    "list1=[1,2,3,4,5]\n",
    "del list1[2:]\n",
    "print(list1)"
   ]
  },
  {
   "cell_type": "code",
   "execution_count": null,
   "metadata": {
    "id": "acHEaLHzumPW",
    "outputId": "8903a49d-64db-46b5-8821-396b903b1b9c"
   },
   "outputs": [
    {
     "name": "stdout",
     "output_type": "stream",
     "text": [
      "<class 'list'>\n",
      "<class 'list'>\n"
     ]
    }
   ],
   "source": [
    "#what is the datatype of list\n",
    "print(type(list1))\n",
    "print(type(list3))"
   ]
  },
  {
   "cell_type": "code",
   "execution_count": null,
   "metadata": {
    "id": "OUh7Z9zDumPW",
    "outputId": "10925627-715b-4bde-8586-1dcb95b27415"
   },
   "outputs": [
    {
     "name": "stdout",
     "output_type": "stream",
     "text": [
      "[1, 2, 3, 4, 5, 6]\n",
      "6\n",
      "the list element at index 1 is: 2\n",
      "the element 4 is at an index of: 3\n"
     ]
    }
   ],
   "source": [
    "# indexing\n",
    "l1=[1,2,3,4,5,6]\n",
    "print(l1) #display the list\n",
    "print(l1[-1])# negative indexing\n",
    "print(\"the list element at index 1 is:\", l1[1]) #positive indexing starts from 0\n",
    "\n",
    "#can use .index method\n",
    "print(\"the element 4 is at an index of:\",l1.index(4))"
   ]
  },
  {
   "cell_type": "code",
   "execution_count": null,
   "metadata": {
    "id": "KTTdns1eumPW",
    "outputId": "cb19a0d3-513b-4fce-c788-9f135064fe04"
   },
   "outputs": [
    {
     "name": "stdout",
     "output_type": "stream",
     "text": [
      "[1, 2, 3, 4, 5, 6, 7]\n",
      "the slice of list: [1, 2, 3]\n",
      "the slice of list: [5, 6]\n",
      "the slice of list: [1, 2, 3]\n",
      "the slice of list: []\n",
      "the slice of list: [1, 2, 3, 4]\n"
     ]
    }
   ],
   "source": [
    "#slicing using the slicing operator [:] \n",
    "l1=[1,2,3,4,5,6,7]\n",
    "print(l1)\n",
    "print(\"the slice of list:\",l1[0:3])\n",
    "print(\"the slice of list:\",l1[4:6])\n",
    "print(\"the slice of list:\",l1[:3]) #default slicing starts from 0\n",
    "print(\"the slice of list:\",l1[-1:-3]) #no negative slicing\n",
    "print(\"the slice of list:\",l1[:-3])\n"
   ]
  },
  {
   "cell_type": "code",
   "execution_count": null,
   "metadata": {
    "id": "3QZIinh4umPX",
    "outputId": "5526319f-392f-434f-b1d8-6c54f82183e5"
   },
   "outputs": [
    {
     "name": "stdout",
     "output_type": "stream",
     "text": [
      "[]\n",
      "[1]\n",
      "[1, 'frank']\n",
      "[1, 'frank', [100, 'data']]\n"
     ]
    }
   ],
   "source": [
    "#creating an empty list and adding elements using append method\n",
    "l1=[]\n",
    "print(l1) #empty list\n",
    "#use .append method (built-in method) to add elements to the empty list\n",
    "l1.append(1)\n",
    "print(l1)\n",
    "l1.append('frank')\n",
    "print(l1)\n",
    "#can also use .extend\n",
    "#l1.extend(100,'data') # error, use input as list while using extend\n",
    "#print(l1)\n",
    "l1.append([100,'data'])\n",
    "print(l1)\n"
   ]
  },
  {
   "cell_type": "raw",
   "metadata": {
    "id": "VdMmi2H3umPX"
   },
   "source": [
    "List comprehensions:\n",
    "\n",
    "1. List comprehension which provides a neat way of creating new lists. \n",
    "2. here new lists are created by applying an operation on each element \n",
    "   of an existing list using for loops \n"
   ]
  },
  {
   "cell_type": "code",
   "execution_count": null,
   "metadata": {
    "id": "PDKpO6hmumPX",
    "outputId": "1facfad2-99c3-4c23-a6e1-880125b75bd8"
   },
   "outputs": [
    {
     "name": "stdout",
     "output_type": "stream",
     "text": [
      "[1, 4, 9, 16]\n"
     ]
    }
   ],
   "source": [
    "#using list compprehension to extract list of squares\n",
    "list1=[1,2,3,4]\n",
    "square=[]\n",
    "for x in list1:\n",
    "    square.append(x**2)\n",
    "print(square)"
   ]
  },
  {
   "cell_type": "code",
   "execution_count": null,
   "metadata": {
    "id": "Lz67N9rDumPX",
    "outputId": "22d8b0e7-05bc-461d-da93-805be79611cc"
   },
   "outputs": [
    {
     "data": {
      "text/plain": [
       "[4, 16, 36]"
      ]
     },
     "execution_count": 12,
     "metadata": {
      "tags": []
     },
     "output_type": "execute_result"
    }
   ],
   "source": [
    "#other way\n",
    "list1=[2,4,6]\n",
    "square=[x**2 for x in list1] # true form of list comprehension\n",
    "square"
   ]
  },
  {
   "cell_type": "code",
   "execution_count": null,
   "metadata": {
    "id": "iaIa5xRkumPY",
    "outputId": "20ffed20-fd39-4c81-ee14-168cb4b11c87"
   },
   "outputs": [
    {
     "name": "stdout",
     "output_type": "stream",
     "text": [
      "[0, 1, 2, 3, 4, 5, 6, 7, 8, 9]\n",
      "length of l1: 10\n"
     ]
    }
   ],
   "source": [
    "#using list,range,length functions\n",
    "l1=list(range(10))\n",
    "print(l1)\n",
    "print(\"length of l1:\",len(l1))"
   ]
  },
  {
   "cell_type": "raw",
   "metadata": {
    "id": "xhusFqcRumPY"
   },
   "source": [
    "Assignment 1: \n",
    "    1. use list comprehension to create a \n",
    "       list of cubes of even numbers upto 20"
   ]
  },
  {
   "cell_type": "code",
   "execution_count": null,
   "metadata": {
    "id": "_eNQS-yLumPY"
   },
   "outputs": [],
   "source": []
  },
  {
   "cell_type": "markdown",
   "metadata": {
    "id": "xB1szM93umPY"
   },
   "source": [
    "## working with tuples"
   ]
  },
  {
   "cell_type": "code",
   "execution_count": null,
   "metadata": {
    "colab": {
     "base_uri": "https://localhost:8080/"
    },
    "executionInfo": {
     "elapsed": 13,
     "status": "ok",
     "timestamp": 1625806747680,
     "user": {
      "displayName": "anjum firdos",
      "photoUrl": "",
      "userId": "06507804691827422152"
     },
     "user_tz": -330
    },
    "id": "RKy4POqkumPY",
    "outputId": "e6b441c3-9754-4214-afb2-a8fe4589ef8b"
   },
   "outputs": [
    {
     "name": "stdout",
     "output_type": "stream",
     "text": [
      "('Red', 'Green', 'Blue')\n",
      "<class 'tuple'>\n"
     ]
    }
   ],
   "source": [
    "#declaring tuple\n",
    "colors=('Red','Green','Blue')\n",
    "print(colors)\n",
    "print(type(colors))"
   ]
  },
  {
   "cell_type": "code",
   "execution_count": null,
   "metadata": {
    "colab": {
     "base_uri": "https://localhost:8080/"
    },
    "executionInfo": {
     "elapsed": 323,
     "status": "ok",
     "timestamp": 1625806755688,
     "user": {
      "displayName": "anjum firdos",
      "photoUrl": "",
      "userId": "06507804691827422152"
     },
     "user_tz": -330
    },
    "id": "XHEwJSGDumPY",
    "outputId": "712141b8-64a7-49c1-d1d9-5bb95c98d370"
   },
   "outputs": [
    {
     "name": "stdout",
     "output_type": "stream",
     "text": [
      "1\n",
      "5\n"
     ]
    }
   ],
   "source": [
    "#indexing \n",
    "t1=(1,2,3,4,5)\n",
    "print(t1[0])\n",
    "print(t1[-1])"
   ]
  },
  {
   "cell_type": "code",
   "execution_count": null,
   "metadata": {
    "colab": {
     "base_uri": "https://localhost:8080/"
    },
    "executionInfo": {
     "elapsed": 742,
     "status": "ok",
     "timestamp": 1625806767435,
     "user": {
      "displayName": "anjum firdos",
      "photoUrl": "",
      "userId": "06507804691827422152"
     },
     "user_tz": -330
    },
    "id": "sW7AoJOPumPZ",
    "outputId": "98e9c076-aabe-4481-aefd-01ccfedfa749"
   },
   "outputs": [
    {
     "name": "stdout",
     "output_type": "stream",
     "text": [
      "(2, 3)\n",
      "(1, 2)\n"
     ]
    }
   ],
   "source": [
    "#slicing\n",
    "t2=(1,2,3,4,5,6)\n",
    "print(t2[1:3])\n",
    "print(t1[:-3])"
   ]
  },
  {
   "cell_type": "markdown",
   "metadata": {
    "id": "d2AFziZwumPZ"
   },
   "source": [
    "## working with dictionaries"
   ]
  },
  {
   "cell_type": "code",
   "execution_count": null,
   "metadata": {
    "id": "qswo_1tzumPZ",
    "outputId": "aefb691d-4f40-437f-fb18-cda4697f6ebd",
    "scrolled": true
   },
   "outputs": [
    {
     "name": "stdout",
     "output_type": "stream",
     "text": [
      "{}\n",
      "{1: 'apple', 2: 'ball'}\n",
      "{'name': 'John', 1: [2, 4, 3]}\n",
      "{1: 'apple', 2: 'ball'}\n"
     ]
    }
   ],
   "source": [
    "dict1 = {} # empty dictionary\n",
    "\n",
    "# dictionary with integer keys\n",
    "dict2 = {1: 'apple', 2: 'ball'}\n",
    "\n",
    "# dictionary with mixed keys\n",
    "dict3 = {'name': 'John', 1: [2, 4, 3]}\n",
    "\n",
    "# using dict()dict4 = dict({1:'apple', 2:'ball'})\n",
    "\n",
    "# from sequence having each item as a pair\n",
    "dict4= dict([(1,'apple'), (2,'ball')])\n",
    "print(dict1)\n",
    "print(dict2)\n",
    "print(dict3)\n",
    "print(dict4)\n"
   ]
  },
  {
   "cell_type": "code",
   "execution_count": null,
   "metadata": {
    "id": "y6KQyRUOumPZ"
   },
   "outputs": [],
   "source": [
    "                            #####################"
   ]
  }
 ],
 "metadata": {
  "colab": {
   "collapsed_sections": [],
   "name": "Week-1-Introduction to python data types.ipynb",
   "provenance": []
  },
  "kernelspec": {
   "display_name": "Python 3 (ipykernel)",
   "language": "python",
   "name": "python3"
  },
  "language_info": {
   "codemirror_mode": {
    "name": "ipython",
    "version": 3
   },
   "file_extension": ".py",
   "mimetype": "text/x-python",
   "name": "python",
   "nbconvert_exporter": "python",
   "pygments_lexer": "ipython3",
   "version": "3.9.7"
  }
 },
 "nbformat": 4,
 "nbformat_minor": 1
}
